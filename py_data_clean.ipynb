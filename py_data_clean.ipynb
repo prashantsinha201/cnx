{
 "cells": [
  {
   "cell_type": "code",
   "execution_count": 1,
   "metadata": {},
   "outputs": [],
   "source": [
    "#load required packages\n",
    "import pandas as pd\n",
    "import re\n",
    "import datetime\n",
    "import numpy as np\n",
    "import math\n",
    "import pickle\n",
    "np.random.seed(0)"
   ]
  },
  {
   "cell_type": "code",
   "execution_count": 2,
   "metadata": {},
   "outputs": [],
   "source": [
    "df = pd.read_excel(\"s2 dump 27 July till date.xlsx\")"
   ]
  },
  {
   "cell_type": "code",
   "execution_count": 4,
   "metadata": {},
   "outputs": [],
   "source": [
    "df1 = df.copy()"
   ]
  },
  {
   "cell_type": "code",
   "execution_count": 5,
   "metadata": {},
   "outputs": [
    {
     "data": {
      "text/plain": [
       "7.0    423\n",
       "6.0    130\n",
       "1.0     55\n",
       "5.0      4\n",
       "4.0      1\n",
       "3.0      1\n",
       "Name: csat_score, dtype: int64"
      ]
     },
     "execution_count": 5,
     "metadata": {},
     "output_type": "execute_result"
    }
   ],
   "source": [
    "df1.csat_score.value_counts()"
   ]
  },
  {
   "cell_type": "code",
   "execution_count": 62,
   "metadata": {},
   "outputs": [
    {
     "data": {
      "text/plain": [
       "vertical                           csat_score\n",
       "AE - Branding                      7.0            7\n",
       "App                                6.0            2\n",
       "                                   7.0           20\n",
       "Automotive 1                       6.0            1\n",
       "                                   7.0           39\n",
       "Automotive 2                       5.0            1\n",
       "                                   7.0           59\n",
       "Branded Apparel & Durables         1.0            1\n",
       "                                   7.0            4\n",
       "Business & Industrial Markets      7.0            1\n",
       "Consumer Packaged Goods            7.0           14\n",
       "ES - Performers                    7.0            2\n",
       "ES - Transformers                  7.0           14\n",
       "Education                          6.0            1\n",
       "Evolve                             6.0            1\n",
       "                                   7.0            2\n",
       "Finance                            7.0            1\n",
       "Financial Services - Central/West  6.0            2\n",
       "                                   7.0            2\n",
       "Financial Services - East          1.0            5\n",
       "                                   6.0            1\n",
       "                                   7.0            6\n",
       "Food, Beverages, Restaurants       6.0           35\n",
       "                                   7.0           83\n",
       "GB - CPG & Auto                    6.0            1\n",
       "GB - Consumer Retail               6.0            1\n",
       "                                   7.0            5\n",
       "GB - Finance & Services            7.0            8\n",
       "GB - Tech, Media, Telecom          7.0            1\n",
       "Health Systems                     7.0            3\n",
       "                                                 ..\n",
       "Performance                        6.0            1\n",
       "Personals, IAC, and Careers        1.0            1\n",
       "                                   5.0            1\n",
       "                                   6.0           11\n",
       "                                   7.0            1\n",
       "Pharma & OTC                       7.0            3\n",
       "Retail                             1.0            1\n",
       "                                   7.0            4\n",
       "Retail & Services                  3.0            1\n",
       "                                   4.0            1\n",
       "                                   6.0            1\n",
       "Retail - Big Box                   7.0            6\n",
       "Retail - Pure Play                 1.0            1\n",
       "                                   7.0           40\n",
       "Retail - Specialty                 1.0            1\n",
       "SG - SG - Singapore Hub            6.0            4\n",
       "                                   7.0            6\n",
       "Services All Verticals             5.0            1\n",
       "                                   6.0            1\n",
       "Tech B2B                           1.0           42\n",
       "                                   6.0            8\n",
       "Technology - Consumer Electronics  7.0            1\n",
       "Travel                             7.0            2\n",
       "Travel - East                      6.0            1\n",
       "                                   7.0           20\n",
       "Travel - West                      5.0            1\n",
       "                                   6.0            2\n",
       "                                   7.0           14\n",
       "Uncategorized                      6.0            1\n",
       "                                   7.0            6\n",
       "Length: 70, dtype: int64"
      ]
     },
     "execution_count": 62,
     "metadata": {},
     "output_type": "execute_result"
    }
   ],
   "source": [
    "df1.groupby(['vertical','csat_score']).size()"
   ]
  },
  {
   "cell_type": "code",
   "execution_count": 58,
   "metadata": {},
   "outputs": [
    {
     "data": {
      "text/plain": [
       "['Household',\n",
       " 'Tech/Telco, Entertainment & Local',\n",
       " 'NZ - New Zealand',\n",
       " 'Personal Care',\n",
       " 'Food & Beverage > Supermarket/Grocery',\n",
       " 'GB - Tech, Media, Telecom',\n",
       " 'GB - Lifestyle Retail',\n",
       " 'JP - Branding and Offline Retailers',\n",
       " 'MY - Unsectored',\n",
       " 'AU - T-Rex',\n",
       " 'Automotive 1',\n",
       " 'SG - SG - APAC Travel',\n",
       " 'PH - Unsectored',\n",
       " 'Automotive 2',\n",
       " 'Restaurants & Bars',\n",
       " 'Travel - West',\n",
       " 'Consumer Goods & Auto',\n",
       " 'Classifieds & Local',\n",
       " 'Pharma & OTC',\n",
       " 'Retail - Big Box',\n",
       " 'JP - Recruit, Career, and Travel',\n",
       " 'SG - SG - Singapore Hub',\n",
       " 'GB - Travel',\n",
       " 'AU - Psi-Fi',\n",
       " 'GB - Finance & Services',\n",
       " 'ES - Transformers',\n",
       " 'GB - CPG & Auto',\n",
       " 'Financial Services - Central/West',\n",
       " 'Performance',\n",
       " 'Tech B2B',\n",
       " 'Home & Consumer Services',\n",
       " 'ES - Performers',\n",
       " 'Business & Industrial Markets',\n",
       " 'Retail & Services',\n",
       " 'TW - Tech+Telco+Export',\n",
       " 'Uncategorized',\n",
       " 'Education',\n",
       " 'AU - ACME',\n",
       " 'Health Systems',\n",
       " 'JP - Pureplayers and Apps',\n",
       " 'Integrated Solutions',\n",
       " 'AU - gCute',\n",
       " 'GB - Consumer Retail',\n",
       " 'Evolve',\n",
       " 'IE - Unsectored',\n",
       " 'AE - Branding',\n",
       " 'Travel - East']"
      ]
     },
     "execution_count": 58,
     "metadata": {},
     "output_type": "execute_result"
    }
   ],
   "source": [
    "notin = []\n",
    "for i in list(set(df1.vertical.tolist())):\n",
    "    if i not in l_vertical:\n",
    "        notin.append(i)\n",
    "notin"
   ]
  },
  {
   "cell_type": "code",
   "execution_count": 8,
   "metadata": {},
   "outputs": [],
   "source": [
    "gc = pd.read_excel(\"Google Capacity Outlook - WS 16th April-2018 (1).xlsx\", sheet_name='Raw Headcount', skiprows=1)"
   ]
  },
  {
   "cell_type": "code",
   "execution_count": 9,
   "metadata": {},
   "outputs": [
    {
     "data": {
      "text/plain": [
       "4056"
      ]
     },
     "execution_count": 9,
     "metadata": {},
     "output_type": "execute_result"
    }
   ],
   "source": [
    "len(df)"
   ]
  },
  {
   "cell_type": "code",
   "execution_count": 10,
   "metadata": {},
   "outputs": [],
   "source": [
    "df['a.assignee_username'] = df['a.assignee_username'].str.lower()\n",
    "gc[\"LDAP\"] = gc[\"LDAP\"].str.lower()"
   ]
  },
  {
   "cell_type": "code",
   "execution_count": 11,
   "metadata": {},
   "outputs": [],
   "source": [
    "ldap = gc.LDAP.tolist()"
   ]
  },
  {
   "cell_type": "code",
   "execution_count": 12,
   "metadata": {},
   "outputs": [],
   "source": [
    "df[\"yes_tenure\"] = df[\"a.assignee_username\"].isin(ldap)"
   ]
  },
  {
   "cell_type": "code",
   "execution_count": 13,
   "metadata": {},
   "outputs": [],
   "source": [
    "df = df[df.yes_tenure == True]"
   ]
  },
  {
   "cell_type": "code",
   "execution_count": 14,
   "metadata": {},
   "outputs": [],
   "source": [
    "tenure = []\n",
    "for i in range(0,len(df)):\n",
    "    index = np.where(gc.LDAP == df.iloc[i,0])\n",
    "    if df.iloc[i,0] in ldap:\n",
    "        tenure.append(gc.loc[[index[0][0]]][\"Tenure\"].values[0])\n",
    "    else:\n",
    "        df.drop(df.drop[index[0][0]])"
   ]
  },
  {
   "cell_type": "code",
   "execution_count": 15,
   "metadata": {},
   "outputs": [],
   "source": [
    "df[\"tenure\"] = tenure"
   ]
  },
  {
   "cell_type": "code",
   "execution_count": 16,
   "metadata": {},
   "outputs": [],
   "source": [
    "df = df.fillna(0)"
   ]
  },
  {
   "cell_type": "code",
   "execution_count": 17,
   "metadata": {},
   "outputs": [],
   "source": [
    "df = df[df.csat_score !=0]"
   ]
  },
  {
   "cell_type": "code",
   "execution_count": 18,
   "metadata": {},
   "outputs": [],
   "source": [
    "ix = df.columns.get_loc(\"csat_score\")\n",
    "for i in range(0,len(df)):\n",
    "    if df.iloc[i,ix] >5:\n",
    "        df.iloc[i,ix] = 0\n",
    "    else:\n",
    "        df.iloc[i,ix] = 1"
   ]
  },
  {
   "cell_type": "code",
   "execution_count": 19,
   "metadata": {},
   "outputs": [],
   "source": [
    "v_df = [\"vertical\",\"sub_sector\",\"a.total_number_of_interactions\",\"vertical_cerebro\",\"search_report_category\",\"sector\",\"priority\",\n",
    "       \"child\",\"tenure\",\"reporting_product_type\",\"frequency_of_report\",\"youtube_report_category\",\"GDN_report_category\",\"bulk_flag\",\n",
    "       \"urgent_flag\",\"Parent_flag\",\"sub_region\",\"recurring_flag\",\"csat_score\",\"master_case_flag\",\"is_neon\", \"case_id\"]"
   ]
  },
  {
   "cell_type": "code",
   "execution_count": 20,
   "metadata": {},
   "outputs": [],
   "source": [
    "df = df.loc[:,v_df]"
   ]
  },
  {
   "cell_type": "code",
   "execution_count": 21,
   "metadata": {},
   "outputs": [],
   "source": [
    "with open(r\"vertical.txt\", \"rb\") as input_file:\n",
    "    l_vertical = pickle.load(input_file)"
   ]
  },
  {
   "cell_type": "code",
   "execution_count": 22,
   "metadata": {},
   "outputs": [],
   "source": [
    "df = df[df.vertical.isin(l_vertical)]"
   ]
  },
  {
   "cell_type": "code",
   "execution_count": 23,
   "metadata": {},
   "outputs": [],
   "source": [
    "ix = df.columns.get_loc(\"vertical\")\n",
    "for i in range(0,len(df)):\n",
    "    if df.iloc[i,ix] in l_vertical:\n",
    "        df.iloc[i,ix] = l_vertical.index(df.iloc[i,ix])"
   ]
  },
  {
   "cell_type": "code",
   "execution_count": 24,
   "metadata": {},
   "outputs": [],
   "source": [
    "with open(r\"sub_sector.txt\", \"rb\") as input_file:\n",
    "    l_subsector = pickle.load(input_file)\n",
    "df = df[df.sub_sector.isin(l_subsector)]\n",
    "ix = df.columns.get_loc(\"sub_sector\")\n",
    "for i in range(0,len(df)):\n",
    "    if df.iloc[i,ix] in l_subsector:\n",
    "        df.iloc[i,ix] = l_subsector.index(df.iloc[i,ix])"
   ]
  },
  {
   "cell_type": "code",
   "execution_count": 25,
   "metadata": {},
   "outputs": [],
   "source": [
    "with open(r\"vertical_cerebro.txt\", \"rb\") as input_file:\n",
    "    l_vc = pickle.load(input_file)\n",
    "df = df[df.vertical_cerebro.isin(l_vc)]\n",
    "ix = df.columns.get_loc(\"vertical_cerebro\")\n",
    "for i in range(0,len(df)):\n",
    "    if df.iloc[i,ix] in l_vc:\n",
    "        df.iloc[i,ix] = l_vc.index(df.iloc[i,ix])"
   ]
  },
  {
   "cell_type": "code",
   "execution_count": 26,
   "metadata": {},
   "outputs": [],
   "source": [
    "with open(r\"l_spc.txt\", \"rb\") as input_file:\n",
    "    l_spc = pickle.load(input_file)\n",
    "df = df[df.search_report_category.isin(l_spc)]\n",
    "\n"
   ]
  },
  {
   "cell_type": "code",
   "execution_count": 27,
   "metadata": {},
   "outputs": [],
   "source": [
    "with open(r\"sector.txt\", \"rb\") as input_file:\n",
    "    l_sector = pickle.load(input_file)\n",
    "df = df[df.sector.isin(l_sector)]\n",
    "ix = df.columns.get_loc(\"sector\")\n",
    "for i in range(0,len(df)):\n",
    "    if df.iloc[i,ix] in l_sector:\n",
    "        df.iloc[i,ix] = l_sector.index(df.iloc[i,ix])"
   ]
  },
  {
   "cell_type": "code",
   "execution_count": 28,
   "metadata": {},
   "outputs": [],
   "source": [
    "with open(r\"l_yrc.txt\", \"rb\") as input_file:\n",
    "    l_yrc = pickle.load(input_file)\n",
    "df = df[df.youtube_report_category.isin(l_yrc)]"
   ]
  },
  {
   "cell_type": "code",
   "execution_count": 29,
   "metadata": {},
   "outputs": [],
   "source": [
    "df = df[~df.GDN_report_category.isin([\"ad_format_extensions\",\"mobile\"])]"
   ]
  },
  {
   "cell_type": "code",
   "execution_count": 30,
   "metadata": {},
   "outputs": [],
   "source": [
    "df = df[df.sub_region.isin([\"United States (Region)\",\"UK/IE\",\"SEA\",\"Canada (Region)\"])]#,\"Russia/Middle East/Africa\",\"AU/NZ\",\"FR/IT/ES/PT\"])]"
   ]
  },
  {
   "cell_type": "code",
   "execution_count": 31,
   "metadata": {},
   "outputs": [],
   "source": [
    "ix = df.columns.get_loc(\"a.total_number_of_interactions\")\n",
    "for i in range(0,len(df)):\n",
    "    if df.iloc[i,ix] > 7:\n",
    "        df.iloc[i,ix] = 8"
   ]
  },
  {
   "cell_type": "code",
   "execution_count": 32,
   "metadata": {},
   "outputs": [],
   "source": [
    "ix = df.columns.get_loc(\"bulk_flag\")\n",
    "for i in range(0,len(df)):\n",
    "    if df.iloc[i,ix] == True:\n",
    "        df.iloc[i,ix] = 1\n",
    "    else:\n",
    "        df.iloc[i,ix] = 0"
   ]
  },
  {
   "cell_type": "code",
   "execution_count": 33,
   "metadata": {},
   "outputs": [],
   "source": [
    "ix = df.columns.get_loc(\"child\")\n",
    "for i in range(0,len(df)):\n",
    "    if df.iloc[i,ix] !=0:\n",
    "        df.iloc[i,ix] = 1"
   ]
  },
  {
   "cell_type": "code",
   "execution_count": 34,
   "metadata": {},
   "outputs": [],
   "source": [
    "ix = df.columns.get_loc(\"frequency_of_report\")\n",
    "for i in range(0,len(df)):\n",
    "    if df.iloc[i,ix] == \"daily\":\n",
    "        df.iloc[i,ix] = 1\n",
    "    elif df.iloc[i,ix] == \"monthly\":\n",
    "        df.iloc[i,ix] = 2\n",
    "    elif df.iloc[i,ix] == \"weekly\":\n",
    "        df.iloc[i,ix] = 3"
   ]
  },
  {
   "cell_type": "code",
   "execution_count": 35,
   "metadata": {},
   "outputs": [],
   "source": [
    "ix = df.columns.get_loc(\"GDN_report_category\")\n",
    "for i in range(0,len(df)):\n",
    "    if df.iloc[i,ix] == \"budget\":\n",
    "        df.iloc[i,ix] = 1\n",
    "    elif df.iloc[i,ix] == \"custom\":\n",
    "        df.iloc[i,ix] = 2\n",
    "    elif df.iloc[i,ix] == \"mapps\":\n",
    "        df.iloc[i,ix] = 3\n",
    "    elif df.iloc[i,ix] == \"targeting_performance\":\n",
    "        df.iloc[i,ix] = 4"
   ]
  },
  {
   "cell_type": "code",
   "execution_count": 36,
   "metadata": {},
   "outputs": [],
   "source": [
    "ix = df.columns.get_loc(\"is_neon\")\n",
    "for i in range(0,len(df)):\n",
    "    if df.iloc[i,ix] == \"no\":\n",
    "        df.iloc[i,ix] = 0\n",
    "    else:\n",
    "        df.iloc[i,ix] = 1"
   ]
  },
  {
   "cell_type": "code",
   "execution_count": 37,
   "metadata": {},
   "outputs": [],
   "source": [
    "ix = df.columns.get_loc(\"master_case_flag\")\n",
    "for i in range(0,len(df)):\n",
    "    if df.iloc[i,ix] == False:\n",
    "        df.iloc[i,ix] = 0\n",
    "    else:\n",
    "        df.iloc[i,ix] = 1"
   ]
  },
  {
   "cell_type": "code",
   "execution_count": 38,
   "metadata": {},
   "outputs": [],
   "source": [
    "ix = df.columns.get_loc(\"Parent_flag\")\n",
    "for i in range(0,len(df)):\n",
    "    if df.iloc[i,ix] == False:\n",
    "        df.iloc[i,ix] = 0\n",
    "    else:\n",
    "        df.iloc[i,ix] = 1"
   ]
  },
  {
   "cell_type": "code",
   "execution_count": 39,
   "metadata": {},
   "outputs": [],
   "source": [
    "ix = df.columns.get_loc(\"priority\")\n",
    "for i in range(0,len(df)):\n",
    "    if df.iloc[i,ix] == \"Normal\":\n",
    "        df.iloc[i,ix] = 1\n",
    "    elif df.iloc[i,ix] == \"Urgent\":\n",
    "        df.iloc[i,ix] = 2\n",
    "    else:\n",
    "        df.iloc[i,ix] = 0"
   ]
  },
  {
   "cell_type": "code",
   "execution_count": 40,
   "metadata": {},
   "outputs": [],
   "source": [
    "ix = df.columns.get_loc(\"recurring_flag\")\n",
    "for i in range(0,len(df)):\n",
    "    if df.iloc[i,ix] == \"no\":\n",
    "        df.iloc[i,ix] = 0\n",
    "    else:\n",
    "        df.iloc[i,ix] = 1"
   ]
  },
  {
   "cell_type": "code",
   "execution_count": 41,
   "metadata": {},
   "outputs": [],
   "source": [
    "ix = df.columns.get_loc(\"reporting_product_type\")\n",
    "for i in range(0,len(df)):\n",
    "    if df.iloc[i,ix] == \"gdn\":\n",
    "        df.iloc[i,ix] = 0\n",
    "    elif df.iloc[i,ix] == \"search\":\n",
    "        df.iloc[i,ix] = 1\n",
    "    elif df.iloc[i,ix] == \"youtube\":\n",
    "        df.iloc[i,ix] = 2"
   ]
  },
  {
   "cell_type": "code",
   "execution_count": 42,
   "metadata": {},
   "outputs": [],
   "source": [
    "ix = df.columns.get_loc(\"search_report_category\")\n",
    "for i in range(0,len(df)):\n",
    "    if df.iloc[i,ix] == \"account_audit\":\n",
    "        df.iloc[i,ix] = 1\n",
    "    elif df.iloc[i,ix] == \"ad_text\":\n",
    "        df.iloc[i,ix] = 2\n",
    "    elif df.iloc[i,ix] == \"auction_insights\":\n",
    "        df.iloc[i,ix] = 3\n",
    "    elif df.iloc[i,ix] == \"audience_audit\":\n",
    "        df.iloc[i,ix] = 4\n",
    "    elif df.iloc[i,ix] == \"budget\":\n",
    "        df.iloc[i,ix] = 5\n",
    "    elif df.iloc[i,ix] == \"custom\":\n",
    "        df.iloc[i,ix] = 6\n",
    "    elif df.iloc[i,ix] == \"ropps_vendorization\":\n",
    "        df.iloc[i,ix] = 7"
   ]
  },
  {
   "cell_type": "code",
   "execution_count": 43,
   "metadata": {},
   "outputs": [],
   "source": [
    "ix = df.columns.get_loc(\"tenure\")\n",
    "for i in range(0,len(df)):\n",
    "    if df.iloc[i,ix] == \"> 1 Year\":\n",
    "        df.iloc[i,ix] = 3\n",
    "    elif df.iloc[i,ix] == \"6-12 Months\":\n",
    "        df.iloc[i,ix] = 2\n",
    "    elif df.iloc[i,ix] == \"1-2 Months\":\n",
    "        df.iloc[i,ix] = 1\n",
    "    elif df.iloc[i,ix] == \"3-6 Months\":\n",
    "        df.iloc[i,ix] = 0"
   ]
  },
  {
   "cell_type": "code",
   "execution_count": 44,
   "metadata": {},
   "outputs": [],
   "source": [
    "ix = df.columns.get_loc(\"youtube_report_category\")\n",
    "for i in range(0,len(df)):\n",
    "    if df.iloc[i,ix] == \"custom\":\n",
    "        df.iloc[i,ix] = 1\n",
    "    elif df.iloc[i,ix] == \"account_audit_performance\":\n",
    "        df.iloc[i,ix] = 2\n",
    "    elif df.iloc[i,ix] == \"reserve_auction\":\n",
    "        df.iloc[i,ix] = 3"
   ]
  },
  {
   "cell_type": "code",
   "execution_count": 45,
   "metadata": {},
   "outputs": [],
   "source": [
    "ix = df.columns.get_loc(\"urgent_flag\")\n",
    "for i in range(0,len(df)):\n",
    "    if df.iloc[i,ix] == False:\n",
    "        df.iloc[i,ix] = 0\n",
    "    else :\n",
    "        df.iloc[i,ix] = 1"
   ]
  },
  {
   "cell_type": "code",
   "execution_count": 46,
   "metadata": {},
   "outputs": [],
   "source": [
    "with open(r\"sub_region.txt\", \"rb\") as input_file:\n",
    "    sub_region = pickle.load(input_file)\n",
    "ix = df.columns.get_loc(\"sub_region\")\n",
    "for i in range(0,len(df)):\n",
    "    if df.iloc[i,ix] in sub_region:\n",
    "        df.iloc[i,ix] = sub_region.index(df.iloc[i,ix])"
   ]
  },
  {
   "cell_type": "code",
   "execution_count": 47,
   "metadata": {},
   "outputs": [
    {
     "data": {
      "text/plain": [
       "Index(['vertical', 'sub_sector', 'a.total_number_of_interactions',\n",
       "       'vertical_cerebro', 'search_report_category', 'sector', 'priority',\n",
       "       'child', 'tenure', 'reporting_product_type', 'frequency_of_report',\n",
       "       'youtube_report_category', 'GDN_report_category', 'bulk_flag',\n",
       "       'urgent_flag', 'Parent_flag', 'sub_region', 'recurring_flag',\n",
       "       'csat_score', 'master_case_flag', 'is_neon', 'case_id'],\n",
       "      dtype='object')"
      ]
     },
     "execution_count": 47,
     "metadata": {},
     "output_type": "execute_result"
    }
   ],
   "source": [
    "df.columns"
   ]
  },
  {
   "cell_type": "code",
   "execution_count": 51,
   "metadata": {},
   "outputs": [],
   "source": [
    "df.to_csv(\"df_test_27th_april.csv\", index = False)"
   ]
  },
  {
   "cell_type": "code",
   "execution_count": 52,
   "metadata": {},
   "outputs": [],
   "source": [
    "#Modelling"
   ]
  },
  {
   "cell_type": "code",
   "execution_count": 50,
   "metadata": {},
   "outputs": [
    {
     "name": "stderr",
     "output_type": "stream",
     "text": [
      "Using TensorFlow backend.\n"
     ]
    }
   ],
   "source": [
    "import pandas as pd\n",
    "import numpy as np\n",
    "from sklearn.ensemble import RandomForestClassifier\n",
    "from sklearn.model_selection import train_test_split\n",
    "from sklearn.metrics import accuracy_score\n",
    "from sklearn.metrics import confusion_matrix\n",
    "from imblearn.over_sampling import SMOTE\n",
    "from sklearn.metrics import roc_curve, auc\n",
    "np.random.seed(0)\n",
    "import keras\n",
    "from keras.models import Sequential\n",
    "from keras.layers import Dense, Dropout\n",
    "from keras.layers import Flatten\n",
    "from keras.layers.embeddings import Embedding\n",
    "from sklearn.preprocessing import StandardScaler\n",
    "from keras.wrappers.scikit_learn import KerasRegressor\n",
    "from sklearn.pipeline import Pipeline\n",
    "from sklearn.model_selection import KFold\n",
    "from sklearn.model_selection import cross_val_score\n",
    "\n",
    "import numpy\n",
    "import pandas\n",
    "from keras.models import Sequential\n",
    "from keras.layers import Dense\n",
    "from keras.wrappers.scikit_learn import KerasRegressor\n",
    "from sklearn.model_selection import cross_val_score\n",
    "from sklearn.model_selection import KFold\n",
    "from sklearn.preprocessing import StandardScaler\n",
    "from sklearn.pipeline import Pipeline\n",
    "import pandas as pd\n",
    "import numpy as np\n",
    "from sklearn.ensemble import RandomForestClassifier\n",
    "from sklearn.model_selection import train_test_split\n",
    "from sklearn.metrics import accuracy_score\n",
    "from sklearn.metrics import confusion_matrix\n",
    "from imblearn.over_sampling import SMOTE\n",
    "from sklearn.metrics import roc_curve, auc, f1_score\n",
    "np.random.seed(0)\n",
    "from sklearn.utils import class_weight\n",
    "from keras.wrappers.scikit_learn import KerasClassifier\n",
    "from sklearn.model_selection import StratifiedKFold"
   ]
  },
  {
   "cell_type": "code",
   "execution_count": 48,
   "metadata": {},
   "outputs": [],
   "source": [
    "X_test = df.drop([\"csat_score\",\"case_id\"], axis = 1)\n",
    "y_test = df.csat_score"
   ]
  },
  {
   "cell_type": "code",
   "execution_count": 51,
   "metadata": {},
   "outputs": [],
   "source": [
    "model = keras.models.load_model(\"deep_learning_model\")"
   ]
  },
  {
   "cell_type": "code",
   "execution_count": 52,
   "metadata": {},
   "outputs": [],
   "source": [
    "s_predicted = model.predict(X_test)\n",
    "#confusion_matrix(y_test,s_predicted)\n"
   ]
  },
  {
   "cell_type": "code",
   "execution_count": 54,
   "metadata": {},
   "outputs": [],
   "source": [
    "s_predicted1 = s_predicted.copy()"
   ]
  },
  {
   "cell_type": "code",
   "execution_count": 55,
   "metadata": {},
   "outputs": [],
   "source": [
    "for i in range(0,len(s_predicted1)):\n",
    "    if s_predicted1[i][0] < 0.78 :\n",
    "        s_predicted1[i][0] = 0\n",
    "    else :\n",
    "        s_predicted1[i][0] = 1"
   ]
  },
  {
   "cell_type": "code",
   "execution_count": 56,
   "metadata": {},
   "outputs": [
    {
     "data": {
      "text/plain": [
       "array([[155,  97],\n",
       "       [  3,   7]], dtype=int64)"
      ]
     },
     "execution_count": 56,
     "metadata": {},
     "output_type": "execute_result"
    }
   ],
   "source": [
    "confusion_matrix(y_test,s_predicted1)"
   ]
  },
  {
   "cell_type": "code",
   "execution_count": 57,
   "metadata": {},
   "outputs": [
    {
     "name": "stdout",
     "output_type": "stream",
     "text": [
      "0.6575396825396825\n"
     ]
    }
   ],
   "source": [
    "false_positive_rate, true_positive_rate, thresholds = roc_curve(y_test, s_predicted1)\n",
    "roc_auc = auc(false_positive_rate, true_positive_rate)\n",
    "print (roc_auc)"
   ]
  },
  {
   "cell_type": "code",
   "execution_count": null,
   "metadata": {},
   "outputs": [],
   "source": []
  }
 ],
 "metadata": {
  "kernelspec": {
   "display_name": "Python 3",
   "language": "python",
   "name": "python3"
  },
  "language_info": {
   "codemirror_mode": {
    "name": "ipython",
    "version": 3
   },
   "file_extension": ".py",
   "mimetype": "text/x-python",
   "name": "python",
   "nbconvert_exporter": "python",
   "pygments_lexer": "ipython3",
   "version": "3.6.5"
  }
 },
 "nbformat": 4,
 "nbformat_minor": 2
}
