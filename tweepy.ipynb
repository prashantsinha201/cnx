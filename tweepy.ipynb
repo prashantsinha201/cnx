{
 "cells": [
  {
   "cell_type": "code",
   "execution_count": 22,
   "metadata": {},
   "outputs": [],
   "source": [
    "import tweepy\n",
    "import json"
   ]
  },
  {
   "cell_type": "code",
   "execution_count": 2,
   "metadata": {},
   "outputs": [],
   "source": [
    "# Consumer keys and access tokens, used for OAuth\n",
    "consumer_key = 'RYQlJ5EYXslMmqgPQIZYp6LkS'\n",
    "consumer_secret = 'q3CiYTWfWa1egNuuMZehWCpwDSCpZHZle2WDmrYULqUi9BS11b'\n",
    "access_token = '74141815-NGJy15QAvpq799QJbvj4BuDjcOJ5vuDsoMW0Mqku3'\n",
    "access_token_secret = 'GqS5T7fDn22TOScuu7N06iERYuVMsS7a8jPtIrN9weTtg'\n",
    " \n",
    "# OAuth process, using the keys and tokens\n",
    "auth = tweepy.OAuthHandler(consumer_key, consumer_secret)\n",
    "auth.set_access_token(access_token, access_token_secret)\n",
    " \n",
    "# Creation of the actual interface, using authentication\n",
    "api = tweepy.API(auth)\n",
    " \n",
    "# Sample method, used to update a status\n",
    "#api.update_status('Hello Python Central!')"
   ]
  },
  {
   "cell_type": "code",
   "execution_count": 3,
   "metadata": {},
   "outputs": [
    {
     "name": "stdout",
     "output_type": "stream",
     "text": [
      "Name: Woh Ladka\n",
      "Location: New Delhi\n",
      "Friends: 255\n"
     ]
    }
   ],
   "source": [
    "# Creates the user object. The me() method returns the user whose authentication keys were used.\n",
    "user = api.me()\n",
    " \n",
    "print('Name: ' + user.name)\n",
    "print('Location: ' + user.location)\n",
    "print('Friends: ' + str(user.friends_count))"
   ]
  },
  {
   "cell_type": "code",
   "execution_count": 30,
   "metadata": {},
   "outputs": [],
   "source": [
    "q='maggie -filter:retweets'"
   ]
  },
  {
   "cell_type": "code",
   "execution_count": 31,
   "metadata": {},
   "outputs": [],
   "source": [
    "fetched_tweets = api.search(q, count = 10 )\n"
   ]
  },
  {
   "cell_type": "code",
   "execution_count": 44,
   "metadata": {
    "scrolled": false
   },
   "outputs": [
    {
     "name": "stdout",
     "output_type": "stream",
     "text": [
      "1029324034402594816\n",
      "@chdevoogd Tout le monde ne s'appelle pas Maggie https://t.co/bZn29a0cNQ\n",
      "1029324014882357253\n",
      "@openvld @Maggie_DeBlock Op kosten sociale zekerheid\n",
      "1029324009039638528\n",
      "6:08 Maggie Rogers - Fallingwater\n",
      "1029323860938838016\n",
      "Adi's expressions 😂😂😂\n",
      "He is making her eat Maggie 😋😋😋\n",
      "#Bepannaah #BepannaahMohabbat #AdiYa #JenShad #Aditya #Zoya… https://t.co/3S0yHmLaHy\n",
      "1029323836121075712\n",
      "Maggie Sottero Wedding Dress, Gown~Petite~10-12~Professionally Boxed Buy now! #sotterowedding https://t.co/NzvHzSUvwe\n",
      "1029323796984066049\n",
      "Mistress Maggie of #Preston, Lancashire has updated her profile https://t.co/j2pQdCu1rk @MistressMaggie1\n",
      "1029323732295274496\n",
      ".@maggieNYT Maggie Haberman, on the Showtime series the \n",
      " “Fourth Estate,” said that, in the more than a decade tha… https://t.co/qhIBgLeEGa\n",
      "1029323611100925952\n",
      "Many thanks to Mary Masson Photography for allowing me to share this photo of oor ain Maggie Fraser telling a story… https://t.co/EPCKBrtcwI\n",
      "1029323575487016960\n",
      "On page 43 of 496 of This Must Be the Place, by Maggie O'Farrell https://t.co/76x9EvOBxJ\n",
      "1029323538577145856\n",
      "Another sketch of gorgeous Maggie from her latest update XXXX 😍😍😍😍 https://t.co/9664RNvazr\n"
     ]
    }
   ],
   "source": [
    "\n",
    "for tweets in fetched_tweets:\n",
    "    print(tweets.id_str)\n",
    "    print(tweets.text)\n",
    "    "
   ]
  },
  {
   "cell_type": "code",
   "execution_count": 52,
   "metadata": {
    "scrolled": true
   },
   "outputs": [
    {
     "data": {
      "text/plain": [
       "{'predicted_class': [10, 2, 3, 4],\n",
       " 'predicted_class_pr': [0.11, 0.222, 0.33, 0.44],\n",
       " 'text': 'Another sketch of gorgeous Maggie from her latest update XXXX 😍😍😍😍 https://t.co/9664RNvazr'}"
      ]
     },
     "execution_count": 52,
     "metadata": {},
     "output_type": "execute_result"
    }
   ],
   "source": [
    "a = {}\n",
    "b = {}\n",
    "i = 0\n",
    "b1 = []\n",
    "for tweets in fetched_tweets:\n",
    "    b[\"text\"] = tweets.text\n",
    "    b[\"predicted_class\"] = [i+1,2,3,4]\n",
    "    b[\"predicted_class_pr\"] = [.11,.222,.33,.44]\n",
    "    b1.append(b)\n",
    "    #a[i] = b\n",
    "    #a[tweets.id_str] = b\n",
    "    #print(tweets.id_str)\n",
    "    #print(tweets.text)\n",
    "    i = i+1\n",
    "b"
   ]
  },
  {
   "cell_type": "code",
   "execution_count": 43,
   "metadata": {
    "scrolled": true
   },
   "outputs": [
    {
     "data": {
      "text/plain": [
       "{'1029323538577145856': {'predicted_class': [1, 2, 3, 4],\n",
       "  'predicted_class_pr': [0.11, 0.222, 0.33, 0.44],\n",
       "  'text': 'Another sketch of gorgeous Maggie from her latest update XXXX 😍😍😍😍 https://t.co/9664RNvazr'},\n",
       " '1029323575487016960': {'predicted_class': [1, 2, 3, 4],\n",
       "  'predicted_class_pr': [0.11, 0.222, 0.33, 0.44],\n",
       "  'text': 'Another sketch of gorgeous Maggie from her latest update XXXX 😍😍😍😍 https://t.co/9664RNvazr'},\n",
       " '1029323611100925952': {'predicted_class': [1, 2, 3, 4],\n",
       "  'predicted_class_pr': [0.11, 0.222, 0.33, 0.44],\n",
       "  'text': 'Another sketch of gorgeous Maggie from her latest update XXXX 😍😍😍😍 https://t.co/9664RNvazr'},\n",
       " '1029323732295274496': {'predicted_class': [1, 2, 3, 4],\n",
       "  'predicted_class_pr': [0.11, 0.222, 0.33, 0.44],\n",
       "  'text': 'Another sketch of gorgeous Maggie from her latest update XXXX 😍😍😍😍 https://t.co/9664RNvazr'},\n",
       " '1029323796984066049': {'predicted_class': [1, 2, 3, 4],\n",
       "  'predicted_class_pr': [0.11, 0.222, 0.33, 0.44],\n",
       "  'text': 'Another sketch of gorgeous Maggie from her latest update XXXX 😍😍😍😍 https://t.co/9664RNvazr'},\n",
       " '1029323836121075712': {'predicted_class': [1, 2, 3, 4],\n",
       "  'predicted_class_pr': [0.11, 0.222, 0.33, 0.44],\n",
       "  'text': 'Another sketch of gorgeous Maggie from her latest update XXXX 😍😍😍😍 https://t.co/9664RNvazr'},\n",
       " '1029323860938838016': {'predicted_class': [1, 2, 3, 4],\n",
       "  'predicted_class_pr': [0.11, 0.222, 0.33, 0.44],\n",
       "  'text': 'Another sketch of gorgeous Maggie from her latest update XXXX 😍😍😍😍 https://t.co/9664RNvazr'},\n",
       " '1029324009039638528': {'predicted_class': [1, 2, 3, 4],\n",
       "  'predicted_class_pr': [0.11, 0.222, 0.33, 0.44],\n",
       "  'text': 'Another sketch of gorgeous Maggie from her latest update XXXX 😍😍😍😍 https://t.co/9664RNvazr'},\n",
       " '1029324014882357253': {'predicted_class': [1, 2, 3, 4],\n",
       "  'predicted_class_pr': [0.11, 0.222, 0.33, 0.44],\n",
       "  'text': 'Another sketch of gorgeous Maggie from her latest update XXXX 😍😍😍😍 https://t.co/9664RNvazr'},\n",
       " '1029324034402594816': {'predicted_class': [1, 2, 3, 4],\n",
       "  'predicted_class_pr': [0.11, 0.222, 0.33, 0.44],\n",
       "  'text': 'Another sketch of gorgeous Maggie from her latest update XXXX 😍😍😍😍 https://t.co/9664RNvazr'}}"
      ]
     },
     "execution_count": 43,
     "metadata": {},
     "output_type": "execute_result"
    }
   ],
   "source": [
    "a"
   ]
  },
  {
   "cell_type": "code",
   "execution_count": null,
   "metadata": {},
   "outputs": [],
   "source": [
    "from flask import Flask, render_template, request\n",
    "import random\n",
    "import flask\n",
    "import fasttext\n",
    "import tweepy\n",
    "import json\n",
    "#twitter login\n",
    "try:\n",
    "    # Consumer keys and access tokens, used for OAuth\n",
    "    consumer_key = 'RYQlJ5EYXslMmqgPQIZYp6LkS'\n",
    "    consumer_secret = 'q3CiYTWfWa1egNuuMZehWCpwDSCpZHZle2WDmrYULqUi9BS11b'\n",
    "    access_token = '74141815-NGJy15QAvpq799QJbvj4BuDjcOJ5vuDsoMW0Mqku3'\n",
    "    access_token_secret = 'GqS5T7fDn22TOScuu7N06iERYuVMsS7a8jPtIrN9weTtg'\n",
    "    auth = tweepy.OAuthHandler(consumer_key, consumer_secret)\n",
    "    auth.set_access_token(access_token, access_token_secret)\n",
    "    # Creation of the actual interface, using authentication\n",
    "    api = tweepy.API(auth)\n",
    "except:\n",
    "    print(\"error or already logged in\")\n",
    "\n",
    "classifier = fasttext.load_model(\"nestle_model_py2.bin\")\n",
    "app = Flask(__name__, template_folder='templates1')\n",
    "\n",
    "@app.route('/', methods=['GET','POST'])\n",
    "def samplefunction():\n",
    "    if request.method == 'GET':\n",
    "        return render_template('new.html')\n",
    "    if request.method == 'POST':\n",
    "        text = [request.form['human']]\n",
    "        text1 = str(text) + \" -filter:retweets\" \n",
    "        fetched_tweets = api.search(text1, count = 3 )\n",
    "        main_dict = {}\n",
    "        sub_dict = {}\n",
    "        i = 0\n",
    "        list_sub_dict = []\n",
    "        for tweets in fetched_tweets:\n",
    "\n",
    "            pred1 = str(classifier.predict_proba([tweets.text], k = 4)[0][0]).replace(\"('__label__\",\"\").split(\",\")[0].replace(\"'\",\"\")\n",
    "            pred2 = str(classifier.predict_proba([tweets.text], k = 4)[0][1]).replace(\"('__label__\",\"\").split(\",\")[0].replace(\"'\",\"\")\n",
    "            pred3 = str(classifier.predict_proba([tweets.text], k = 4)[0][2]).replace(\"('__label__\",\"\").split(\",\")[0].replace(\"'\",\"\")\n",
    "            pred4 = str(classifier.predict_proba([tweets.text], k = 4)[0][3]).replace(\"('__label__\",\"\").split(\",\")[0].replace(\"'\",\"\")\n",
    "            prob1 = float(str(classifier.predict_proba([tweets.text], k = 4)[0][0]).replace(\"('__label__\",\"\").split(\",\")[1].replace(\" \",\"\").replace(\")\",\"\"))\n",
    "            prob2 = float(str(classifier.predict_proba([tweets.text], k = 4)[0][1]).replace(\"('__label__\",\"\").split(\",\")[1].replace(\" \",\"\").replace(\")\",\"\"))\n",
    "            prob3 = float(str(classifier.predict_proba([tweets.text], k = 4)[0][2]).replace(\"('__label__\",\"\").split(\",\")[1].replace(\" \",\"\").replace(\")\",\"\"))\n",
    "            prob4 = float(str(classifier.predict_proba([tweets.text], k = 4)[0][3]).replace(\"('__label__\",\"\").split(\",\")[1].replace(\" \",\"\").replace(\")\",\"\"))\n",
    "            #sub_dict[\"text\"] = tweets.text\n",
    "            sub_dict[\"id\"] = tweets.id_str\n",
    "            sub_dict[\"predicted_class\"] = [pred1, pred2, pred3, pred4]\n",
    "            sub_dict[\"predicted_class_pr\"] = [prob1, prob2, prob3, prob4]\n",
    "            list_sub_dict.append(sub_dict)\n",
    "            if i == 0:\n",
    "                main_dict[i] = list_sub_dict[i]\n",
    "            main_dict.update({i:list_sub_dict[i]})\n",
    "            i = i + 1\n",
    "            print(i)\n",
    "            #print(ids)\n",
    "        print(main_dict)\n",
    "        bot = str(classifier.predict(text)[0][0]).replace(\"__label__\",\"\")\n",
    "        return render_template('new.html', bot=bot, human = text[0], json_v = main_dict,pred1 = pred1, pred2 = pred2, pred3 = pred3, pred4 = pred4, prob1 = prob1, prob2 = prob2, prob3 = prob3, prob4 = prob4)\n",
    "            \n",
    "\n",
    "\n",
    "# In[ ]:\n",
    "\n",
    "\n",
    "app.run(debug=True)\n",
    "\n",
    "\n"
   ]
  }
 ],
 "metadata": {
  "kernelspec": {
   "display_name": "Python 3",
   "language": "python",
   "name": "python3"
  },
  "language_info": {
   "codemirror_mode": {
    "name": "ipython",
    "version": 3
   },
   "file_extension": ".py",
   "mimetype": "text/x-python",
   "name": "python",
   "nbconvert_exporter": "python",
   "pygments_lexer": "ipython3",
   "version": "3.6.4"
  }
 },
 "nbformat": 4,
 "nbformat_minor": 2
}
