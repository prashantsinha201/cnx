{
 "cells": [
  {
   "cell_type": "code",
   "execution_count": 48,
   "metadata": {},
   "outputs": [],
   "source": [
    "#load required packages\n",
    "import pandas as pd\n",
    "import re\n",
    "import datetime\n",
    "import numpy as np\n",
    "import math\n",
    "import pickle\n",
    "np.random.seed(0)"
   ]
  },
  {
   "cell_type": "code",
   "execution_count": 74,
   "metadata": {},
   "outputs": [],
   "source": [
    "df = pd.read_csv(\"Adwords Reporting Dashboard (go-s2aw) - Raw Data (9) 11 july.csv\")\n",
    "df1 = pd.read_csv(\"Adwords Reporting Dashboard (go-s2aw) - Raw Data (73).csv\")\n",
    "df2 = pd.read_csv(\"Adwords Reporting Dashboard (go-s2aw) - Raw Data 4th July.csv\")"
   ]
  },
  {
   "cell_type": "code",
   "execution_count": 75,
   "metadata": {},
   "outputs": [],
   "source": [
    "gc = pd.read_excel(\"Google Capacity Outlook - WS 16th April-2018 (1).xlsx\", sheet_name='Raw Headcount', skiprows=1)"
   ]
  },
  {
   "cell_type": "code",
   "execution_count": 76,
   "metadata": {},
   "outputs": [],
   "source": [
    "qa = pd.read_csv(\"Error split - Quality by case closed week (click to see sector wise trend) (8).csv\")"
   ]
  },
  {
   "cell_type": "code",
   "execution_count": 77,
   "metadata": {},
   "outputs": [],
   "source": [
    "for i in range(0,len(df1)):\n",
    "    df1.iloc[i,df1.columns.get_loc(\"closed_day\")] = datetime.datetime.strptime(df1.iloc[i,df1.columns.get_loc(\"closed_day\")], '%m/%d/%Y').strftime('%Y-%m-%d')"
   ]
  },
  {
   "cell_type": "code",
   "execution_count": 78,
   "metadata": {},
   "outputs": [],
   "source": [
    "# merge df and df_not dataframes\n",
    "frames = [df,df1]\n",
    "df_ = pd.concat(frames)\n",
    "frames1 = [df_,df2]\n",
    "df_1 = pd.concat(frames1)"
   ]
  },
  {
   "cell_type": "code",
   "execution_count": null,
   "metadata": {},
   "outputs": [],
   "source": [
    "for i in range(0,len(df_1)):\n",
    "    df_1.iloc[i,12] = datetime.datetime.strptime(df_1.iloc[i,12], '%Y-%m-%d').date()"
   ]
  },
  {
   "cell_type": "code",
   "execution_count": null,
   "metadata": {},
   "outputs": [],
   "source": [
    "df_1.iloc[:,12].sort_values(ascending = True).head()"
   ]
  },
  {
   "cell_type": "code",
   "execution_count": 79,
   "metadata": {},
   "outputs": [],
   "source": [
    "df_1['a.assignee_username'] = df_1['a.assignee_username'].str.lower()\n",
    "gc[\"LDAP\"] = gc[\"LDAP\"].str.lower()"
   ]
  },
  {
   "cell_type": "code",
   "execution_count": 80,
   "metadata": {},
   "outputs": [],
   "source": [
    "ldap = gc.LDAP.tolist()\n",
    "df_1[\"yes_tenure\"] = df_1[\"a.assignee_username\"].isin(ldap)"
   ]
  },
  {
   "cell_type": "code",
   "execution_count": 81,
   "metadata": {},
   "outputs": [],
   "source": [
    "df_1 = df_1.reset_index(drop = True)"
   ]
  },
  {
   "cell_type": "code",
   "execution_count": 82,
   "metadata": {},
   "outputs": [],
   "source": [
    "df_1 = df_1[df_1.yes_tenure == True]"
   ]
  },
  {
   "cell_type": "code",
   "execution_count": 83,
   "metadata": {},
   "outputs": [],
   "source": [
    "tenure = []\n",
    "for i in range(0,len(df_1)):\n",
    "    index = np.where(gc.LDAP == df_1.iloc[i,0])\n",
    "    if df_1.iloc[i,0] in ldap:\n",
    "        tenure.append(gc.loc[[index[0][0]]][\"Tenure\"].values[0])\n",
    "    else:\n",
    "        df_1.drop(df_1.drop[index[0][0]])"
   ]
  },
  {
   "cell_type": "code",
   "execution_count": 84,
   "metadata": {},
   "outputs": [],
   "source": [
    "df_1[\"tenure\"] = tenure"
   ]
  },
  {
   "cell_type": "code",
   "execution_count": 85,
   "metadata": {},
   "outputs": [],
   "source": [
    "df_1 = df_1.fillna(0)"
   ]
  },
  {
   "cell_type": "code",
   "execution_count": 86,
   "metadata": {},
   "outputs": [],
   "source": [
    "df_1 = df_1[df_1.csat_score != 0]"
   ]
  },
  {
   "cell_type": "code",
   "execution_count": 87,
   "metadata": {},
   "outputs": [
    {
     "data": {
      "text/plain": [
       "7.0    8605\n",
       "6.0    3837\n",
       "1.0     201\n",
       "5.0     148\n",
       "4.0     138\n",
       "3.0     131\n",
       "2.0     116\n",
       "Name: csat_score, dtype: int64"
      ]
     },
     "execution_count": 87,
     "metadata": {},
     "output_type": "execute_result"
    }
   ],
   "source": [
    "df_1.csat_score.value_counts()"
   ]
  },
  {
   "cell_type": "code",
   "execution_count": 88,
   "metadata": {},
   "outputs": [],
   "source": [
    "ix = df_1.columns.get_loc(\"csat_score\")\n",
    "for i in range(0,len(df_1)):\n",
    "    if df_1.iloc[i,ix] >5:\n",
    "        df_1.iloc[i,ix] = 0\n",
    "    else:\n",
    "        df_1.iloc[i,ix] = 1"
   ]
  },
  {
   "cell_type": "code",
   "execution_count": 89,
   "metadata": {},
   "outputs": [],
   "source": [
    "v_df = [\"vertical\",\"sub_sector\",\"a.total_number_of_interactions\",\"vertical_cerebro\",\"search_report_category\",\"sector\",\"priority\",\n",
    "       \"child\",\"tenure\",\"reporting_product_type\",\"frequency_of_report\",\"youtube_report_category\",\"GDN_report_category\",\"bulk_flag\",\n",
    "       \"urgent_flag\",\"Parent_flag\",\"sub_region\",\"recurring_flag\",\"csat_score\",\"master_case_flag\",\"is_neon\"]"
   ]
  },
  {
   "cell_type": "code",
   "execution_count": 90,
   "metadata": {},
   "outputs": [],
   "source": [
    "v_df1 = [\"vertical\",\"sub_sector\",\"vertical_cerebro\",\"search_report_category\",\"sector\",\"priority\",\n",
    "       \"tenure\",\"reporting_product_type\",\"frequency_of_report\",\"youtube_report_category\",\"GDN_report_category\",\"bulk_flag\",\n",
    "       \"urgent_flag\",\"Parent_flag\",\"sub_region\",\"recurring_flag\",\"master_case_flag\",\"is_neon\"]"
   ]
  },
  {
   "cell_type": "code",
   "execution_count": 91,
   "metadata": {},
   "outputs": [],
   "source": [
    "#\"a.total_number_of_interactions\", \"child\", \"csat_score\""
   ]
  },
  {
   "cell_type": "code",
   "execution_count": 92,
   "metadata": {},
   "outputs": [],
   "source": [
    "ix = df_1.columns.get_loc(\"a.total_number_of_interactions\")\n",
    "for i in range(0,len(df_1)):\n",
    "    if df_1.iloc[i,ix] > 7:\n",
    "        df_1.iloc[i,ix] = 8\n",
    "        \n",
    "ix = df_1.columns.get_loc(\"child\")\n",
    "for i in range(0,len(df_1)):\n",
    "    if df_1.iloc[i,ix] !=0:\n",
    "        df_1.iloc[i,ix] = 1\n",
    "        "
   ]
  },
  {
   "cell_type": "code",
   "execution_count": 93,
   "metadata": {},
   "outputs": [],
   "source": [
    "df_1 = df_1.loc[:,v_df]"
   ]
  },
  {
   "cell_type": "code",
   "execution_count": 125,
   "metadata": {},
   "outputs": [
    {
     "data": {
      "text/plain": [
       "'01'"
      ]
     },
     "execution_count": 125,
     "metadata": {},
     "output_type": "execute_result"
    }
   ],
   "source": [
    "e = list(set(df_1.Parent_flag.tolist()))\n",
    "''.join(map(str,e))"
   ]
  },
  {
   "cell_type": "code",
   "execution_count": 94,
   "metadata": {},
   "outputs": [],
   "source": [
    "for i in v_df1:\n",
    "    ix = df_1.columns.get_loc(i)\n",
    "    lis = []\n",
    "    lis = df_1[eval('i')].unique().tolist()\n",
    "    for j in range(0,len(df_1)):\n",
    "        if df_1.iloc[j,ix] in lis:\n",
    "            df_1.iloc[j,ix] = lis.index(df_1.iloc[j,ix])\n",
    "    name = str(eval('i'))\n",
    "    with open(name, \"wb\") as fp:\n",
    "        pickle.dump(name, fp)"
   ]
  },
  {
   "cell_type": "code",
   "execution_count": 96,
   "metadata": {},
   "outputs": [],
   "source": [
    "df_1.to_csv('1.csv', index = False)"
   ]
  },
  {
   "cell_type": "code",
   "execution_count": 97,
   "metadata": {},
   "outputs": [],
   "source": [
    "#########################################################################################################"
   ]
  },
  {
   "cell_type": "code",
   "execution_count": 98,
   "metadata": {},
   "outputs": [],
   "source": [
    "#test data clean"
   ]
  },
  {
   "cell_type": "code",
   "execution_count": 99,
   "metadata": {},
   "outputs": [],
   "source": [
    "df = pd.read_excel(\"s2 dump 27 July till date.xlsx\")"
   ]
  },
  {
   "cell_type": "code",
   "execution_count": 100,
   "metadata": {},
   "outputs": [],
   "source": [
    "gc = pd.read_excel(\"Google Capacity Outlook - WS 16th April-2018 (1).xlsx\", sheet_name='Raw Headcount', skiprows=1)"
   ]
  },
  {
   "cell_type": "code",
   "execution_count": 101,
   "metadata": {},
   "outputs": [],
   "source": [
    "df['a.assignee_username'] = df['a.assignee_username'].str.lower()\n",
    "gc[\"LDAP\"] = gc[\"LDAP\"].str.lower()"
   ]
  },
  {
   "cell_type": "code",
   "execution_count": 102,
   "metadata": {},
   "outputs": [],
   "source": [
    "ldap = gc.LDAP.tolist()"
   ]
  },
  {
   "cell_type": "code",
   "execution_count": 103,
   "metadata": {},
   "outputs": [],
   "source": [
    "df[\"yes_tenure\"] = df[\"a.assignee_username\"].isin(ldap)"
   ]
  },
  {
   "cell_type": "code",
   "execution_count": 104,
   "metadata": {},
   "outputs": [],
   "source": [
    "df = df[df.yes_tenure == True]"
   ]
  },
  {
   "cell_type": "code",
   "execution_count": 105,
   "metadata": {},
   "outputs": [],
   "source": [
    "tenure = []\n",
    "for i in range(0,len(df)):\n",
    "    index = np.where(gc.LDAP == df.iloc[i,0])\n",
    "    if df.iloc[i,0] in ldap:\n",
    "        tenure.append(gc.loc[[index[0][0]]][\"Tenure\"].values[0])\n",
    "    else:\n",
    "        df.drop(df.drop[index[0][0]])"
   ]
  },
  {
   "cell_type": "code",
   "execution_count": 106,
   "metadata": {},
   "outputs": [],
   "source": [
    "df[\"tenure\"] = tenure"
   ]
  },
  {
   "cell_type": "code",
   "execution_count": 107,
   "metadata": {},
   "outputs": [],
   "source": [
    "df = df.fillna(0)\n",
    "df = df[df.csat_score !=0]"
   ]
  },
  {
   "cell_type": "code",
   "execution_count": 108,
   "metadata": {},
   "outputs": [],
   "source": [
    "ix = df.columns.get_loc(\"csat_score\")\n",
    "for i in range(0,len(df)):\n",
    "    if df.iloc[i,ix] >5:\n",
    "        df.iloc[i,ix] = 0\n",
    "    else:\n",
    "        df.iloc[i,ix] = 1"
   ]
  },
  {
   "cell_type": "code",
   "execution_count": 109,
   "metadata": {},
   "outputs": [
    {
     "data": {
      "text/plain": [
       "0.0    483\n",
       "1.0     58\n",
       "Name: csat_score, dtype: int64"
      ]
     },
     "execution_count": 109,
     "metadata": {},
     "output_type": "execute_result"
    }
   ],
   "source": [
    "df.csat_score.value_counts()"
   ]
  },
  {
   "cell_type": "code",
   "execution_count": 110,
   "metadata": {},
   "outputs": [],
   "source": [
    "v_df = [\"vertical\",\"sub_sector\",\"a.total_number_of_interactions\",\"vertical_cerebro\",\"search_report_category\",\"sector\",\"priority\",\n",
    "       \"child\",\"tenure\",\"reporting_product_type\",\"frequency_of_report\",\"youtube_report_category\",\"GDN_report_category\",\"bulk_flag\",\n",
    "       \"urgent_flag\",\"Parent_flag\",\"sub_region\",\"recurring_flag\",\"csat_score\",\"master_case_flag\",\"is_neon\"]"
   ]
  },
  {
   "cell_type": "code",
   "execution_count": 111,
   "metadata": {},
   "outputs": [],
   "source": [
    "v_df1 = [\"vertical\",\"sub_sector\",\"vertical_cerebro\",\"search_report_category\",\"sector\",\"priority\",\n",
    "       \"tenure\",\"reporting_product_type\",\"frequency_of_report\",\"youtube_report_category\",\"GDN_report_category\",\"bulk_flag\",\n",
    "       \"urgent_flag\",\"Parent_flag\",\"sub_region\",\"recurring_flag\",\"master_case_flag\",\"is_neon\"]"
   ]
  },
  {
   "cell_type": "code",
   "execution_count": 112,
   "metadata": {},
   "outputs": [],
   "source": [
    "ix = df.columns.get_loc(\"a.total_number_of_interactions\")\n",
    "for i in range(0,len(df)):\n",
    "    if df.iloc[i,ix] > 7:\n",
    "        df.iloc[i,ix] = 8\n",
    "        \n",
    "ix = df.columns.get_loc(\"child\")\n",
    "for i in range(0,len(df)):\n",
    "    if df.iloc[i,ix] !=0:\n",
    "        df.iloc[i,ix] = 1\n",
    "        "
   ]
  },
  {
   "cell_type": "code",
   "execution_count": 113,
   "metadata": {},
   "outputs": [],
   "source": [
    "df = df.loc[:,v_df]"
   ]
  },
  {
   "cell_type": "code",
   "execution_count": 114,
   "metadata": {},
   "outputs": [
    {
     "ename": "TypeError",
     "evalue": "'in <string>' requires string as left operand, not int",
     "output_type": "error",
     "traceback": [
      "\u001b[1;31m---------------------------------------------------------------------------\u001b[0m",
      "\u001b[1;31mTypeError\u001b[0m                                 Traceback (most recent call last)",
      "\u001b[1;32m<ipython-input-114-c9ce29469f56>\u001b[0m in \u001b[0;36m<module>\u001b[1;34m()\u001b[0m\n\u001b[0;32m      8\u001b[0m \u001b[1;33m\u001b[0m\u001b[0m\n\u001b[0;32m      9\u001b[0m     \u001b[1;32mfor\u001b[0m \u001b[0mj\u001b[0m \u001b[1;32min\u001b[0m \u001b[0mrange\u001b[0m\u001b[1;33m(\u001b[0m\u001b[1;36m0\u001b[0m\u001b[1;33m,\u001b[0m\u001b[0mlen\u001b[0m\u001b[1;33m(\u001b[0m\u001b[0mdf\u001b[0m\u001b[1;33m)\u001b[0m\u001b[1;33m)\u001b[0m\u001b[1;33m:\u001b[0m\u001b[1;33m\u001b[0m\u001b[0m\n\u001b[1;32m---> 10\u001b[1;33m         \u001b[1;32mif\u001b[0m \u001b[0mdf\u001b[0m\u001b[1;33m.\u001b[0m\u001b[0miloc\u001b[0m\u001b[1;33m[\u001b[0m\u001b[0mj\u001b[0m\u001b[1;33m,\u001b[0m\u001b[0mix\u001b[0m\u001b[1;33m]\u001b[0m \u001b[1;32min\u001b[0m \u001b[0mlis\u001b[0m\u001b[1;33m:\u001b[0m\u001b[1;33m\u001b[0m\u001b[0m\n\u001b[0m\u001b[0;32m     11\u001b[0m             \u001b[0mdf\u001b[0m\u001b[1;33m.\u001b[0m\u001b[0miloc\u001b[0m\u001b[1;33m[\u001b[0m\u001b[0mj\u001b[0m\u001b[1;33m,\u001b[0m\u001b[0mix\u001b[0m\u001b[1;33m]\u001b[0m \u001b[1;33m=\u001b[0m \u001b[0mlis\u001b[0m\u001b[1;33m.\u001b[0m\u001b[0mindex\u001b[0m\u001b[1;33m(\u001b[0m\u001b[0mdf\u001b[0m\u001b[1;33m.\u001b[0m\u001b[0miloc\u001b[0m\u001b[1;33m[\u001b[0m\u001b[0mj\u001b[0m\u001b[1;33m,\u001b[0m\u001b[0mix\u001b[0m\u001b[1;33m]\u001b[0m\u001b[1;33m)\u001b[0m\u001b[1;33m\u001b[0m\u001b[0m\n",
      "\u001b[1;31mTypeError\u001b[0m: 'in <string>' requires string as left operand, not int"
     ]
    }
   ],
   "source": [
    "for i in v_df1:\n",
    "    name = str(eval('i'))\n",
    "    lis = []\n",
    "    with open(name, \"rb\") as input_file:\n",
    "        lis = pickle.load(input_file)\n",
    "       \n",
    "    ix = df.columns.get_loc(i)\n",
    "    \n",
    "    for j in range(0,len(df)):\n",
    "        if df.iloc[j,ix] in lis:\n",
    "            df.iloc[j,ix] = lis.index(df.iloc[j,ix])"
   ]
  },
  {
   "cell_type": "code",
   "execution_count": null,
   "metadata": {},
   "outputs": [],
   "source": []
  }
 ],
 "metadata": {
  "kernelspec": {
   "display_name": "Python 3",
   "language": "python",
   "name": "python3"
  },
  "language_info": {
   "codemirror_mode": {
    "name": "ipython",
    "version": 3
   },
   "file_extension": ".py",
   "mimetype": "text/x-python",
   "name": "python",
   "nbconvert_exporter": "python",
   "pygments_lexer": "ipython3",
   "version": "3.6.5"
  }
 },
 "nbformat": 4,
 "nbformat_minor": 2
}
