{
 "cells": [
  {
   "cell_type": "code",
   "execution_count": 1,
   "metadata": {},
   "outputs": [
    {
     "name": "stderr",
     "output_type": "stream",
     "text": [
      "Using TensorFlow backend.\n"
     ]
    }
   ],
   "source": [
    "import pandas as pd\n",
    "import numpy as np\n",
    "from sklearn.ensemble import RandomForestClassifier\n",
    "from sklearn.model_selection import train_test_split\n",
    "from sklearn.metrics import accuracy_score\n",
    "from sklearn.metrics import confusion_matrix\n",
    "from imblearn.over_sampling import SMOTE\n",
    "from sklearn.metrics import roc_curve, auc\n",
    "np.random.seed(0)\n",
    "import keras\n",
    "from keras.models import Sequential\n",
    "from keras.layers import Dense, Dropout\n",
    "from keras.layers import Flatten\n",
    "from keras.layers.embeddings import Embedding\n",
    "from sklearn.preprocessing import StandardScaler\n",
    "from keras.wrappers.scikit_learn import KerasRegressor\n",
    "from sklearn.pipeline import Pipeline\n",
    "from sklearn.model_selection import KFold\n",
    "from sklearn.model_selection import cross_val_score\n",
    "\n",
    "import numpy\n",
    "import pandas\n",
    "from keras.models import Sequential\n",
    "from keras.layers import Dense\n",
    "from keras.wrappers.scikit_learn import KerasRegressor\n",
    "from sklearn.model_selection import cross_val_score\n",
    "from sklearn.model_selection import KFold\n",
    "from sklearn.preprocessing import StandardScaler\n",
    "from sklearn.pipeline import Pipeline\n",
    "import pandas as pd\n",
    "import numpy as np\n",
    "from sklearn.ensemble import RandomForestClassifier\n",
    "from sklearn.model_selection import train_test_split\n",
    "from sklearn.metrics import accuracy_score\n",
    "from sklearn.metrics import confusion_matrix\n",
    "from imblearn.over_sampling import SMOTE\n",
    "from sklearn.metrics import roc_curve, auc, f1_score\n",
    "np.random.seed(0)\n",
    "from sklearn.utils import class_weight\n",
    "from keras.wrappers.scikit_learn import KerasClassifier\n",
    "from sklearn.model_selection import StratifiedKFold"
   ]
  },
  {
   "cell_type": "code",
   "execution_count": 2,
   "metadata": {},
   "outputs": [],
   "source": [
    "df = pd.read_csv(\"df_train.csv\")"
   ]
  },
  {
   "cell_type": "code",
   "execution_count": 3,
   "metadata": {},
   "outputs": [],
   "source": [
    "df1 = pd.read_csv(\"df_test.csv\")"
   ]
  },
  {
   "cell_type": "code",
   "execution_count": 4,
   "metadata": {},
   "outputs": [],
   "source": [
    "X_train = df.drop([\"csat_score\"], axis = 1)\n",
    "y_train = df.csat_score\n",
    "X_test = df1.drop([\"csat_score\"], axis = 1)\n",
    "y_test = df1.csat_score"
   ]
  },
  {
   "cell_type": "code",
   "execution_count": 5,
   "metadata": {},
   "outputs": [],
   "source": [
    "X_train = (X_train - X_train.mean())/X_train.std()"
   ]
  },
  {
   "cell_type": "code",
   "execution_count": 6,
   "metadata": {},
   "outputs": [],
   "source": [
    "X_test = (X_test - X_train.mean())/X_train.std()"
   ]
  },
  {
   "cell_type": "code",
   "execution_count": 7,
   "metadata": {},
   "outputs": [],
   "source": [
    "oversampler=SMOTE(random_state=0)"
   ]
  },
  {
   "cell_type": "code",
   "execution_count": 8,
   "metadata": {},
   "outputs": [],
   "source": [
    "os_features,os_labels=oversampler.fit_sample(X_train,y_train)"
   ]
  },
  {
   "cell_type": "code",
   "execution_count": 9,
   "metadata": {},
   "outputs": [
    {
     "data": {
      "text/plain": [
       "16730"
      ]
     },
     "execution_count": 9,
     "metadata": {},
     "output_type": "execute_result"
    }
   ],
   "source": [
    "len(os_features)"
   ]
  },
  {
   "cell_type": "code",
   "execution_count": 31,
   "metadata": {},
   "outputs": [
    {
     "name": "stdout",
     "output_type": "stream",
     "text": [
      "Epoch 1/100\n",
      "16730/16730 [==============================] - 1s 75us/step - loss: 0.2116 - acc: 0.4986\n",
      "Epoch 2/100\n",
      "16730/16730 [==============================] - 1s 53us/step - loss: 0.1444 - acc: 0.5000\n",
      "Epoch 3/100\n",
      "16730/16730 [==============================] - 1s 56us/step - loss: 0.1368 - acc: 0.5000\n",
      "Epoch 4/100\n",
      "16730/16730 [==============================] - 1s 53us/step - loss: 0.1335 - acc: 0.5000: 1s - loss: 0.1\n",
      "Epoch 5/100\n",
      "16730/16730 [==============================] - 1s 52us/step - loss: 0.1296 - acc: 0.5000\n",
      "Epoch 6/100\n",
      "16730/16730 [==============================] - 1s 53us/step - loss: 0.1269 - acc: 0.5000\n",
      "Epoch 7/100\n",
      "16730/16730 [==============================] - 1s 64us/step - loss: 0.1256 - acc: 0.5000\n",
      "Epoch 8/100\n",
      "16730/16730 [==============================] - 1s 54us/step - loss: 0.1241 - acc: 0.5000\n",
      "Epoch 9/100\n",
      "16730/16730 [==============================] - 1s 59us/step - loss: 0.1230 - acc: 0.5878\n",
      "Epoch 10/100\n",
      "16730/16730 [==============================] - 1s 66us/step - loss: 0.1207 - acc: 0.6225\n",
      "Epoch 11/100\n",
      "16730/16730 [==============================] - ETA: 0s - loss: 0.1183 - acc: 0.631 - 1s 68us/step - loss: 0.1183 - acc: 0.6312\n",
      "Epoch 12/100\n",
      "16730/16730 [==============================] - 1s 64us/step - loss: 0.1173 - acc: 0.6359\n",
      "Epoch 13/100\n",
      "16730/16730 [==============================] - 1s 69us/step - loss: 0.1155 - acc: 0.6406\n",
      "Epoch 14/100\n",
      "16730/16730 [==============================] - 1s 70us/step - loss: 0.1137 - acc: 0.6524\n",
      "Epoch 15/100\n",
      "16730/16730 [==============================] - 1s 64us/step - loss: 0.1134 - acc: 0.6571\n",
      "Epoch 16/100\n",
      "16730/16730 [==============================] - 1s 73us/step - loss: 0.1117 - acc: 0.6583\n",
      "Epoch 17/100\n",
      "16730/16730 [==============================] - 1s 52us/step - loss: 0.1119 - acc: 0.6607\n",
      "Epoch 18/100\n",
      "16730/16730 [==============================] - 1s 60us/step - loss: 0.1098 - acc: 0.6649\n",
      "Epoch 19/100\n",
      "16730/16730 [==============================] - 1s 61us/step - loss: 0.1092 - acc: 0.6677: 0s - loss: 0.1101 - ac\n",
      "Epoch 20/100\n",
      "16730/16730 [==============================] - 1s 49us/step - loss: 0.1079 - acc: 0.6738\n",
      "Epoch 21/100\n",
      "16730/16730 [==============================] - 1s 59us/step - loss: 0.1071 - acc: 0.6804\n",
      "Epoch 22/100\n",
      "16730/16730 [==============================] - 1s 63us/step - loss: 0.1054 - acc: 0.6823: 1s - loss: \n",
      "Epoch 23/100\n",
      "16730/16730 [==============================] - 1s 68us/step - loss: 0.1057 - acc: 0.6769\n",
      "Epoch 24/100\n",
      "16730/16730 [==============================] - 1s 54us/step - loss: 0.1052 - acc: 0.6805\n",
      "Epoch 25/100\n",
      "16730/16730 [==============================] - 1s 67us/step - loss: 0.1049 - acc: 0.6812\n",
      "Epoch 26/100\n",
      "16730/16730 [==============================] - 1s 87us/step - loss: 0.1039 - acc: 0.6866\n",
      "Epoch 27/100\n",
      "16730/16730 [==============================] - 1s 80us/step - loss: 0.1034 - acc: 0.6895\n",
      "Epoch 28/100\n",
      "16730/16730 [==============================] - 1s 62us/step - loss: 0.1026 - acc: 0.6887\n",
      "Epoch 29/100\n",
      "16730/16730 [==============================] - 1s 66us/step - loss: 0.1022 - acc: 0.6934\n",
      "Epoch 30/100\n",
      "16730/16730 [==============================] - 1s 63us/step - loss: 0.1019 - acc: 0.6906\n",
      "Epoch 31/100\n",
      "16730/16730 [==============================] - 1s 65us/step - loss: 0.1016 - acc: 0.6905\n",
      "Epoch 32/100\n",
      "16730/16730 [==============================] - 1s 60us/step - loss: 0.1022 - acc: 0.6874\n",
      "Epoch 33/100\n",
      "16730/16730 [==============================] - 1s 59us/step - loss: 0.1017 - acc: 0.6885\n",
      "Epoch 34/100\n",
      "16730/16730 [==============================] - 1s 54us/step - loss: 0.0997 - acc: 0.6922\n",
      "Epoch 35/100\n",
      "16730/16730 [==============================] - 1s 64us/step - loss: 0.0995 - acc: 0.6940\n",
      "Epoch 36/100\n",
      "16730/16730 [==============================] - 1s 67us/step - loss: 0.0978 - acc: 0.6977\n",
      "Epoch 37/100\n",
      "16730/16730 [==============================] - 1s 64us/step - loss: 0.0987 - acc: 0.6935\n",
      "Epoch 38/100\n",
      "16730/16730 [==============================] - 1s 57us/step - loss: 0.0982 - acc: 0.6919\n",
      "Epoch 39/100\n",
      "16730/16730 [==============================] - 1s 54us/step - loss: 0.0974 - acc: 0.6921\n",
      "Epoch 40/100\n",
      "16730/16730 [==============================] - 1s 84us/step - loss: 0.0976 - acc: 0.6936\n",
      "Epoch 41/100\n",
      "16730/16730 [==============================] - 1s 72us/step - loss: 0.0966 - acc: 0.6947\n",
      "Epoch 42/100\n",
      "16730/16730 [==============================] - 1s 66us/step - loss: 0.0963 - acc: 0.6992\n",
      "Epoch 43/100\n",
      "16730/16730 [==============================] - 1s 64us/step - loss: 0.0950 - acc: 0.7073\n",
      "Epoch 44/100\n",
      "16730/16730 [==============================] - 1s 76us/step - loss: 0.0951 - acc: 0.7136: 0s - loss: 0.0950 - acc: \n",
      "Epoch 45/100\n",
      "16730/16730 [==============================] - 1s 72us/step - loss: 0.0957 - acc: 0.7190\n",
      "Epoch 46/100\n",
      "16730/16730 [==============================] - 1s 67us/step - loss: 0.0944 - acc: 0.7354: 0s - loss: 0.094\n",
      "Epoch 47/100\n",
      "16730/16730 [==============================] - 1s 60us/step - loss: 0.0944 - acc: 0.7357\n",
      "Epoch 48/100\n",
      "16730/16730 [==============================] - 1s 68us/step - loss: 0.0949 - acc: 0.7372\n",
      "Epoch 49/100\n",
      "16730/16730 [==============================] - 1s 56us/step - loss: 0.0938 - acc: 0.7386\n",
      "Epoch 50/100\n",
      "16730/16730 [==============================] - 1s 59us/step - loss: 0.0936 - acc: 0.7352\n",
      "Epoch 51/100\n",
      "16730/16730 [==============================] - 1s 72us/step - loss: 0.0930 - acc: 0.7436\n",
      "Epoch 52/100\n",
      "16730/16730 [==============================] - 1s 66us/step - loss: 0.0945 - acc: 0.7370\n",
      "Epoch 53/100\n",
      "16730/16730 [==============================] - 1s 53us/step - loss: 0.0920 - acc: 0.7455\n",
      "Epoch 54/100\n",
      "16730/16730 [==============================] - 1s 61us/step - loss: 0.0920 - acc: 0.7475\n",
      "Epoch 55/100\n",
      "16730/16730 [==============================] - 1s 83us/step - loss: 0.0908 - acc: 0.7521\n",
      "Epoch 56/100\n",
      "16730/16730 [==============================] - 1s 68us/step - loss: 0.0904 - acc: 0.7517\n",
      "Epoch 57/100\n",
      "16730/16730 [==============================] - 1s 70us/step - loss: 0.0908 - acc: 0.7511\n",
      "Epoch 58/100\n",
      "16730/16730 [==============================] - 1s 72us/step - loss: 0.0913 - acc: 0.7530\n",
      "Epoch 59/100\n",
      "16730/16730 [==============================] - 1s 67us/step - loss: 0.0903 - acc: 0.7559\n",
      "Epoch 60/100\n",
      "16730/16730 [==============================] - 1s 72us/step - loss: 0.0912 - acc: 0.7562\n",
      "Epoch 61/100\n",
      "16730/16730 [==============================] - 1s 60us/step - loss: 0.0896 - acc: 0.7571\n",
      "Epoch 62/100\n",
      "16730/16730 [==============================] - 1s 57us/step - loss: 0.0907 - acc: 0.7559\n",
      "Epoch 63/100\n",
      "16730/16730 [==============================] - 1s 52us/step - loss: 0.0903 - acc: 0.7592\n",
      "Epoch 64/100\n",
      "16730/16730 [==============================] - 1s 57us/step - loss: 0.0890 - acc: 0.7601\n",
      "Epoch 65/100\n",
      "16730/16730 [==============================] - 1s 59us/step - loss: 0.0888 - acc: 0.7590: 0s - loss: 0.0891 - acc: 0.7\n",
      "Epoch 66/100\n",
      "16730/16730 [==============================] - 1s 60us/step - loss: 0.0898 - acc: 0.7591\n",
      "Epoch 67/100\n",
      "16730/16730 [==============================] - 1s 60us/step - loss: 0.0896 - acc: 0.7614\n",
      "Epoch 68/100\n",
      "16730/16730 [==============================] - 1s 54us/step - loss: 0.0894 - acc: 0.7594\n",
      "Epoch 69/100\n",
      "16730/16730 [==============================] - 1s 67us/step - loss: 0.0902 - acc: 0.7546\n",
      "Epoch 70/100\n",
      "16730/16730 [==============================] - 1s 79us/step - loss: 0.0888 - acc: 0.7613\n",
      "Epoch 71/100\n",
      "16730/16730 [==============================] - 1s 74us/step - loss: 0.0893 - acc: 0.7641\n",
      "Epoch 72/100\n",
      "16730/16730 [==============================] - 1s 70us/step - loss: 0.0887 - acc: 0.7621\n",
      "Epoch 73/100\n",
      "16730/16730 [==============================] - 1s 70us/step - loss: 0.0890 - acc: 0.7623\n",
      "Epoch 74/100\n",
      "16730/16730 [==============================] - 1s 69us/step - loss: 0.0896 - acc: 0.7604\n",
      "Epoch 75/100\n",
      "16730/16730 [==============================] - 1s 70us/step - loss: 0.0881 - acc: 0.7637\n",
      "Epoch 76/100\n",
      "16730/16730 [==============================] - 1s 59us/step - loss: 0.0882 - acc: 0.7662\n",
      "Epoch 77/100\n",
      "16730/16730 [==============================] - 1s 57us/step - loss: 0.0881 - acc: 0.7651: 0s - loss: 0.09\n",
      "Epoch 78/100\n",
      "16730/16730 [==============================] - 1s 51us/step - loss: 0.0885 - acc: 0.7647\n",
      "Epoch 79/100\n"
     ]
    },
    {
     "name": "stdout",
     "output_type": "stream",
     "text": [
      "16730/16730 [==============================] - 1s 53us/step - loss: 0.0889 - acc: 0.7607\n",
      "Epoch 80/100\n",
      "16730/16730 [==============================] - 1s 48us/step - loss: 0.0888 - acc: 0.7660\n",
      "Epoch 81/100\n",
      "16730/16730 [==============================] - 1s 49us/step - loss: 0.0877 - acc: 0.7681\n",
      "Epoch 82/100\n",
      "16730/16730 [==============================] - 1s 50us/step - loss: 0.0881 - acc: 0.7668\n",
      "Epoch 83/100\n",
      "16730/16730 [==============================] - 1s 56us/step - loss: 0.0880 - acc: 0.7641\n",
      "Epoch 84/100\n",
      "16730/16730 [==============================] - 1s 51us/step - loss: 0.0877 - acc: 0.7642\n",
      "Epoch 85/100\n",
      "16730/16730 [==============================] - 1s 71us/step - loss: 0.0870 - acc: 0.7669\n",
      "Epoch 86/100\n",
      "16730/16730 [==============================] - 1s 58us/step - loss: 0.0869 - acc: 0.7707\n",
      "Epoch 87/100\n",
      "16730/16730 [==============================] - 1s 70us/step - loss: 0.0877 - acc: 0.7671\n",
      "Epoch 88/100\n",
      "16730/16730 [==============================] - 1s 56us/step - loss: 0.0860 - acc: 0.7734\n",
      "Epoch 89/100\n",
      "16730/16730 [==============================] - 1s 56us/step - loss: 0.0869 - acc: 0.7732\n",
      "Epoch 90/100\n",
      "16730/16730 [==============================] - 1s 61us/step - loss: 0.0871 - acc: 0.7744\n",
      "Epoch 91/100\n",
      "16730/16730 [==============================] - 1s 66us/step - loss: 0.0866 - acc: 0.7699\n",
      "Epoch 92/100\n",
      "16730/16730 [==============================] - 1s 65us/step - loss: 0.0855 - acc: 0.7727\n",
      "Epoch 93/100\n",
      "16730/16730 [==============================] - 1s 54us/step - loss: 0.0861 - acc: 0.7735: 1s - loss: 0.086\n",
      "Epoch 94/100\n",
      "16730/16730 [==============================] - 1s 51us/step - loss: 0.0875 - acc: 0.7696\n",
      "Epoch 95/100\n",
      "16730/16730 [==============================] - 1s 54us/step - loss: 0.0862 - acc: 0.7772\n",
      "Epoch 96/100\n",
      "16730/16730 [==============================] - 1s 58us/step - loss: 0.0859 - acc: 0.7747\n",
      "Epoch 97/100\n",
      "16730/16730 [==============================] - 1s 45us/step - loss: 0.0856 - acc: 0.7764\n",
      "Epoch 98/100\n",
      "16730/16730 [==============================] - 1s 53us/step - loss: 0.0858 - acc: 0.7732\n",
      "Epoch 99/100\n",
      "16730/16730 [==============================] - 1s 56us/step - loss: 0.0872 - acc: 0.7698\n",
      "Epoch 100/100\n",
      "16730/16730 [==============================] - 1s 57us/step - loss: 0.0850 - acc: 0.7748\n"
     ]
    },
    {
     "data": {
      "text/plain": [
       "<keras.callbacks.History at 0x1c20e2b0>"
      ]
     },
     "execution_count": 31,
     "metadata": {},
     "output_type": "execute_result"
    }
   ],
   "source": [
    "    # Initialize the constructor\n",
    "model = Sequential()\n",
    "\n",
    "    # Add an input layer \n",
    "model.add(Dense(20, activation='relu', input_shape=(20,)))\n",
    "model.add(Dropout(0.2))\n",
    "    # Add one hidden layer \n",
    "model.add(Dense(8, activation='relu'))\n",
    "model.add(Dropout(0.2))\n",
    "model.add(Dense(4, activation='relu'))\n",
    "\n",
    "    # Add an output layer \n",
    "model.add(Dense(1, kernel_initializer='normal', activation='sigmoid'))\n",
    "    # Compile model\n",
    "model.compile(loss='binary_crossentropy', optimizer='adam', metrics=['accuracy'])\n",
    "model.fit(os_features,os_labels, epochs=100, batch_size=50, class_weight={0:0.1,1:0.9})\n",
    "    #return model\n",
    "#59%"
   ]
  },
  {
   "cell_type": "code",
   "execution_count": 32,
   "metadata": {},
   "outputs": [
    {
     "data": {
      "text/plain": [
       "array([[16, 67],\n",
       "       [ 0,  6]], dtype=int64)"
      ]
     },
     "execution_count": 32,
     "metadata": {},
     "output_type": "execute_result"
    }
   ],
   "source": [
    "s_predicted = model.predict_classes(X_test)\n",
    "confusion_matrix(y_test,s_predicted)"
   ]
  },
  {
   "cell_type": "code",
   "execution_count": 33,
   "metadata": {},
   "outputs": [
    {
     "name": "stdout",
     "output_type": "stream",
     "text": [
      "0.5963855421686747\n"
     ]
    }
   ],
   "source": [
    "false_positive_rate, true_positive_rate, thresholds = roc_curve(y_test, s_predicted)\n",
    "roc_auc = auc(false_positive_rate, true_positive_rate)\n",
    "print (roc_auc)"
   ]
  },
  {
   "cell_type": "code",
   "execution_count": 34,
   "metadata": {},
   "outputs": [],
   "source": [
    "model = keras.models.load_model(\"deep_learning_model\")"
   ]
  },
  {
   "cell_type": "code",
   "execution_count": null,
   "metadata": {},
   "outputs": [],
   "source": []
  }
 ],
 "metadata": {
  "kernelspec": {
   "display_name": "Python 3",
   "language": "python",
   "name": "python3"
  },
  "language_info": {
   "codemirror_mode": {
    "name": "ipython",
    "version": 3
   },
   "file_extension": ".py",
   "mimetype": "text/x-python",
   "name": "python",
   "nbconvert_exporter": "python",
   "pygments_lexer": "ipython3",
   "version": "3.6.5"
  }
 },
 "nbformat": 4,
 "nbformat_minor": 2
}
