{
 "cells": [
  {
   "cell_type": "code",
   "execution_count": 6,
   "metadata": {},
   "outputs": [],
   "source": [
    "from flask import Flask, render_template, request\n",
    "import random\n",
    "import flask\n",
    "import fasttext\n",
    "\n",
    "classifier = fasttext.load_model(\"nestle_model_py2.bin\")\n",
    "app = Flask(__name__, template_folder='templates')\n",
    "\n",
    "@app.route('/', methods=['GET','POST'])\n",
    "def samplefunction():\n",
    "    if request.method == 'GET':\n",
    "        return render_template('new.html')\n",
    "    if request.method == 'POST':\n",
    "        text = request.form['human']\n",
    "        bot = str(classifier.predict([text])[0][0])\n",
    "        return render_template('new.html', bot=bot, )\n",
    "            \n"
   ]
  },
  {
   "cell_type": "code",
   "execution_count": 38,
   "metadata": {},
   "outputs": [],
   "source": [
    "a= [\"@MaggiIndia A1) TANGY TEEKHA BOMB HOT LAVA #HotHeadsExperiement Ã¯Â¿Â½Ã¯Â¿Â½ 106\"]\n"
   ]
  },
  {
   "cell_type": "code",
   "execution_count": 47,
   "metadata": {},
   "outputs": [
    {
     "data": {
      "text/plain": [
       "[[('__label__Noodle_Lovers', 1.0),\n",
       "  ('__label__Query', 1.91116e-08),\n",
       "  ('__label__Junk', 1.297e-08),\n",
       "  ('__label__Complaint', 6.52314e-09)]]"
      ]
     },
     "execution_count": 47,
     "metadata": {},
     "output_type": "execute_result"
    }
   ],
   "source": [
    "classifier.predict_proba(a, k = 4)"
   ]
  },
  {
   "cell_type": "code",
   "execution_count": 42,
   "metadata": {},
   "outputs": [
    {
     "data": {
      "text/plain": [
       "'Noodle_Lovers'"
      ]
     },
     "execution_count": 42,
     "metadata": {},
     "output_type": "execute_result"
    }
   ],
   "source": [
    "str(classifier.predict_proba(a, k = 4)[0][0]).replace(\"('__label__\",\"\").split(\",\")[0].replace(\"'\",\"\")"
   ]
  },
  {
   "cell_type": "code",
   "execution_count": 44,
   "metadata": {},
   "outputs": [
    {
     "data": {
      "text/plain": [
       "'1.0'"
      ]
     },
     "execution_count": 44,
     "metadata": {},
     "output_type": "execute_result"
    }
   ],
   "source": [
    "str(classifier.predict_proba(a, k = 4)[0][0]).replace(\"('__label__\",\"\").split(\",\")[1].replace(\" \",\"\").replace(\")\",\"\")"
   ]
  },
  {
   "cell_type": "code",
   "execution_count": null,
   "metadata": {},
   "outputs": [],
   "source": []
  },
  {
   "cell_type": "code",
   "execution_count": null,
   "metadata": {},
   "outputs": [],
   "source": [
    "app.run(debug=True)"
   ]
  }
 ],
 "metadata": {
  "kernelspec": {
   "display_name": "Python 3",
   "language": "python",
   "name": "python3"
  },
  "language_info": {
   "codemirror_mode": {
    "name": "ipython",
    "version": 3
   },
   "file_extension": ".py",
   "mimetype": "text/x-python",
   "name": "python",
   "nbconvert_exporter": "python",
   "pygments_lexer": "ipython3",
   "version": "3.6.4"
  }
 },
 "nbformat": 4,
 "nbformat_minor": 2
}
