{
 "cells": [
  {
   "cell_type": "code",
   "execution_count": 1,
   "metadata": {},
   "outputs": [],
   "source": [
    "#load required packages\n",
    "import pandas as pd\n",
    "import re\n",
    "import datetime\n",
    "import numpy as np\n",
    "import math\n",
    "import pickle\n",
    "np.random.seed(0)"
   ]
  },
  {
   "cell_type": "code",
   "execution_count": 2,
   "metadata": {},
   "outputs": [],
   "source": [
    "df = pd.read_csv(\"Adwords Reporting Dashboard (go-s2aw) - Raw Data (9) 11 july.csv\")\n",
    "df1 = pd.read_csv(\"Adwords Reporting Dashboard (go-s2aw) - Raw Data (73).csv\")\n",
    "df2 = pd.read_csv(\"Adwords Reporting Dashboard (go-s2aw) - Raw Data 4th July.csv\")\n",
    "#qa = pd.read_csv(\"Error split - Quality by case closed week (click to see sector wise trend) (8).csv\")\n",
    "#gc = pd.read_excel(\"Google Capacity Outlook - WS 16th April-2018 (1).xlsx\", sheet_name='Raw Headcount', skiprows=1)"
   ]
  },
  {
   "cell_type": "code",
   "execution_count": 3,
   "metadata": {},
   "outputs": [],
   "source": [
    "gc = pd.read_excel(\"Google Capacity Outlook - WS 16th April-2018 (1).xlsx\", sheet_name='Raw Headcount', skiprows=1)"
   ]
  },
  {
   "cell_type": "code",
   "execution_count": 4,
   "metadata": {},
   "outputs": [],
   "source": [
    "qa = pd.read_csv(\"Error split - Quality by case closed week (click to see sector wise trend) (8).csv\")"
   ]
  },
  {
   "cell_type": "code",
   "execution_count": 7,
   "metadata": {
    "scrolled": true
   },
   "outputs": [
    {
     "data": {
      "text/html": [
       "<div>\n",
       "<style scoped>\n",
       "    .dataframe tbody tr th:only-of-type {\n",
       "        vertical-align: middle;\n",
       "    }\n",
       "\n",
       "    .dataframe tbody tr th {\n",
       "        vertical-align: top;\n",
       "    }\n",
       "\n",
       "    .dataframe thead th {\n",
       "        text-align: right;\n",
       "    }\n",
       "</style>\n",
       "<table border=\"1\" class=\"dataframe\">\n",
       "  <thead>\n",
       "    <tr style=\"text-align: right;\">\n",
       "      <th></th>\n",
       "      <th>LDAP</th>\n",
       "      <th>Status</th>\n",
       "      <th>Empl Id</th>\n",
       "      <th>Name</th>\n",
       "      <th>Gender</th>\n",
       "      <th>Hire_Dt</th>\n",
       "      <th>Location</th>\n",
       "      <th>CNX Email ID</th>\n",
       "      <th>Band</th>\n",
       "      <th>SupID</th>\n",
       "      <th>...</th>\n",
       "      <th>Skill/Cross skill</th>\n",
       "      <th>Trng Start</th>\n",
       "      <th>Trng End</th>\n",
       "      <th>xSPT/AG</th>\n",
       "      <th>xGrouping</th>\n",
       "      <th>YGrouping</th>\n",
       "      <th>XGC</th>\n",
       "      <th>SPOC Ratio Calc</th>\n",
       "      <th>Check</th>\n",
       "      <th>C2</th>\n",
       "    </tr>\n",
       "  </thead>\n",
       "  <tbody>\n",
       "    <tr>\n",
       "      <th>0</th>\n",
       "      <td>atulu</td>\n",
       "      <td>Active</td>\n",
       "      <td>53862</td>\n",
       "      <td>UPADHYAY,ATUL</td>\n",
       "      <td>M</td>\n",
       "      <td>2006-02-28</td>\n",
       "      <td>GGN</td>\n",
       "      <td>atul.upadhyay@concentrix.com</td>\n",
       "      <td>8B</td>\n",
       "      <td>930343</td>\n",
       "      <td>...</td>\n",
       "      <td>-</td>\n",
       "      <td>-</td>\n",
       "      <td>-</td>\n",
       "      <td>0</td>\n",
       "      <td>-</td>\n",
       "      <td>Supports</td>\n",
       "      <td>Ops Manager</td>\n",
       "      <td>P&amp;E Videos</td>\n",
       "      <td>1</td>\n",
       "      <td>NaN</td>\n",
       "    </tr>\n",
       "    <tr>\n",
       "      <th>1</th>\n",
       "      <td>shuklap</td>\n",
       "      <td>Active</td>\n",
       "      <td>85339</td>\n",
       "      <td>SHUKLA,PRAGYA</td>\n",
       "      <td>F</td>\n",
       "      <td>2007-05-09</td>\n",
       "      <td>GGN</td>\n",
       "      <td>pragya.shukla2@concentrix.com</td>\n",
       "      <td>8A</td>\n",
       "      <td>930343</td>\n",
       "      <td>...</td>\n",
       "      <td>-</td>\n",
       "      <td>-</td>\n",
       "      <td>-</td>\n",
       "      <td>0</td>\n",
       "      <td>-</td>\n",
       "      <td>Supports</td>\n",
       "      <td>Ops Manager</td>\n",
       "      <td>iLCS</td>\n",
       "      <td>1</td>\n",
       "      <td>NaN</td>\n",
       "    </tr>\n",
       "    <tr>\n",
       "      <th>2</th>\n",
       "      <td>manubhasin</td>\n",
       "      <td>Active</td>\n",
       "      <td>171579</td>\n",
       "      <td>BHASIN,MANU</td>\n",
       "      <td>M</td>\n",
       "      <td>2011-03-18</td>\n",
       "      <td>GGN</td>\n",
       "      <td>manu.bhasin@concentrix.com</td>\n",
       "      <td>9B</td>\n",
       "      <td>53862</td>\n",
       "      <td>...</td>\n",
       "      <td>-</td>\n",
       "      <td>-</td>\n",
       "      <td>-</td>\n",
       "      <td>0</td>\n",
       "      <td>-</td>\n",
       "      <td>Supports</td>\n",
       "      <td>Team Leader</td>\n",
       "      <td>P&amp;E Videos</td>\n",
       "      <td>1</td>\n",
       "      <td>NaN</td>\n",
       "    </tr>\n",
       "    <tr>\n",
       "      <th>3</th>\n",
       "      <td>gangesh</td>\n",
       "      <td>Active</td>\n",
       "      <td>187763</td>\n",
       "      <td>-,GANGESH</td>\n",
       "      <td>M</td>\n",
       "      <td>2012-01-10</td>\n",
       "      <td>GGN</td>\n",
       "      <td>gangesh.gangesh@concentrix.com</td>\n",
       "      <td>9A</td>\n",
       "      <td>5030621</td>\n",
       "      <td>...</td>\n",
       "      <td>-</td>\n",
       "      <td>-</td>\n",
       "      <td>-</td>\n",
       "      <td>0</td>\n",
       "      <td>-</td>\n",
       "      <td>Supports</td>\n",
       "      <td>Quality Team Leader</td>\n",
       "      <td>P&amp;E Videos</td>\n",
       "      <td>1</td>\n",
       "      <td>NaN</td>\n",
       "    </tr>\n",
       "    <tr>\n",
       "      <th>4</th>\n",
       "      <td>varkum</td>\n",
       "      <td>Active</td>\n",
       "      <td>188834</td>\n",
       "      <td>KUMAR,VARUN</td>\n",
       "      <td>M</td>\n",
       "      <td>2012-02-09</td>\n",
       "      <td>GGN</td>\n",
       "      <td>kumar.varun@concentrix.com</td>\n",
       "      <td>8A</td>\n",
       "      <td>930343</td>\n",
       "      <td>...</td>\n",
       "      <td>-</td>\n",
       "      <td>-</td>\n",
       "      <td>-</td>\n",
       "      <td>0</td>\n",
       "      <td>-</td>\n",
       "      <td>Supports</td>\n",
       "      <td>Ops Manager</td>\n",
       "      <td>Scaled Abuse</td>\n",
       "      <td>1</td>\n",
       "      <td>NaN</td>\n",
       "    </tr>\n",
       "  </tbody>\n",
       "</table>\n",
       "<p>5 rows × 49 columns</p>\n",
       "</div>"
      ],
      "text/plain": [
       "         LDAP  Status  Empl Id           Name Gender    Hire_Dt Location  \\\n",
       "0       atulu  Active    53862  UPADHYAY,ATUL      M 2006-02-28      GGN   \n",
       "1     shuklap  Active    85339  SHUKLA,PRAGYA      F 2007-05-09      GGN   \n",
       "2  manubhasin  Active   171579    BHASIN,MANU      M 2011-03-18      GGN   \n",
       "3     gangesh  Active   187763      -,GANGESH      M 2012-01-10      GGN   \n",
       "4      varkum  Active   188834    KUMAR,VARUN      M 2012-02-09      GGN   \n",
       "\n",
       "                     CNX Email ID Band    SupID ...  Skill/Cross skill  \\\n",
       "0    atul.upadhyay@concentrix.com   8B   930343 ...                  -   \n",
       "1   pragya.shukla2@concentrix.com   8A   930343 ...                  -   \n",
       "2      manu.bhasin@concentrix.com   9B    53862 ...                  -   \n",
       "3  gangesh.gangesh@concentrix.com   9A  5030621 ...                  -   \n",
       "4      kumar.varun@concentrix.com   8A   930343 ...                  -   \n",
       "\n",
       "  Trng Start Trng End xSPT/AG xGrouping YGrouping                  XGC  \\\n",
       "0          -        -       0         -  Supports          Ops Manager   \n",
       "1          -        -       0         -  Supports          Ops Manager   \n",
       "2          -        -       0         -  Supports          Team Leader   \n",
       "3          -        -       0         -  Supports  Quality Team Leader   \n",
       "4          -        -       0         -  Supports          Ops Manager   \n",
       "\n",
       "  SPOC Ratio Calc Check   C2  \n",
       "0      P&E Videos     1  NaN  \n",
       "1            iLCS     1  NaN  \n",
       "2      P&E Videos     1  NaN  \n",
       "3      P&E Videos     1  NaN  \n",
       "4    Scaled Abuse     1  NaN  \n",
       "\n",
       "[5 rows x 49 columns]"
      ]
     },
     "execution_count": 7,
     "metadata": {},
     "output_type": "execute_result"
    }
   ],
   "source": [
    "gc.head()"
   ]
  },
  {
   "cell_type": "code",
   "execution_count": 8,
   "metadata": {},
   "outputs": [
    {
     "data": {
      "text/plain": [
       "0    2018-06-11\n",
       "1    2018-05-28\n",
       "2    2018-06-04\n",
       "3    2018-07-02\n",
       "4    2018-05-18\n",
       "Name: closed_day, dtype: object"
      ]
     },
     "execution_count": 8,
     "metadata": {},
     "output_type": "execute_result"
    }
   ],
   "source": [
    "df2.closed_day.head()"
   ]
  },
  {
   "cell_type": "code",
   "execution_count": 9,
   "metadata": {},
   "outputs": [],
   "source": [
    "for i in range(0,len(df1)):\n",
    "    df1.iloc[i,df1.columns.get_loc(\"closed_day\")] = datetime.datetime.strptime(df1.iloc[i,df1.columns.get_loc(\"closed_day\")], '%m/%d/%Y').strftime('%Y-%m-%d')"
   ]
  },
  {
   "cell_type": "code",
   "execution_count": 11,
   "metadata": {},
   "outputs": [
    {
     "data": {
      "text/plain": [
       "0    2018-05-16\n",
       "1    2017-03-17\n",
       "2    2017-10-09\n",
       "3    2018-06-05\n",
       "4    2018-01-24\n",
       "Name: closed_day, dtype: object"
      ]
     },
     "execution_count": 11,
     "metadata": {},
     "output_type": "execute_result"
    }
   ],
   "source": [
    "df1.closed_day.head()"
   ]
  },
  {
   "cell_type": "code",
   "execution_count": 12,
   "metadata": {},
   "outputs": [],
   "source": [
    "# merge df and df_not dataframes\n",
    "frames = [df,df1]\n",
    "df_ = pd.concat(frames)\n",
    "frames1 = [df_,df2]\n",
    "df_1 = pd.concat(frames1)"
   ]
  },
  {
   "cell_type": "code",
   "execution_count": 13,
   "metadata": {},
   "outputs": [],
   "source": [
    "for i in range(0,len(df_1)):\n",
    "    df_1.iloc[i,12] = datetime.datetime.strptime(df_1.iloc[i,12], '%Y-%m-%d').date()"
   ]
  },
  {
   "cell_type": "code",
   "execution_count": 17,
   "metadata": {},
   "outputs": [
    {
     "data": {
      "text/plain": [
       "40953    2017-01-01\n",
       "7289     2017-01-01\n",
       "42760    2017-01-01\n",
       "13147    2017-01-01\n",
       "11728    2017-01-01\n",
       "Name: closed_day, dtype: object"
      ]
     },
     "execution_count": 17,
     "metadata": {},
     "output_type": "execute_result"
    }
   ],
   "source": [
    "df_1.iloc[:,12].sort_values(ascending = True).head()"
   ]
  },
  {
   "cell_type": "code",
   "execution_count": 16,
   "metadata": {
    "scrolled": true
   },
   "outputs": [
    {
     "data": {
      "text/plain": [
       "195      2018-07-10\n",
       "8708     2018-07-10\n",
       "3336     2018-07-10\n",
       "10344    2018-07-10\n",
       "531      2018-07-10\n",
       "Name: closed_day, dtype: object"
      ]
     },
     "execution_count": 16,
     "metadata": {},
     "output_type": "execute_result"
    }
   ],
   "source": [
    "df_1.iloc[:,12].sort_values(ascending = False).head()"
   ]
  },
  {
   "cell_type": "code",
   "execution_count": null,
   "metadata": {},
   "outputs": [],
   "source": []
  },
  {
   "cell_type": "code",
   "execution_count": null,
   "metadata": {},
   "outputs": [],
   "source": [
    "df_1[\"before_april\"] = df_1.closed_day < datetime.datetime.strptime(\"2018-04-01\",\"%Y-%m-%d\").date()"
   ]
  },
  {
   "cell_type": "code",
   "execution_count": null,
   "metadata": {},
   "outputs": [],
   "source": [
    "df_1.before_april.value_counts()"
   ]
  },
  {
   "cell_type": "code",
   "execution_count": null,
   "metadata": {},
   "outputs": [],
   "source": [
    "df_1['a.assignee_username'] = df_1['a.assignee_username'].str.lower()\n",
    "gc[\"LDAP\"] = gc[\"LDAP\"].str.lower()"
   ]
  },
  {
   "cell_type": "code",
   "execution_count": null,
   "metadata": {},
   "outputs": [],
   "source": [
    "df_1[\"yes_tenure\"] = df_1[\"a.assignee_username\"].isin(ldap)"
   ]
  },
  {
   "cell_type": "code",
   "execution_count": null,
   "metadata": {},
   "outputs": [],
   "source": [
    "df_1.yes_tenure.value_counts()"
   ]
  },
  {
   "cell_type": "code",
   "execution_count": null,
   "metadata": {},
   "outputs": [],
   "source": [
    "df_1 = df_1.reset_index(drop = True)"
   ]
  },
  {
   "cell_type": "code",
   "execution_count": null,
   "metadata": {},
   "outputs": [],
   "source": [
    "df_1.to_csv(\"df_1.csv\", index = False)"
   ]
  },
  {
   "cell_type": "code",
   "execution_count": null,
   "metadata": {},
   "outputs": [],
   "source": [
    "df_1 = pd.read_csv(\"df_1.csv\")"
   ]
  },
  {
   "cell_type": "code",
   "execution_count": null,
   "metadata": {},
   "outputs": [],
   "source": [
    "df_1 = pd.read_csv(\"df_1.csv\")"
   ]
  },
  {
   "cell_type": "code",
   "execution_count": null,
   "metadata": {},
   "outputs": [],
   "source": [
    "df_1.head()"
   ]
  },
  {
   "cell_type": "code",
   "execution_count": null,
   "metadata": {},
   "outputs": [],
   "source": [
    "df_1.yes_tenure.value_counts()"
   ]
  },
  {
   "cell_type": "code",
   "execution_count": null,
   "metadata": {},
   "outputs": [],
   "source": [
    "df_1 = df_1[df_1.yes_tenure == True]"
   ]
  },
  {
   "cell_type": "code",
   "execution_count": null,
   "metadata": {},
   "outputs": [],
   "source": [
    "df_1.yes_tenure.value_counts()"
   ]
  },
  {
   "cell_type": "code",
   "execution_count": null,
   "metadata": {},
   "outputs": [],
   "source": [
    "index = np.where(gc.LDAP == df_1.iloc[100,0])"
   ]
  },
  {
   "cell_type": "code",
   "execution_count": null,
   "metadata": {},
   "outputs": [],
   "source": [
    "index[0][0]"
   ]
  },
  {
   "cell_type": "code",
   "execution_count": null,
   "metadata": {},
   "outputs": [],
   "source": [
    "gc.loc[[index[0][0]]][\"Tenure\"].values[0]"
   ]
  },
  {
   "cell_type": "code",
   "execution_count": null,
   "metadata": {},
   "outputs": [],
   "source": [
    "ldap = gc.LDAP.tolist()\n",
    "ldap"
   ]
  },
  {
   "cell_type": "code",
   "execution_count": null,
   "metadata": {
    "scrolled": false
   },
   "outputs": [],
   "source": [
    "tenure = []\n",
    "for i in range(0,len(df_1)):\n",
    "    index = np.where(gc.LDAP == df_1.iloc[i,0])\n",
    "    if df_1.iloc[i,0] in ldap:\n",
    "        tenure.append(gc.loc[[index[0][0]]][\"Tenure\"].values[0])\n",
    "    else:\n",
    "        df_1.drop(df_1.drop[index[0][0]])"
   ]
  },
  {
   "cell_type": "code",
   "execution_count": null,
   "metadata": {
    "scrolled": true
   },
   "outputs": [],
   "source": [
    "print(len(df_1))\n",
    "len(tenure)"
   ]
  },
  {
   "cell_type": "code",
   "execution_count": null,
   "metadata": {},
   "outputs": [],
   "source": [
    "df_1.columns"
   ]
  },
  {
   "cell_type": "code",
   "execution_count": null,
   "metadata": {},
   "outputs": [],
   "source": [
    "df_1[\"tenure\"] = tenure"
   ]
  },
  {
   "cell_type": "code",
   "execution_count": null,
   "metadata": {},
   "outputs": [],
   "source": [
    "df_1.tenure.head()"
   ]
  },
  {
   "cell_type": "code",
   "execution_count": null,
   "metadata": {},
   "outputs": [],
   "source": [
    "df_1.to_csv(\"df_1.csv\", index = False)"
   ]
  },
  {
   "cell_type": "code",
   "execution_count": 144,
   "metadata": {},
   "outputs": [],
   "source": [
    "df_1 = pd.read_csv(\"df_1.csv\")"
   ]
  },
  {
   "cell_type": "code",
   "execution_count": 145,
   "metadata": {},
   "outputs": [],
   "source": [
    "df_1 = df_1.fillna(0)"
   ]
  },
  {
   "cell_type": "code",
   "execution_count": 146,
   "metadata": {},
   "outputs": [
    {
     "data": {
      "text/plain": [
       "0    6.0\n",
       "1    6.0\n",
       "2    0.0\n",
       "3    7.0\n",
       "4    0.0\n",
       "Name: csat_score, dtype: float64"
      ]
     },
     "execution_count": 146,
     "metadata": {},
     "output_type": "execute_result"
    }
   ],
   "source": [
    "df_1.csat_score.head()"
   ]
  },
  {
   "cell_type": "code",
   "execution_count": 147,
   "metadata": {},
   "outputs": [
    {
     "data": {
      "text/plain": [
       "71768"
      ]
     },
     "execution_count": 147,
     "metadata": {},
     "output_type": "execute_result"
    }
   ],
   "source": [
    "len(df_1)"
   ]
  },
  {
   "cell_type": "code",
   "execution_count": 148,
   "metadata": {},
   "outputs": [],
   "source": [
    "df_1 = df_1[df_1.csat_score != 0]"
   ]
  },
  {
   "cell_type": "code",
   "execution_count": 149,
   "metadata": {},
   "outputs": [
    {
     "data": {
      "text/plain": [
       "13172"
      ]
     },
     "execution_count": 149,
     "metadata": {},
     "output_type": "execute_result"
    }
   ],
   "source": [
    "len(df_1)"
   ]
  },
  {
   "cell_type": "code",
   "execution_count": 150,
   "metadata": {},
   "outputs": [
    {
     "data": {
      "text/plain": [
       "7.0    8603\n",
       "6.0    3837\n",
       "1.0     201\n",
       "5.0     148\n",
       "4.0     138\n",
       "3.0     129\n",
       "2.0     116\n",
       "Name: csat_score, dtype: int64"
      ]
     },
     "execution_count": 150,
     "metadata": {},
     "output_type": "execute_result"
    }
   ],
   "source": [
    "df_1.csat_score.value_counts()"
   ]
  },
  {
   "cell_type": "code",
   "execution_count": 151,
   "metadata": {},
   "outputs": [],
   "source": [
    "ix = df_1.columns.get_loc(\"csat_score\")\n",
    "for i in range(0,len(df_1)):\n",
    "    if df_1.iloc[i,ix] >5:\n",
    "        df_1.iloc[i,ix] = 0\n",
    "    else:\n",
    "        df_1.iloc[i,ix] = 1"
   ]
  },
  {
   "cell_type": "code",
   "execution_count": null,
   "metadata": {},
   "outputs": [],
   "source": [
    "v1 = pd.DataFrame(df_1.groupby(['sub_region','csat_score']).size())\n",
    "v1.to_csv(\"intera.csv\")\n",
    "v = pd.DataFrame(df_1[\"sub_region\"].value_counts())\n",
    "v.to_csv(\"v.csv\")"
   ]
  },
  {
   "cell_type": "code",
   "execution_count": 10,
   "metadata": {},
   "outputs": [
    {
     "data": {
      "text/plain": [
       "Index(['a.assignee_username', 'a.customer_country', 'a.start_timestamp',\n",
       "       'a.submitter_username', 'a.total_number_of_interactions',\n",
       "       'adelphi_due_date', 'adelphi_due_date_checked',\n",
       "       'adelphi_due_date_timestamp', 'b.msp', 'bulk_flag',\n",
       "       ...\n",
       "       'subject_line', 'until_which_date', 'urgent_flag', 'vertical',\n",
       "       'vertical_cerebro', 'within_due_date', 'youtube_report_category',\n",
       "       'before_april', 'yes_tenure', 'tenure'],\n",
       "      dtype='object', length=106)"
      ]
     },
     "execution_count": 10,
     "metadata": {},
     "output_type": "execute_result"
    }
   ],
   "source": [
    "df_1.columns"
   ]
  },
  {
   "cell_type": "code",
   "execution_count": 152,
   "metadata": {},
   "outputs": [],
   "source": [
    "cols = pd.read_excel(\"C:\\\\Users\\\\prashant.sinha3\\\\Documents\\\\work\\\\me\\\\S2\\\\data\\\\S2_variables_1.xlsx\", sheet_name=\"S2_variables_1\")"
   ]
  },
  {
   "cell_type": "code",
   "execution_count": 153,
   "metadata": {},
   "outputs": [],
   "source": [
    "columns = cols[\"Variables\"][cols.Flag == \"y\"]"
   ]
  },
  {
   "cell_type": "code",
   "execution_count": 154,
   "metadata": {},
   "outputs": [],
   "source": [
    "columns = columns.tolist()"
   ]
  },
  {
   "cell_type": "code",
   "execution_count": 155,
   "metadata": {},
   "outputs": [
    {
     "data": {
      "text/plain": [
       "['a.total_number_of_interactions',\n",
       " 'bulk_flag',\n",
       " 'child',\n",
       " 'csat_score',\n",
       " 'frequency_of_report',\n",
       " 'GDN_report_category',\n",
       " 'is_neon',\n",
       " 'master_case_flag',\n",
       " 'Parent_flag',\n",
       " 'priority',\n",
       " 'recurring_flag',\n",
       " 'region',\n",
       " 'reporting_product_type',\n",
       " 'search_report_category',\n",
       " 'sector',\n",
       " 'service_type',\n",
       " 'sub_region',\n",
       " 'sub_sector',\n",
       " 'urgent_flag',\n",
       " 'vertical',\n",
       " 'vertical_cerebro',\n",
       " 'youtube_report_category',\n",
       " 'tenure']"
      ]
     },
     "execution_count": 155,
     "metadata": {},
     "output_type": "execute_result"
    }
   ],
   "source": [
    "columns"
   ]
  },
  {
   "cell_type": "code",
   "execution_count": 156,
   "metadata": {},
   "outputs": [],
   "source": [
    "df_1 = df_1.loc[:,columns]"
   ]
  },
  {
   "cell_type": "code",
   "execution_count": 157,
   "metadata": {},
   "outputs": [
    {
     "data": {
      "text/plain": [
       "Index(['a.total_number_of_interactions', 'bulk_flag', 'child', 'csat_score',\n",
       "       'frequency_of_report', 'GDN_report_category', 'is_neon',\n",
       "       'master_case_flag', 'Parent_flag', 'priority', 'recurring_flag',\n",
       "       'region', 'reporting_product_type', 'search_report_category', 'sector',\n",
       "       'service_type', 'sub_region', 'sub_sector', 'urgent_flag', 'vertical',\n",
       "       'vertical_cerebro', 'youtube_report_category', 'tenure'],\n",
       "      dtype='object')"
      ]
     },
     "execution_count": 157,
     "metadata": {},
     "output_type": "execute_result"
    }
   ],
   "source": [
    "df_1.columns"
   ]
  },
  {
   "cell_type": "code",
   "execution_count": 158,
   "metadata": {},
   "outputs": [],
   "source": [
    "l_vertical = pd.read_excel(\"EDA.xlsx\", sheet_name=\"vertical\", usecols=[5,6])"
   ]
  },
  {
   "cell_type": "code",
   "execution_count": 159,
   "metadata": {},
   "outputs": [],
   "source": [
    "l_vertical = l_vertical[~l_vertical.count__.isna()]"
   ]
  },
  {
   "cell_type": "code",
   "execution_count": 160,
   "metadata": {
    "scrolled": true
   },
   "outputs": [
    {
     "data": {
      "text/html": [
       "<div>\n",
       "<style scoped>\n",
       "    .dataframe tbody tr th:only-of-type {\n",
       "        vertical-align: middle;\n",
       "    }\n",
       "\n",
       "    .dataframe tbody tr th {\n",
       "        vertical-align: top;\n",
       "    }\n",
       "\n",
       "    .dataframe thead th {\n",
       "        text-align: right;\n",
       "    }\n",
       "</style>\n",
       "<table border=\"1\" class=\"dataframe\">\n",
       "  <thead>\n",
       "    <tr style=\"text-align: right;\">\n",
       "      <th></th>\n",
       "      <th>vertical</th>\n",
       "      <th>count__</th>\n",
       "    </tr>\n",
       "  </thead>\n",
       "  <tbody>\n",
       "    <tr>\n",
       "      <th>0</th>\n",
       "      <td>Food &amp; Beverages</td>\n",
       "      <td>1267.0</td>\n",
       "    </tr>\n",
       "    <tr>\n",
       "      <th>1</th>\n",
       "      <td>Retail</td>\n",
       "      <td>1142.0</td>\n",
       "    </tr>\n",
       "    <tr>\n",
       "      <th>2</th>\n",
       "      <td>Food, Beverages, Restaurants</td>\n",
       "      <td>1114.0</td>\n",
       "    </tr>\n",
       "    <tr>\n",
       "      <th>3</th>\n",
       "      <td>Media &amp; Entertainment</td>\n",
       "      <td>750.0</td>\n",
       "    </tr>\n",
       "    <tr>\n",
       "      <th>4</th>\n",
       "      <td>Consumer Packaged Goods</td>\n",
       "      <td>738.0</td>\n",
       "    </tr>\n",
       "    <tr>\n",
       "      <th>5</th>\n",
       "      <td>Travel</td>\n",
       "      <td>627.0</td>\n",
       "    </tr>\n",
       "    <tr>\n",
       "      <th>6</th>\n",
       "      <td>Home &amp; Personal Care</td>\n",
       "      <td>607.0</td>\n",
       "    </tr>\n",
       "    <tr>\n",
       "      <th>7</th>\n",
       "      <td>Services All Verticals</td>\n",
       "      <td>591.0</td>\n",
       "    </tr>\n",
       "    <tr>\n",
       "      <th>8</th>\n",
       "      <td>Technology</td>\n",
       "      <td>403.0</td>\n",
       "    </tr>\n",
       "    <tr>\n",
       "      <th>9</th>\n",
       "      <td>Retail - Specialty</td>\n",
       "      <td>394.0</td>\n",
       "    </tr>\n",
       "    <tr>\n",
       "      <th>10</th>\n",
       "      <td>Automotive</td>\n",
       "      <td>392.0</td>\n",
       "    </tr>\n",
       "    <tr>\n",
       "      <th>11</th>\n",
       "      <td>Education &amp; Government</td>\n",
       "      <td>291.0</td>\n",
       "    </tr>\n",
       "    <tr>\n",
       "      <th>12</th>\n",
       "      <td>Branded Apparel &amp; Durables</td>\n",
       "      <td>291.0</td>\n",
       "    </tr>\n",
       "    <tr>\n",
       "      <th>13</th>\n",
       "      <td>Home</td>\n",
       "      <td>249.0</td>\n",
       "    </tr>\n",
       "    <tr>\n",
       "      <th>14</th>\n",
       "      <td>Retail - Pure Play</td>\n",
       "      <td>246.0</td>\n",
       "    </tr>\n",
       "    <tr>\n",
       "      <th>15</th>\n",
       "      <td>Gov't &amp; Advocacy</td>\n",
       "      <td>232.0</td>\n",
       "    </tr>\n",
       "    <tr>\n",
       "      <th>16</th>\n",
       "      <td>Technology - Telecom</td>\n",
       "      <td>199.0</td>\n",
       "    </tr>\n",
       "    <tr>\n",
       "      <th>17</th>\n",
       "      <td>App</td>\n",
       "      <td>182.0</td>\n",
       "    </tr>\n",
       "    <tr>\n",
       "      <th>18</th>\n",
       "      <td>Finance</td>\n",
       "      <td>175.0</td>\n",
       "    </tr>\n",
       "    <tr>\n",
       "      <th>19</th>\n",
       "      <td>Technology - Consumer Electronics</td>\n",
       "      <td>173.0</td>\n",
       "    </tr>\n",
       "    <tr>\n",
       "      <th>20</th>\n",
       "      <td>Personals, IAC, and Careers</td>\n",
       "      <td>172.0</td>\n",
       "    </tr>\n",
       "    <tr>\n",
       "      <th>21</th>\n",
       "      <td>Financial Services - East</td>\n",
       "      <td>160.0</td>\n",
       "    </tr>\n",
       "    <tr>\n",
       "      <th>22</th>\n",
       "      <td>Travel - Jetsetters</td>\n",
       "      <td>143.0</td>\n",
       "    </tr>\n",
       "    <tr>\n",
       "      <th>23</th>\n",
       "      <td>Retail - Big Box</td>\n",
       "      <td>132.0</td>\n",
       "    </tr>\n",
       "    <tr>\n",
       "      <th>24</th>\n",
       "      <td>Automakers</td>\n",
       "      <td>127.0</td>\n",
       "    </tr>\n",
       "    <tr>\n",
       "      <th>25</th>\n",
       "      <td>GB - ReTech</td>\n",
       "      <td>126.0</td>\n",
       "    </tr>\n",
       "    <tr>\n",
       "      <th>26</th>\n",
       "      <td>GB - Finance &amp; Services</td>\n",
       "      <td>114.0</td>\n",
       "    </tr>\n",
       "    <tr>\n",
       "      <th>27</th>\n",
       "      <td>Business &amp; Industrial Markets</td>\n",
       "      <td>113.0</td>\n",
       "    </tr>\n",
       "    <tr>\n",
       "      <th>28</th>\n",
       "      <td>Pharma &amp; OTC</td>\n",
       "      <td>103.0</td>\n",
       "    </tr>\n",
       "    <tr>\n",
       "      <th>29</th>\n",
       "      <td>Classifieds &amp; Local</td>\n",
       "      <td>91.0</td>\n",
       "    </tr>\n",
       "    <tr>\n",
       "      <th>...</th>\n",
       "      <td>...</td>\n",
       "      <td>...</td>\n",
       "    </tr>\n",
       "    <tr>\n",
       "      <th>72</th>\n",
       "      <td>ES - Performers</td>\n",
       "      <td>12.0</td>\n",
       "    </tr>\n",
       "    <tr>\n",
       "      <th>73</th>\n",
       "      <td>Tech/Telco, Entertainment &amp; Local</td>\n",
       "      <td>11.0</td>\n",
       "    </tr>\n",
       "    <tr>\n",
       "      <th>74</th>\n",
       "      <td>Household</td>\n",
       "      <td>9.0</td>\n",
       "    </tr>\n",
       "    <tr>\n",
       "      <th>75</th>\n",
       "      <td>CN - Exp Retail</td>\n",
       "      <td>8.0</td>\n",
       "    </tr>\n",
       "    <tr>\n",
       "      <th>76</th>\n",
       "      <td>AU - T-Rex</td>\n",
       "      <td>8.0</td>\n",
       "    </tr>\n",
       "    <tr>\n",
       "      <th>77</th>\n",
       "      <td>NZ - New Zealand</td>\n",
       "      <td>7.0</td>\n",
       "    </tr>\n",
       "    <tr>\n",
       "      <th>78</th>\n",
       "      <td>DE - Accelerator</td>\n",
       "      <td>6.0</td>\n",
       "    </tr>\n",
       "    <tr>\n",
       "      <th>79</th>\n",
       "      <td>Mexico</td>\n",
       "      <td>6.0</td>\n",
       "    </tr>\n",
       "    <tr>\n",
       "      <th>80</th>\n",
       "      <td>Apparel &amp; Accessories &gt; Other (Apparel &amp; Acces...</td>\n",
       "      <td>4.0</td>\n",
       "    </tr>\n",
       "    <tr>\n",
       "      <th>81</th>\n",
       "      <td>Food &amp; Beverage &gt; Supermarket/Grocery</td>\n",
       "      <td>4.0</td>\n",
       "    </tr>\n",
       "    <tr>\n",
       "      <th>82</th>\n",
       "      <td>JP - L&amp;B/C&amp;E/ENT</td>\n",
       "      <td>4.0</td>\n",
       "    </tr>\n",
       "    <tr>\n",
       "      <th>83</th>\n",
       "      <td>Insurance</td>\n",
       "      <td>4.0</td>\n",
       "    </tr>\n",
       "    <tr>\n",
       "      <th>84</th>\n",
       "      <td>AU - Psi-Fi</td>\n",
       "      <td>3.0</td>\n",
       "    </tr>\n",
       "    <tr>\n",
       "      <th>85</th>\n",
       "      <td>CG&amp;E</td>\n",
       "      <td>3.0</td>\n",
       "    </tr>\n",
       "    <tr>\n",
       "      <th>86</th>\n",
       "      <td>Evolve</td>\n",
       "      <td>3.0</td>\n",
       "    </tr>\n",
       "    <tr>\n",
       "      <th>87</th>\n",
       "      <td>Multichannel Solutions</td>\n",
       "      <td>2.0</td>\n",
       "    </tr>\n",
       "    <tr>\n",
       "      <th>88</th>\n",
       "      <td>ID - Unsectored</td>\n",
       "      <td>2.0</td>\n",
       "    </tr>\n",
       "    <tr>\n",
       "      <th>89</th>\n",
       "      <td>AE - CPG &amp; Auto</td>\n",
       "      <td>2.0</td>\n",
       "    </tr>\n",
       "    <tr>\n",
       "      <th>90</th>\n",
       "      <td>NL - Performance next Level</td>\n",
       "      <td>2.0</td>\n",
       "    </tr>\n",
       "    <tr>\n",
       "      <th>91</th>\n",
       "      <td>JP - Tel/Tech/Fin/RE</td>\n",
       "      <td>1.0</td>\n",
       "    </tr>\n",
       "    <tr>\n",
       "      <th>92</th>\n",
       "      <td>Colombia</td>\n",
       "      <td>1.0</td>\n",
       "    </tr>\n",
       "    <tr>\n",
       "      <th>93</th>\n",
       "      <td>Multi Good Retailers &gt; Comparison Shopping / A...</td>\n",
       "      <td>1.0</td>\n",
       "    </tr>\n",
       "    <tr>\n",
       "      <th>94</th>\n",
       "      <td>DE - Retail</td>\n",
       "      <td>1.0</td>\n",
       "    </tr>\n",
       "    <tr>\n",
       "      <th>95</th>\n",
       "      <td>JP - Retail/Travel</td>\n",
       "      <td>1.0</td>\n",
       "    </tr>\n",
       "    <tr>\n",
       "      <th>96</th>\n",
       "      <td>FR - FAB</td>\n",
       "      <td>1.0</td>\n",
       "    </tr>\n",
       "    <tr>\n",
       "      <th>97</th>\n",
       "      <td>Finance - Wall Street</td>\n",
       "      <td>1.0</td>\n",
       "    </tr>\n",
       "    <tr>\n",
       "      <th>98</th>\n",
       "      <td>Government</td>\n",
       "      <td>1.0</td>\n",
       "    </tr>\n",
       "    <tr>\n",
       "      <th>99</th>\n",
       "      <td>Ticketing</td>\n",
       "      <td>1.0</td>\n",
       "    </tr>\n",
       "    <tr>\n",
       "      <th>100</th>\n",
       "      <td>Home &gt; Home Furnishings</td>\n",
       "      <td>1.0</td>\n",
       "    </tr>\n",
       "    <tr>\n",
       "      <th>101</th>\n",
       "      <td>IN - Multichannel Solutions</td>\n",
       "      <td>1.0</td>\n",
       "    </tr>\n",
       "  </tbody>\n",
       "</table>\n",
       "<p>102 rows × 2 columns</p>\n",
       "</div>"
      ],
      "text/plain": [
       "                                              vertical  count__\n",
       "0                                     Food & Beverages   1267.0\n",
       "1                                               Retail   1142.0\n",
       "2                         Food, Beverages, Restaurants   1114.0\n",
       "3                                Media & Entertainment    750.0\n",
       "4                              Consumer Packaged Goods    738.0\n",
       "5                                               Travel    627.0\n",
       "6                                 Home & Personal Care    607.0\n",
       "7                               Services All Verticals    591.0\n",
       "8                                           Technology    403.0\n",
       "9                                   Retail - Specialty    394.0\n",
       "10                                          Automotive    392.0\n",
       "11                              Education & Government    291.0\n",
       "12                          Branded Apparel & Durables    291.0\n",
       "13                                                Home    249.0\n",
       "14                                  Retail - Pure Play    246.0\n",
       "15                                    Gov't & Advocacy    232.0\n",
       "16                                Technology - Telecom    199.0\n",
       "17                                                 App    182.0\n",
       "18                                             Finance    175.0\n",
       "19                   Technology - Consumer Electronics    173.0\n",
       "20                         Personals, IAC, and Careers    172.0\n",
       "21                           Financial Services - East    160.0\n",
       "22                                 Travel - Jetsetters    143.0\n",
       "23                                    Retail - Big Box    132.0\n",
       "24                                          Automakers    127.0\n",
       "25                                         GB - ReTech    126.0\n",
       "26                             GB - Finance & Services    114.0\n",
       "27                       Business & Industrial Markets    113.0\n",
       "28                                        Pharma & OTC    103.0\n",
       "29                                 Classifieds & Local     91.0\n",
       "..                                                 ...      ...\n",
       "72                                     ES - Performers     12.0\n",
       "73                   Tech/Telco, Entertainment & Local     11.0\n",
       "74                                           Household      9.0\n",
       "75                                     CN - Exp Retail      8.0\n",
       "76                                          AU - T-Rex      8.0\n",
       "77                                    NZ - New Zealand      7.0\n",
       "78                                    DE - Accelerator      6.0\n",
       "79                                              Mexico      6.0\n",
       "80   Apparel & Accessories > Other (Apparel & Acces...      4.0\n",
       "81               Food & Beverage > Supermarket/Grocery      4.0\n",
       "82                                    JP - L&B/C&E/ENT      4.0\n",
       "83                                           Insurance      4.0\n",
       "84                                         AU - Psi-Fi      3.0\n",
       "85                                                CG&E      3.0\n",
       "86                                              Evolve      3.0\n",
       "87                              Multichannel Solutions      2.0\n",
       "88                                     ID - Unsectored      2.0\n",
       "89                                     AE - CPG & Auto      2.0\n",
       "90                         NL - Performance next Level      2.0\n",
       "91                                JP - Tel/Tech/Fin/RE      1.0\n",
       "92                                            Colombia      1.0\n",
       "93   Multi Good Retailers > Comparison Shopping / A...      1.0\n",
       "94                                         DE - Retail      1.0\n",
       "95                                  JP - Retail/Travel      1.0\n",
       "96                                            FR - FAB      1.0\n",
       "97                               Finance - Wall Street      1.0\n",
       "98                                          Government      1.0\n",
       "99                                           Ticketing      1.0\n",
       "100                            Home > Home Furnishings      1.0\n",
       "101                        IN - Multichannel Solutions      1.0\n",
       "\n",
       "[102 rows x 2 columns]"
      ]
     },
     "execution_count": 160,
     "metadata": {},
     "output_type": "execute_result"
    }
   ],
   "source": [
    "l_vertical"
   ]
  },
  {
   "cell_type": "code",
   "execution_count": 161,
   "metadata": {},
   "outputs": [],
   "source": [
    "l_vertical = l_vertical[l_vertical.count__ > 150]"
   ]
  },
  {
   "cell_type": "code",
   "execution_count": 162,
   "metadata": {},
   "outputs": [],
   "source": [
    "l_vertical = l_vertical.loc[:,\"vertical\"].tolist()"
   ]
  },
  {
   "cell_type": "code",
   "execution_count": 163,
   "metadata": {
    "scrolled": true
   },
   "outputs": [
    {
     "data": {
      "text/plain": [
       "['Food & Beverages',\n",
       " 'Retail',\n",
       " 'Food, Beverages, Restaurants',\n",
       " 'Media & Entertainment',\n",
       " 'Consumer Packaged Goods',\n",
       " 'Travel',\n",
       " 'Home & Personal Care',\n",
       " 'Services All Verticals',\n",
       " 'Technology',\n",
       " 'Retail - Specialty',\n",
       " 'Automotive',\n",
       " 'Education & Government',\n",
       " 'Branded Apparel & Durables',\n",
       " 'Home',\n",
       " 'Retail - Pure Play',\n",
       " \"Gov't & Advocacy\",\n",
       " 'Technology - Telecom',\n",
       " 'App',\n",
       " 'Finance',\n",
       " 'Technology - Consumer Electronics',\n",
       " 'Personals, IAC, and Careers',\n",
       " 'Financial Services - East']"
      ]
     },
     "execution_count": 163,
     "metadata": {},
     "output_type": "execute_result"
    }
   ],
   "source": [
    "l_vertical"
   ]
  },
  {
   "cell_type": "code",
   "execution_count": 164,
   "metadata": {},
   "outputs": [],
   "source": [
    "with open(\"l_vertical.txt\", \"wb\") as fp:\n",
    "    pickle.dump(l_vertical, fp)"
   ]
  },
  {
   "cell_type": "code",
   "execution_count": 165,
   "metadata": {},
   "outputs": [
    {
     "data": {
      "text/plain": [
       "13172"
      ]
     },
     "execution_count": 165,
     "metadata": {},
     "output_type": "execute_result"
    }
   ],
   "source": [
    "len(df_1)"
   ]
  },
  {
   "cell_type": "code",
   "execution_count": 166,
   "metadata": {},
   "outputs": [],
   "source": [
    "df_1 = df_1[df_1.vertical.isin(l_vertical)]"
   ]
  },
  {
   "cell_type": "code",
   "execution_count": 167,
   "metadata": {},
   "outputs": [
    {
     "data": {
      "text/plain": [
       "10395"
      ]
     },
     "execution_count": 167,
     "metadata": {},
     "output_type": "execute_result"
    }
   ],
   "source": [
    "len(df_1)"
   ]
  },
  {
   "cell_type": "code",
   "execution_count": 168,
   "metadata": {},
   "outputs": [],
   "source": [
    "l_subsector = pd.read_excel(\"EDA.xlsx\", sheet_name=\"sub_sector\", usecols=[4,5])\n",
    "l_subsector = l_subsector[~l_subsector.count__.isna()]\n",
    "l_subsector = l_subsector[l_subsector.count__ > 150]\n",
    "l_subsector = l_subsector.loc[:,\"sub_sector\"].tolist()\n",
    "with open(\"l_subsector.txt\", \"wb\") as fp:\n",
    "    pickle.dump(l_subsector, fp)"
   ]
  },
  {
   "cell_type": "code",
   "execution_count": 169,
   "metadata": {},
   "outputs": [
    {
     "data": {
      "text/plain": [
       "['Food',\n",
       " 0,\n",
       " 'Home & Personal Care',\n",
       " 'Retail - Specialty',\n",
       " 'Branded Apparel & Durables',\n",
       " 'Media & Entertainment',\n",
       " 'Technology - Telecom',\n",
       " 'Retail - Pure Play',\n",
       " 'Travel - Jetsetters',\n",
       " 'App',\n",
       " 'Automotive 2',\n",
       " \"Gov't & Advocacy\",\n",
       " 'Retail - Big Box',\n",
       " 'Automotive 1',\n",
       " 'Retail',\n",
       " 'Personals',\n",
       " 'Technology - Consumer Electronics',\n",
       " 'Financial Services - East',\n",
       " 'Home & Consumer Services',\n",
       " 'Pharma & OTC']"
      ]
     },
     "execution_count": 169,
     "metadata": {},
     "output_type": "execute_result"
    }
   ],
   "source": [
    "l_subsector"
   ]
  },
  {
   "cell_type": "code",
   "execution_count": 170,
   "metadata": {},
   "outputs": [],
   "source": [
    "df_1 = df_1[df_1.sub_sector.isin(l_subsector)]"
   ]
  },
  {
   "cell_type": "code",
   "execution_count": 171,
   "metadata": {},
   "outputs": [
    {
     "data": {
      "text/plain": [
       "9729"
      ]
     },
     "execution_count": 171,
     "metadata": {},
     "output_type": "execute_result"
    }
   ],
   "source": [
    "len(df_1)"
   ]
  },
  {
   "cell_type": "code",
   "execution_count": 172,
   "metadata": {},
   "outputs": [],
   "source": [
    "l_vc = pd.read_excel(\"EDA.xlsx\", sheet_name=\"vertical_cerebro\", usecols=[5,6])\n",
    "l_vc = l_vc[~l_vc.count__.isna()]\n",
    "l_vc = l_vc[l_vc.count__ > 150]\n",
    "l_vc = l_vc.loc[:,\"vertical_cerebro\"].tolist()\n",
    "with open(\"l_vc.txt\", \"wb\") as fp:\n",
    "    pickle.dump(l_vc, fp)"
   ]
  },
  {
   "cell_type": "code",
   "execution_count": 173,
   "metadata": {},
   "outputs": [
    {
     "data": {
      "text/plain": [
       "9638"
      ]
     },
     "execution_count": 173,
     "metadata": {},
     "output_type": "execute_result"
    }
   ],
   "source": [
    "df_1 = df_1[df_1.vertical_cerebro.isin(l_vc)]\n",
    "len(df_1)"
   ]
  },
  {
   "cell_type": "code",
   "execution_count": 174,
   "metadata": {},
   "outputs": [],
   "source": [
    "l_spc = pd.read_excel(\"EDA.xlsx\", sheet_name=\"search_report_category\", usecols=[4,5])\n",
    "l_spc = l_spc[~l_spc.count__.isna()]\n",
    "l_spc = l_spc[l_spc.count__ > 150]\n",
    "l_spc = l_spc.loc[:,\"search_report_category\"].tolist()\n",
    "with open(\"l_spc.txt\", \"wb\") as fp:\n",
    "    pickle.dump(l_spc, fp)"
   ]
  },
  {
   "cell_type": "code",
   "execution_count": 175,
   "metadata": {},
   "outputs": [
    {
     "data": {
      "text/plain": [
       "9350"
      ]
     },
     "execution_count": 175,
     "metadata": {},
     "output_type": "execute_result"
    }
   ],
   "source": [
    "df_1 = df_1[df_1.search_report_category.isin(l_spc)]\n",
    "len(df_1)"
   ]
  },
  {
   "cell_type": "code",
   "execution_count": 176,
   "metadata": {},
   "outputs": [],
   "source": [
    "l_sector = pd.read_excel(\"EDA.xlsx\", sheet_name=\"sector\", usecols=[5,6])\n",
    "l_sector = l_sector[~l_sector.count__.isna()]\n",
    "l_sector = l_sector[l_sector.count__ > 150]\n",
    "l_sector = l_sector.loc[:,\"sector\"].tolist()\n",
    "with open(\"l_sector.txt\", \"wb\") as fp:\n",
    "    pickle.dump(l_sector, fp)"
   ]
  },
  {
   "cell_type": "code",
   "execution_count": 177,
   "metadata": {},
   "outputs": [
    {
     "data": {
      "text/plain": [
       "9128"
      ]
     },
     "execution_count": 177,
     "metadata": {},
     "output_type": "execute_result"
    }
   ],
   "source": [
    "df_1 = df_1[df_1.sector.isin(l_sector)]\n",
    "len(df_1)"
   ]
  },
  {
   "cell_type": "code",
   "execution_count": 178,
   "metadata": {},
   "outputs": [],
   "source": [
    "df_1 = df_1[~df_1.reporting_product_type.isin([\"data_studio\",0])]"
   ]
  },
  {
   "cell_type": "code",
   "execution_count": 179,
   "metadata": {},
   "outputs": [
    {
     "data": {
      "text/plain": [
       "search     5048\n",
       "youtube    3023\n",
       "gdn         877\n",
       "Name: reporting_product_type, dtype: int64"
      ]
     },
     "execution_count": 179,
     "metadata": {},
     "output_type": "execute_result"
    }
   ],
   "source": [
    "df_1.reporting_product_type.value_counts()"
   ]
  },
  {
   "cell_type": "code",
   "execution_count": 180,
   "metadata": {},
   "outputs": [],
   "source": [
    "l_yrc = pd.read_excel(\"EDA.xlsx\", sheet_name=\"youtube_report_category\", usecols=[5,6])\n",
    "l_yrc = l_yrc[~l_yrc.count__.isna()]\n",
    "l_yrc = l_yrc[l_yrc.count__ > 150]\n",
    "l_yrc = l_yrc.loc[:,\"youtube_report_category\"].tolist()\n",
    "with open(\"l_yrc.txt\", \"wb\") as fp:\n",
    "    pickle.dump(l_yrc, fp)"
   ]
  },
  {
   "cell_type": "code",
   "execution_count": 181,
   "metadata": {},
   "outputs": [
    {
     "data": {
      "text/plain": [
       "[0, 'custom', 'account_audit_performance', 'reserve_auction']"
      ]
     },
     "execution_count": 181,
     "metadata": {},
     "output_type": "execute_result"
    }
   ],
   "source": [
    "l_yrc"
   ]
  },
  {
   "cell_type": "code",
   "execution_count": 182,
   "metadata": {},
   "outputs": [
    {
     "data": {
      "text/plain": [
       "8824"
      ]
     },
     "execution_count": 182,
     "metadata": {},
     "output_type": "execute_result"
    }
   ],
   "source": [
    "df_1 = df_1[df_1.youtube_report_category.isin(l_yrc)]\n",
    "len(df_1)"
   ]
  },
  {
   "cell_type": "code",
   "execution_count": 183,
   "metadata": {},
   "outputs": [],
   "source": [
    "df_1 = df_1[~df_1.GDN_report_category.isin([\"ad_format_extensions\",\"mobile\"])]"
   ]
  },
  {
   "cell_type": "code",
   "execution_count": 184,
   "metadata": {},
   "outputs": [
    {
     "data": {
      "text/plain": [
       "8809"
      ]
     },
     "execution_count": 184,
     "metadata": {},
     "output_type": "execute_result"
    }
   ],
   "source": [
    "len(df_1)"
   ]
  },
  {
   "cell_type": "code",
   "execution_count": 185,
   "metadata": {},
   "outputs": [],
   "source": [
    "df_1 = df_1[df_1.sub_region.isin([\"United States (Region)\",\"UK/IE\",\"SEA\",\"Canada (Region)\",\"Russia/Middle East/Africa\",\"AU/NZ\",\"FR/IT/ES/PT\"])]"
   ]
  },
  {
   "cell_type": "code",
   "execution_count": 186,
   "metadata": {},
   "outputs": [
    {
     "data": {
      "text/plain": [
       "8809"
      ]
     },
     "execution_count": 186,
     "metadata": {},
     "output_type": "execute_result"
    }
   ],
   "source": [
    "len(df_1)"
   ]
  },
  {
   "cell_type": "code",
   "execution_count": 187,
   "metadata": {},
   "outputs": [
    {
     "data": {
      "text/plain": [
       "United States (Region)    8632\n",
       "UK/IE                      128\n",
       "SEA                         37\n",
       "Canada (Region)             12\n",
       "Name: sub_region, dtype: int64"
      ]
     },
     "execution_count": 187,
     "metadata": {},
     "output_type": "execute_result"
    }
   ],
   "source": [
    "df_1.sub_region.value_counts()"
   ]
  },
  {
   "cell_type": "code",
   "execution_count": 188,
   "metadata": {},
   "outputs": [
    {
     "data": {
      "text/plain": [
       "Index(['a.total_number_of_interactions', 'bulk_flag', 'child', 'csat_score',\n",
       "       'frequency_of_report', 'GDN_report_category', 'is_neon',\n",
       "       'master_case_flag', 'Parent_flag', 'priority', 'recurring_flag',\n",
       "       'region', 'reporting_product_type', 'search_report_category', 'sector',\n",
       "       'service_type', 'sub_region', 'sub_sector', 'urgent_flag', 'vertical',\n",
       "       'vertical_cerebro', 'youtube_report_category', 'tenure'],\n",
       "      dtype='object')"
      ]
     },
     "execution_count": 188,
     "metadata": {},
     "output_type": "execute_result"
    }
   ],
   "source": [
    "df_1.columns"
   ]
  },
  {
   "cell_type": "code",
   "execution_count": 189,
   "metadata": {},
   "outputs": [
    {
     "data": {
      "text/plain": [
       "1     7063\n",
       "2     1103\n",
       "3      340\n",
       "4      135\n",
       "0       65\n",
       "5       53\n",
       "6       22\n",
       "7       13\n",
       "8        9\n",
       "12       3\n",
       "10       3\n",
       "Name: a.total_number_of_interactions, dtype: int64"
      ]
     },
     "execution_count": 189,
     "metadata": {},
     "output_type": "execute_result"
    }
   ],
   "source": [
    "df_1[\"a.total_number_of_interactions\"].value_counts()"
   ]
  },
  {
   "cell_type": "code",
   "execution_count": 190,
   "metadata": {},
   "outputs": [
    {
     "data": {
      "text/plain": [
       "a.total_number_of_interactions  csat_score\n",
       "0                               0.0             65\n",
       "1                               0.0           6827\n",
       "                                1.0            236\n",
       "2                               0.0           1010\n",
       "                                1.0             93\n",
       "3                               0.0            284\n",
       "                                1.0             56\n",
       "4                               0.0            100\n",
       "                                1.0             35\n",
       "5                               0.0             40\n",
       "                                1.0             13\n",
       "6                               0.0             15\n",
       "                                1.0              7\n",
       "7                               0.0             10\n",
       "                                1.0              3\n",
       "8                               0.0              8\n",
       "                                1.0              1\n",
       "10                              0.0              3\n",
       "12                              0.0              3\n",
       "dtype: int64"
      ]
     },
     "execution_count": 190,
     "metadata": {},
     "output_type": "execute_result"
    }
   ],
   "source": [
    "df_1.groupby(['a.total_number_of_interactions','csat_score']).size()"
   ]
  },
  {
   "cell_type": "code",
   "execution_count": 191,
   "metadata": {},
   "outputs": [],
   "source": [
    "ix = df_1.columns.get_loc(\"a.total_number_of_interactions\")\n",
    "for i in range(0,len(df_1)):\n",
    "    if df_1.iloc[i,ix] > 7:\n",
    "        df_1.iloc[i,ix] = 8"
   ]
  },
  {
   "cell_type": "code",
   "execution_count": 192,
   "metadata": {},
   "outputs": [
    {
     "data": {
      "text/plain": [
       "1    7063\n",
       "2    1103\n",
       "3     340\n",
       "4     135\n",
       "0      65\n",
       "5      53\n",
       "6      22\n",
       "8      15\n",
       "7      13\n",
       "Name: a.total_number_of_interactions, dtype: int64"
      ]
     },
     "execution_count": 192,
     "metadata": {},
     "output_type": "execute_result"
    }
   ],
   "source": [
    "df_1[\"a.total_number_of_interactions\"].value_counts()"
   ]
  },
  {
   "cell_type": "code",
   "execution_count": 193,
   "metadata": {},
   "outputs": [
    {
     "data": {
      "text/plain": [
       "False    7222\n",
       "True     1587\n",
       "Name: bulk_flag, dtype: int64"
      ]
     },
     "execution_count": 193,
     "metadata": {},
     "output_type": "execute_result"
    }
   ],
   "source": [
    "df_1.bulk_flag.value_counts()"
   ]
  },
  {
   "cell_type": "code",
   "execution_count": 194,
   "metadata": {},
   "outputs": [],
   "source": [
    "ix = df_1.columns.get_loc(\"bulk_flag\")\n",
    "for i in range(0,len(df_1)):\n",
    "    if df_1.iloc[i,ix] == True:\n",
    "        df_1.iloc[i,ix] = 1\n",
    "    else:\n",
    "        df_1.iloc[i,ix] = 0"
   ]
  },
  {
   "cell_type": "code",
   "execution_count": 195,
   "metadata": {},
   "outputs": [
    {
     "data": {
      "text/plain": [
       "0    7222\n",
       "1    1587\n",
       "Name: bulk_flag, dtype: int64"
      ]
     },
     "execution_count": 195,
     "metadata": {},
     "output_type": "execute_result"
    }
   ],
   "source": [
    "df_1.bulk_flag.value_counts()"
   ]
  },
  {
   "cell_type": "code",
   "execution_count": 196,
   "metadata": {},
   "outputs": [],
   "source": [
    "ix = df_1.columns.get_loc(\"child\")\n",
    "for i in range(0,len(df_1)):\n",
    "    if df_1.iloc[i,ix] !=0:\n",
    "        df_1.iloc[i,ix] = 1"
   ]
  },
  {
   "cell_type": "code",
   "execution_count": 197,
   "metadata": {},
   "outputs": [
    {
     "data": {
      "text/plain": [
       "0.0    8365\n",
       "1.0     444\n",
       "Name: csat_score, dtype: int64"
      ]
     },
     "execution_count": 197,
     "metadata": {},
     "output_type": "execute_result"
    }
   ],
   "source": [
    "df_1.csat_score.value_counts()"
   ]
  },
  {
   "cell_type": "code",
   "execution_count": 198,
   "metadata": {},
   "outputs": [
    {
     "data": {
      "text/plain": [
       "weekly     3648\n",
       "0          3454\n",
       "daily      1114\n",
       "monthly     593\n",
       "Name: frequency_of_report, dtype: int64"
      ]
     },
     "execution_count": 198,
     "metadata": {},
     "output_type": "execute_result"
    }
   ],
   "source": [
    "df_1.frequency_of_report.value_counts()"
   ]
  },
  {
   "cell_type": "code",
   "execution_count": 199,
   "metadata": {},
   "outputs": [
    {
     "data": {
      "text/plain": [
       "frequency_of_report  csat_score\n",
       "0                    0.0           3200\n",
       "                     1.0            254\n",
       "daily                0.0           1110\n",
       "                     1.0              4\n",
       "monthly              0.0            537\n",
       "                     1.0             56\n",
       "weekly               0.0           3518\n",
       "                     1.0            130\n",
       "dtype: int64"
      ]
     },
     "execution_count": 199,
     "metadata": {},
     "output_type": "execute_result"
    }
   ],
   "source": [
    "df_1.groupby(['frequency_of_report','csat_score']).size()"
   ]
  },
  {
   "cell_type": "code",
   "execution_count": 200,
   "metadata": {},
   "outputs": [],
   "source": [
    "ix = df_1.columns.get_loc(\"frequency_of_report\")\n",
    "for i in range(0,len(df_1)):\n",
    "    if df_1.iloc[i,ix] == \"daily\":\n",
    "        df_1.iloc[i,ix] = 1\n",
    "    elif df_1.iloc[i,ix] == \"monthly\":\n",
    "        df_1.iloc[i,ix] = 2\n",
    "    elif df_1.iloc[i,ix] == \"weekly\":\n",
    "        df_1.iloc[i,ix] = 3"
   ]
  },
  {
   "cell_type": "code",
   "execution_count": 201,
   "metadata": {},
   "outputs": [
    {
     "data": {
      "text/plain": [
       "3    3648\n",
       "0    3454\n",
       "1    1114\n",
       "2     593\n",
       "Name: frequency_of_report, dtype: int64"
      ]
     },
     "execution_count": 201,
     "metadata": {},
     "output_type": "execute_result"
    }
   ],
   "source": [
    "df_1.frequency_of_report.value_counts()"
   ]
  },
  {
   "cell_type": "code",
   "execution_count": 202,
   "metadata": {},
   "outputs": [
    {
     "data": {
      "text/plain": [
       "Index(['a.total_number_of_interactions', 'bulk_flag', 'child', 'csat_score',\n",
       "       'frequency_of_report', 'GDN_report_category', 'is_neon',\n",
       "       'master_case_flag', 'Parent_flag', 'priority', 'recurring_flag',\n",
       "       'region', 'reporting_product_type', 'search_report_category', 'sector',\n",
       "       'service_type', 'sub_region', 'sub_sector', 'urgent_flag', 'vertical',\n",
       "       'vertical_cerebro', 'youtube_report_category', 'tenure'],\n",
       "      dtype='object')"
      ]
     },
     "execution_count": 202,
     "metadata": {},
     "output_type": "execute_result"
    }
   ],
   "source": [
    "df_1.columns"
   ]
  },
  {
   "cell_type": "code",
   "execution_count": 203,
   "metadata": {},
   "outputs": [
    {
     "data": {
      "text/plain": [
       "GDN_report_category    csat_score\n",
       "0                      0.0           7095\n",
       "                       1.0            396\n",
       "budget                 0.0            527\n",
       "custom                 0.0            540\n",
       "                       1.0             42\n",
       "mapps                  0.0            105\n",
       "targeting_performance  0.0             98\n",
       "                       1.0              6\n",
       "dtype: int64"
      ]
     },
     "execution_count": 203,
     "metadata": {},
     "output_type": "execute_result"
    }
   ],
   "source": [
    "df_1.groupby(['GDN_report_category','csat_score']).size()"
   ]
  },
  {
   "cell_type": "code",
   "execution_count": 204,
   "metadata": {},
   "outputs": [],
   "source": [
    "ix = df_1.columns.get_loc(\"GDN_report_category\")\n",
    "for i in range(0,len(df_1)):\n",
    "    if df_1.iloc[i,ix] == \"budget\":\n",
    "        df_1.iloc[i,ix] = 1\n",
    "    elif df_1.iloc[i,ix] == \"custom\":\n",
    "        df_1.iloc[i,ix] = 2\n",
    "    elif df_1.iloc[i,ix] == \"mapps\":\n",
    "        df_1.iloc[i,ix] = 3\n",
    "    elif df_1.iloc[i,ix] == \"targeting_performance\":\n",
    "        df_1.iloc[i,ix] = 4"
   ]
  },
  {
   "cell_type": "code",
   "execution_count": 205,
   "metadata": {},
   "outputs": [
    {
     "data": {
      "text/plain": [
       "GDN_report_category  csat_score\n",
       "0                    0.0           7095\n",
       "                     1.0            396\n",
       "1                    0.0            527\n",
       "2                    0.0            540\n",
       "                     1.0             42\n",
       "3                    0.0            105\n",
       "4                    0.0             98\n",
       "                     1.0              6\n",
       "dtype: int64"
      ]
     },
     "execution_count": 205,
     "metadata": {},
     "output_type": "execute_result"
    }
   ],
   "source": [
    "df_1.groupby(['GDN_report_category','csat_score']).size()"
   ]
  },
  {
   "cell_type": "code",
   "execution_count": 206,
   "metadata": {},
   "outputs": [
    {
     "data": {
      "text/plain": [
       "is_neon  csat_score\n",
       "no       0.0           8328\n",
       "         1.0            436\n",
       "yes      0.0             37\n",
       "         1.0              8\n",
       "dtype: int64"
      ]
     },
     "execution_count": 206,
     "metadata": {},
     "output_type": "execute_result"
    }
   ],
   "source": [
    "df_1.groupby(['is_neon','csat_score']).size()"
   ]
  },
  {
   "cell_type": "code",
   "execution_count": 207,
   "metadata": {},
   "outputs": [],
   "source": [
    "ix = df_1.columns.get_loc(\"is_neon\")\n",
    "for i in range(0,len(df_1)):\n",
    "    if df_1.iloc[i,ix] == \"no\":\n",
    "        df_1.iloc[i,ix] = 0\n",
    "    else:\n",
    "        df_1.iloc[i,ix] = 1"
   ]
  },
  {
   "cell_type": "code",
   "execution_count": 208,
   "metadata": {},
   "outputs": [
    {
     "data": {
      "text/plain": [
       "is_neon  csat_score\n",
       "0        0.0           8328\n",
       "         1.0            436\n",
       "1        0.0             37\n",
       "         1.0              8\n",
       "dtype: int64"
      ]
     },
     "execution_count": 208,
     "metadata": {},
     "output_type": "execute_result"
    }
   ],
   "source": [
    "df_1.groupby(['is_neon','csat_score']).size()"
   ]
  },
  {
   "cell_type": "code",
   "execution_count": 209,
   "metadata": {},
   "outputs": [
    {
     "data": {
      "text/plain": [
       "master_case_flag  csat_score\n",
       "False             0.0           2388\n",
       "                  1.0            129\n",
       "True              0.0           5977\n",
       "                  1.0            315\n",
       "dtype: int64"
      ]
     },
     "execution_count": 209,
     "metadata": {},
     "output_type": "execute_result"
    }
   ],
   "source": [
    "df_1.groupby(['master_case_flag','csat_score']).size()"
   ]
  },
  {
   "cell_type": "code",
   "execution_count": 210,
   "metadata": {},
   "outputs": [],
   "source": [
    "ix = df_1.columns.get_loc(\"master_case_flag\")\n",
    "for i in range(0,len(df_1)):\n",
    "    if df_1.iloc[i,ix] == False:\n",
    "        df_1.iloc[i,ix] = 0\n",
    "    else:\n",
    "        df_1.iloc[i,ix] = 1"
   ]
  },
  {
   "cell_type": "code",
   "execution_count": 211,
   "metadata": {},
   "outputs": [
    {
     "data": {
      "text/plain": [
       "master_case_flag  csat_score\n",
       "0                 0.0           2388\n",
       "                  1.0            129\n",
       "1                 0.0           5977\n",
       "                  1.0            315\n",
       "dtype: int64"
      ]
     },
     "execution_count": 211,
     "metadata": {},
     "output_type": "execute_result"
    }
   ],
   "source": [
    "df_1.groupby(['master_case_flag','csat_score']).size()"
   ]
  },
  {
   "cell_type": "code",
   "execution_count": 212,
   "metadata": {},
   "outputs": [
    {
     "data": {
      "text/plain": [
       "Index(['a.total_number_of_interactions', 'bulk_flag', 'child', 'csat_score',\n",
       "       'frequency_of_report', 'GDN_report_category', 'is_neon',\n",
       "       'master_case_flag', 'Parent_flag', 'priority', 'recurring_flag',\n",
       "       'region', 'reporting_product_type', 'search_report_category', 'sector',\n",
       "       'service_type', 'sub_region', 'sub_sector', 'urgent_flag', 'vertical',\n",
       "       'vertical_cerebro', 'youtube_report_category', 'tenure'],\n",
       "      dtype='object')"
      ]
     },
     "execution_count": 212,
     "metadata": {},
     "output_type": "execute_result"
    }
   ],
   "source": [
    "df_1.columns"
   ]
  },
  {
   "cell_type": "code",
   "execution_count": 213,
   "metadata": {},
   "outputs": [
    {
     "data": {
      "text/plain": [
       "False    6691\n",
       "True     2118\n",
       "Name: Parent_flag, dtype: int64"
      ]
     },
     "execution_count": 213,
     "metadata": {},
     "output_type": "execute_result"
    }
   ],
   "source": [
    "df_1.Parent_flag.value_counts()"
   ]
  },
  {
   "cell_type": "code",
   "execution_count": 214,
   "metadata": {},
   "outputs": [],
   "source": [
    "ix = df_1.columns.get_loc(\"Parent_flag\")\n",
    "for i in range(0,len(df_1)):\n",
    "    if df_1.iloc[i,ix] == False:\n",
    "        df_1.iloc[i,ix] = 0\n",
    "    else:\n",
    "        df_1.iloc[i,ix] = 1"
   ]
  },
  {
   "cell_type": "code",
   "execution_count": 215,
   "metadata": {},
   "outputs": [
    {
     "data": {
      "text/plain": [
       "0    6691\n",
       "1    2118\n",
       "Name: Parent_flag, dtype: int64"
      ]
     },
     "execution_count": 215,
     "metadata": {},
     "output_type": "execute_result"
    }
   ],
   "source": [
    "df_1.Parent_flag.value_counts()"
   ]
  },
  {
   "cell_type": "code",
   "execution_count": 216,
   "metadata": {},
   "outputs": [
    {
     "data": {
      "text/plain": [
       "Normal    5287\n",
       "Urgent    2407\n",
       "Null      1115\n",
       "Name: priority, dtype: int64"
      ]
     },
     "execution_count": 216,
     "metadata": {},
     "output_type": "execute_result"
    }
   ],
   "source": [
    "df_1.priority.value_counts()"
   ]
  },
  {
   "cell_type": "code",
   "execution_count": 217,
   "metadata": {},
   "outputs": [],
   "source": [
    "df_2 = df_1.copy()"
   ]
  },
  {
   "cell_type": "code",
   "execution_count": 218,
   "metadata": {},
   "outputs": [],
   "source": [
    "ix = df_1.columns.get_loc(\"priority\")\n",
    "for i in range(0,len(df_1)):\n",
    "    if df_1.iloc[i,ix] == \"Normal\":\n",
    "        df_1.iloc[i,ix] = 1\n",
    "    elif df_1.iloc[i,ix] == \"Urgent\":\n",
    "        df_1.iloc[i,ix] = 2\n",
    "    else:\n",
    "        df_1.iloc[i,ix] = 0"
   ]
  },
  {
   "cell_type": "code",
   "execution_count": 219,
   "metadata": {},
   "outputs": [
    {
     "data": {
      "text/plain": [
       "1    5287\n",
       "2    2407\n",
       "0    1115\n",
       "Name: priority, dtype: int64"
      ]
     },
     "execution_count": 219,
     "metadata": {},
     "output_type": "execute_result"
    }
   ],
   "source": [
    "df_1.priority.value_counts()"
   ]
  },
  {
   "cell_type": "code",
   "execution_count": 220,
   "metadata": {},
   "outputs": [
    {
     "data": {
      "text/plain": [
       "yes    5355\n",
       "no     3454\n",
       "Name: recurring_flag, dtype: int64"
      ]
     },
     "execution_count": 220,
     "metadata": {},
     "output_type": "execute_result"
    }
   ],
   "source": [
    "df_1.recurring_flag.value_counts()"
   ]
  },
  {
   "cell_type": "code",
   "execution_count": 221,
   "metadata": {},
   "outputs": [],
   "source": [
    "ix = df_1.columns.get_loc(\"recurring_flag\")\n",
    "for i in range(0,len(df_1)):\n",
    "    if df_1.iloc[i,ix] == \"no\":\n",
    "        df_1.iloc[i,ix] = 0\n",
    "    else:\n",
    "        df_1.iloc[i,ix] = 1"
   ]
  },
  {
   "cell_type": "code",
   "execution_count": 222,
   "metadata": {},
   "outputs": [
    {
     "data": {
      "text/plain": [
       "1    5355\n",
       "0    3454\n",
       "Name: recurring_flag, dtype: int64"
      ]
     },
     "execution_count": 222,
     "metadata": {},
     "output_type": "execute_result"
    }
   ],
   "source": [
    "df_1.recurring_flag.value_counts()"
   ]
  },
  {
   "cell_type": "code",
   "execution_count": 223,
   "metadata": {},
   "outputs": [
    {
     "data": {
      "text/plain": [
       "region    csat_score\n",
       "APAC      0.0             32\n",
       "          1.0              5\n",
       "Americas  0.0           8211\n",
       "          1.0            433\n",
       "EMEA      0.0            122\n",
       "          1.0              6\n",
       "dtype: int64"
      ]
     },
     "execution_count": 223,
     "metadata": {},
     "output_type": "execute_result"
    }
   ],
   "source": [
    "df_1.groupby(['region','csat_score']).size()"
   ]
  },
  {
   "cell_type": "code",
   "execution_count": 224,
   "metadata": {},
   "outputs": [],
   "source": [
    "ix = df_1.columns.get_loc(\"region\")\n",
    "for i in range(0,len(df_1)):\n",
    "    if df_1.iloc[i,ix] == \"APAC\":\n",
    "        df_1.iloc[i,ix] = 0\n",
    "    elif df_1.iloc[i,ix] == \"Americas\":\n",
    "        df_1.iloc[i,ix] = 1\n",
    "    elif df_1.iloc[i,ix] == \"EMEA\":\n",
    "        df_1.iloc[i,ix] = 2"
   ]
  },
  {
   "cell_type": "code",
   "execution_count": 225,
   "metadata": {},
   "outputs": [
    {
     "data": {
      "text/plain": [
       "region  csat_score\n",
       "0       0.0             32\n",
       "        1.0              5\n",
       "1       0.0           8211\n",
       "        1.0            433\n",
       "2       0.0            122\n",
       "        1.0              6\n",
       "dtype: int64"
      ]
     },
     "execution_count": 225,
     "metadata": {},
     "output_type": "execute_result"
    }
   ],
   "source": [
    "df_1.groupby(['region','csat_score']).size()"
   ]
  },
  {
   "cell_type": "code",
   "execution_count": 226,
   "metadata": {},
   "outputs": [
    {
     "data": {
      "text/plain": [
       "Index(['a.total_number_of_interactions', 'bulk_flag', 'child', 'csat_score',\n",
       "       'frequency_of_report', 'GDN_report_category', 'is_neon',\n",
       "       'master_case_flag', 'Parent_flag', 'priority', 'recurring_flag',\n",
       "       'region', 'reporting_product_type', 'search_report_category', 'sector',\n",
       "       'service_type', 'sub_region', 'sub_sector', 'urgent_flag', 'vertical',\n",
       "       'vertical_cerebro', 'youtube_report_category', 'tenure'],\n",
       "      dtype='object')"
      ]
     },
     "execution_count": 226,
     "metadata": {},
     "output_type": "execute_result"
    }
   ],
   "source": [
    "df_1.columns"
   ]
  },
  {
   "cell_type": "code",
   "execution_count": 86,
   "metadata": {},
   "outputs": [
    {
     "data": {
      "text/plain": [
       "reporting_product_type  csat_score\n",
       "gdn                     0.0            826\n",
       "                        1.0             34\n",
       "search                  0.0           4819\n",
       "                        1.0            228\n",
       "youtube                 0.0           2720\n",
       "                        1.0            182\n",
       "dtype: int64"
      ]
     },
     "execution_count": 86,
     "metadata": {},
     "output_type": "execute_result"
    }
   ],
   "source": [
    "df_1.groupby(['reporting_product_type','csat_score']).size()"
   ]
  },
  {
   "cell_type": "code",
   "execution_count": 87,
   "metadata": {},
   "outputs": [],
   "source": [
    "df_2 = df_1.copy()"
   ]
  },
  {
   "cell_type": "code",
   "execution_count": 227,
   "metadata": {},
   "outputs": [],
   "source": [
    "ix = df_1.columns.get_loc(\"reporting_product_type\")\n",
    "for i in range(0,len(df_1)):\n",
    "    if df_1.iloc[i,ix] == \"gdn\":\n",
    "        df_1.iloc[i,ix] = 0\n",
    "    elif df_1.iloc[i,ix] == \"search\":\n",
    "        df_1.iloc[i,ix] = 1\n",
    "    elif df_1.iloc[i,ix] == \"youtube\":\n",
    "        df_1.iloc[i,ix] = 2"
   ]
  },
  {
   "cell_type": "code",
   "execution_count": 228,
   "metadata": {},
   "outputs": [
    {
     "data": {
      "text/plain": [
       "reporting_product_type  csat_score\n",
       "0                       0.0            826\n",
       "                        1.0             34\n",
       "1                       0.0           4819\n",
       "                        1.0            228\n",
       "2                       0.0           2720\n",
       "                        1.0            182\n",
       "dtype: int64"
      ]
     },
     "execution_count": 228,
     "metadata": {},
     "output_type": "execute_result"
    }
   ],
   "source": [
    "df_1.groupby(['reporting_product_type','csat_score']).size()"
   ]
  },
  {
   "cell_type": "code",
   "execution_count": 229,
   "metadata": {},
   "outputs": [
    {
     "data": {
      "text/plain": [
       "search_report_category  csat_score\n",
       "0                       0.0           3468\n",
       "                        1.0            207\n",
       "account_audit           0.0           1194\n",
       "                        1.0             43\n",
       "ad_text                 0.0             82\n",
       "                        1.0              3\n",
       "auction_insights        0.0            304\n",
       "                        1.0             24\n",
       "audience_audit          0.0            147\n",
       "                        1.0             20\n",
       "budget                  0.0            776\n",
       "                        1.0              5\n",
       "custom                  0.0           2219\n",
       "                        1.0            138\n",
       "ropps_vendorization     0.0            175\n",
       "                        1.0              4\n",
       "dtype: int64"
      ]
     },
     "execution_count": 229,
     "metadata": {},
     "output_type": "execute_result"
    }
   ],
   "source": [
    "df_1.groupby(['search_report_category','csat_score']).size()"
   ]
  },
  {
   "cell_type": "code",
   "execution_count": 91,
   "metadata": {},
   "outputs": [],
   "source": [
    "df_2 = df_1.copy()"
   ]
  },
  {
   "cell_type": "code",
   "execution_count": 230,
   "metadata": {},
   "outputs": [],
   "source": [
    "ix = df_1.columns.get_loc(\"search_report_category\")\n",
    "for i in range(0,len(df_1)):\n",
    "    if df_1.iloc[i,ix] == \"account_audit\":\n",
    "        df_1.iloc[i,ix] = 1\n",
    "    elif df_1.iloc[i,ix] == \"ad_text\":\n",
    "        df_1.iloc[i,ix] = 2\n",
    "    elif df_1.iloc[i,ix] == \"auction_insights\":\n",
    "        df_1.iloc[i,ix] = 3\n",
    "    elif df_1.iloc[i,ix] == \"audience_audit\":\n",
    "        df_1.iloc[i,ix] = 4\n",
    "    elif df_1.iloc[i,ix] == \"budget\":\n",
    "        df_1.iloc[i,ix] = 5\n",
    "    elif df_1.iloc[i,ix] == \"custom\":\n",
    "        df_1.iloc[i,ix] = 6\n",
    "    elif df_1.iloc[i,ix] == \"ropps_vendorization\":\n",
    "        df_1.iloc[i,ix] = 7"
   ]
  },
  {
   "cell_type": "code",
   "execution_count": null,
   "metadata": {},
   "outputs": [],
   "source": []
  },
  {
   "cell_type": "code",
   "execution_count": 231,
   "metadata": {},
   "outputs": [
    {
     "data": {
      "text/plain": [
       "search_report_category  csat_score\n",
       "0                       0.0           3468\n",
       "                        1.0            207\n",
       "1                       0.0           1194\n",
       "                        1.0             43\n",
       "2                       0.0             82\n",
       "                        1.0              3\n",
       "3                       0.0            304\n",
       "                        1.0             24\n",
       "4                       0.0            147\n",
       "                        1.0             20\n",
       "5                       0.0            776\n",
       "                        1.0              5\n",
       "6                       0.0           2219\n",
       "                        1.0            138\n",
       "7                       0.0            175\n",
       "                        1.0              4\n",
       "dtype: int64"
      ]
     },
     "execution_count": 231,
     "metadata": {},
     "output_type": "execute_result"
    }
   ],
   "source": [
    "df_1.groupby(['search_report_category','csat_score']).size()"
   ]
  },
  {
   "cell_type": "code",
   "execution_count": 94,
   "metadata": {},
   "outputs": [
    {
     "data": {
      "text/plain": [
       "Index(['a.total_number_of_interactions', 'bulk_flag', 'child', 'csat_score',\n",
       "       'frequency_of_report', 'GDN_report_category', 'is_neon',\n",
       "       'master_case_flag', 'Parent_flag', 'priority', 'recurring_flag',\n",
       "       'region', 'reporting_product_type', 'search_report_category', 'sector',\n",
       "       'service_type', 'sub_region', 'sub_sector', 'urgent_flag', 'vertical',\n",
       "       'vertical_cerebro', 'youtube_report_category', 'tenure'],\n",
       "      dtype='object')"
      ]
     },
     "execution_count": 94,
     "metadata": {},
     "output_type": "execute_result"
    }
   ],
   "source": [
    "df_1.columns"
   ]
  },
  {
   "cell_type": "code",
   "execution_count": 232,
   "metadata": {},
   "outputs": [],
   "source": [
    "v_df = [\"vertical\",\"sub_sector\",\"a.total_number_of_interactions\",\"vertical_cerebro\",\"search_report_category\",\"sector\",\"priority\",\n",
    "       \"child\",\"tenure\",\"reporting_product_type\",\"frequency_of_report\",\"youtube_report_category\",\"GDN_report_category\",\"bulk_flag\",\n",
    "       \"urgent_flag\",\"Parent_flag\",\"sub_region\",\"recurring_flag\",\"csat_score\",\"master_case_flag\",\"is_neon\"]"
   ]
  },
  {
   "cell_type": "code",
   "execution_count": 235,
   "metadata": {},
   "outputs": [],
   "source": [
    "ix = df_1.columns.get_loc(\"vertical\")\n",
    "vertical = df_1.vertical.unique().tolist()\n",
    "for i in range(0,len(df_1)):\n",
    "    if df_1.iloc[i,ix] in vertical:\n",
    "        df_1.iloc[i,ix] = vertical.index(df_1.iloc[i,ix])"
   ]
  },
  {
   "cell_type": "code",
   "execution_count": 238,
   "metadata": {},
   "outputs": [],
   "source": [
    "with open(\"vertical.txt\", \"wb\") as fp:\n",
    "    pickle.dump(vertical, fp)"
   ]
  },
  {
   "cell_type": "code",
   "execution_count": 239,
   "metadata": {
    "scrolled": true
   },
   "outputs": [
    {
     "data": {
      "text/plain": [
       "18    1246\n",
       "5     1032\n",
       "1      965\n",
       "3      626\n",
       "0      556\n",
       "17     532\n",
       "4      525\n",
       "2      370\n",
       "15     369\n",
       "9      338\n",
       "13     328\n",
       "8      263\n",
       "20     249\n",
       "14     221\n",
       "16     198\n",
       "11     179\n",
       "6      169\n",
       "7      166\n",
       "10     157\n",
       "19     144\n",
       "21     118\n",
       "12      58\n",
       "Name: vertical, dtype: int64"
      ]
     },
     "execution_count": 239,
     "metadata": {},
     "output_type": "execute_result"
    }
   ],
   "source": [
    "df_1.vertical.value_counts()"
   ]
  },
  {
   "cell_type": "code",
   "execution_count": 240,
   "metadata": {},
   "outputs": [],
   "source": [
    "df_1 = df_1.loc[:,v_df]"
   ]
  },
  {
   "cell_type": "code",
   "execution_count": 241,
   "metadata": {},
   "outputs": [
    {
     "data": {
      "text/plain": [
       "Index(['vertical', 'sub_sector', 'a.total_number_of_interactions',\n",
       "       'vertical_cerebro', 'search_report_category', 'sector', 'priority',\n",
       "       'child', 'tenure', 'reporting_product_type', 'frequency_of_report',\n",
       "       'youtube_report_category', 'GDN_report_category', 'bulk_flag',\n",
       "       'urgent_flag', 'Parent_flag', 'sub_region', 'recurring_flag',\n",
       "       'csat_score', 'master_case_flag', 'is_neon'],\n",
       "      dtype='object')"
      ]
     },
     "execution_count": 241,
     "metadata": {},
     "output_type": "execute_result"
    }
   ],
   "source": [
    "df_1.columns"
   ]
  },
  {
   "cell_type": "code",
   "execution_count": 242,
   "metadata": {},
   "outputs": [
    {
     "data": {
      "text/plain": [
       "Food                                 2329\n",
       "Home & Personal Care                 1005\n",
       "Branded Apparel & Durables            762\n",
       "Retail - Specialty                    739\n",
       "Media & Entertainment                 626\n",
       "Technology - Telecom                  530\n",
       "App                                   422\n",
       "Retail - Pure Play                    391\n",
       "Gov't & Advocacy                      343\n",
       "Travel - Jetsetters                   328\n",
       "Automotive 2                          245\n",
       "Retail - Big Box                      218\n",
       "Financial Services - East             204\n",
       "Technology - Consumer Electronics     178\n",
       "Personals                             144\n",
       "Automotive 1                          125\n",
       "0                                     112\n",
       "Retail                                 65\n",
       "Home & Consumer Services               43\n",
       "Name: sub_sector, dtype: int64"
      ]
     },
     "execution_count": 242,
     "metadata": {},
     "output_type": "execute_result"
    }
   ],
   "source": [
    "df_1.sub_sector.value_counts()"
   ]
  },
  {
   "cell_type": "code",
   "execution_count": 243,
   "metadata": {},
   "outputs": [],
   "source": [
    "ix = df_1.columns.get_loc(\"sub_sector\")\n",
    "sub_sector = df_1.sub_sector.unique().tolist()\n",
    "for i in range(0,len(df_1)):\n",
    "    if df_1.iloc[i,ix] in sub_sector:\n",
    "        df_1.iloc[i,ix] = sub_sector.index(df_1.iloc[i,ix])\n",
    "with open(\"sub_sector.txt\", \"wb\") as fp:\n",
    "    pickle.dump(sub_sector, fp)"
   ]
  },
  {
   "cell_type": "code",
   "execution_count": 244,
   "metadata": {},
   "outputs": [
    {
     "data": {
      "text/plain": [
       "6     2329\n",
       "0     1005\n",
       "2      762\n",
       "4      739\n",
       "5      626\n",
       "7      530\n",
       "9      422\n",
       "11     391\n",
       "13     343\n",
       "12     328\n",
       "3      245\n",
       "1      218\n",
       "10     204\n",
       "15     178\n",
       "16     144\n",
       "8      125\n",
       "14     112\n",
       "18      65\n",
       "17      43\n",
       "Name: sub_sector, dtype: int64"
      ]
     },
     "execution_count": 244,
     "metadata": {},
     "output_type": "execute_result"
    }
   ],
   "source": [
    "df_1.sub_sector.value_counts()"
   ]
  },
  {
   "cell_type": "code",
   "execution_count": 245,
   "metadata": {},
   "outputs": [
    {
     "data": {
      "text/plain": [
       "Food & Beverages           2181\n",
       "Retail                     1501\n",
       "Consumer Packaged Goods     986\n",
       "Services All Verticals      954\n",
       "Media & Entertainment       626\n",
       "Technology                  583\n",
       "Education & Government      419\n",
       "Automotive                  370\n",
       "Travel                      328\n",
       "Home                        303\n",
       "Finance                     215\n",
       "Personal Care               199\n",
       "Classifieds & Local         144\n",
       "Name: vertical_cerebro, dtype: int64"
      ]
     },
     "execution_count": 245,
     "metadata": {},
     "output_type": "execute_result"
    }
   ],
   "source": [
    "df_1.vertical_cerebro.value_counts()"
   ]
  },
  {
   "cell_type": "code",
   "execution_count": 246,
   "metadata": {},
   "outputs": [],
   "source": [
    "ix = df_1.columns.get_loc(\"vertical_cerebro\")\n",
    "vertical_cerebro = df_1.vertical_cerebro.unique().tolist()\n",
    "for i in range(0,len(df_1)):\n",
    "    if df_1.iloc[i,ix] in vertical_cerebro:\n",
    "        df_1.iloc[i,ix] = vertical_cerebro.index(df_1.iloc[i,ix])\n",
    "with open(\"vertical_cerebro.txt\", \"wb\") as fp:\n",
    "    pickle.dump(vertical_cerebro, fp)"
   ]
  },
  {
   "cell_type": "code",
   "execution_count": 247,
   "metadata": {},
   "outputs": [
    {
     "data": {
      "text/plain": [
       "11    2181\n",
       "1     1501\n",
       "0      986\n",
       "4      954\n",
       "3      626\n",
       "6      583\n",
       "9      419\n",
       "2      370\n",
       "8      328\n",
       "10     303\n",
       "7      215\n",
       "5      199\n",
       "12     144\n",
       "Name: vertical_cerebro, dtype: int64"
      ]
     },
     "execution_count": 247,
     "metadata": {},
     "output_type": "execute_result"
    }
   ],
   "source": [
    "df_1.vertical_cerebro.value_counts()"
   ]
  },
  {
   "cell_type": "code",
   "execution_count": 248,
   "metadata": {},
   "outputs": [
    {
     "data": {
      "text/plain": [
       "Consumer                             5435\n",
       "Multichannel Solutions               2068\n",
       "Services & Distribution Solutions     609\n",
       "Integrated Solutions                  532\n",
       "Unsectored                             69\n",
       "ReTech                                 53\n",
       "Finance & Services                     43\n",
       "Name: sector, dtype: int64"
      ]
     },
     "execution_count": 248,
     "metadata": {},
     "output_type": "execute_result"
    }
   ],
   "source": [
    "df_1.sector.value_counts()"
   ]
  },
  {
   "cell_type": "code",
   "execution_count": 249,
   "metadata": {},
   "outputs": [
    {
     "data": {
      "text/plain": [
       "Index(['vertical', 'sub_sector', 'a.total_number_of_interactions',\n",
       "       'vertical_cerebro', 'search_report_category', 'sector', 'priority',\n",
       "       'child', 'tenure', 'reporting_product_type', 'frequency_of_report',\n",
       "       'youtube_report_category', 'GDN_report_category', 'bulk_flag',\n",
       "       'urgent_flag', 'Parent_flag', 'sub_region', 'recurring_flag',\n",
       "       'csat_score', 'master_case_flag', 'is_neon'],\n",
       "      dtype='object')"
      ]
     },
     "execution_count": 249,
     "metadata": {},
     "output_type": "execute_result"
    }
   ],
   "source": [
    "df_1.columns"
   ]
  },
  {
   "cell_type": "code",
   "execution_count": 250,
   "metadata": {},
   "outputs": [],
   "source": [
    "df_2 = df_1.copy()"
   ]
  },
  {
   "cell_type": "code",
   "execution_count": 251,
   "metadata": {},
   "outputs": [],
   "source": [
    "ix = df_1.columns.get_loc(\"sector\")\n",
    "sector = df_1.sector.unique().tolist()\n",
    "for i in range(0,len(df_1)):\n",
    "    if df_1.iloc[i,ix] in sector:\n",
    "        df_1.iloc[i,ix] = sector.index(df_1.iloc[i,ix])\n",
    "with open(\"sector.txt\", \"wb\") as fp:\n",
    "    pickle.dump(sector, fp)"
   ]
  },
  {
   "cell_type": "code",
   "execution_count": 252,
   "metadata": {},
   "outputs": [
    {
     "data": {
      "text/plain": [
       "0    5435\n",
       "1    2068\n",
       "2     609\n",
       "3     532\n",
       "5      69\n",
       "6      53\n",
       "4      43\n",
       "Name: sector, dtype: int64"
      ]
     },
     "execution_count": 252,
     "metadata": {},
     "output_type": "execute_result"
    }
   ],
   "source": [
    "df_1.sector.value_counts()"
   ]
  },
  {
   "cell_type": "code",
   "execution_count": 253,
   "metadata": {},
   "outputs": [
    {
     "data": {
      "text/plain": [
       "> 1 Year       6503\n",
       "6-12 Months    2280\n",
       "1-2 Months       23\n",
       "3-6 Months        3\n",
       "Name: tenure, dtype: int64"
      ]
     },
     "execution_count": 253,
     "metadata": {},
     "output_type": "execute_result"
    }
   ],
   "source": [
    "df_1.tenure.value_counts()"
   ]
  },
  {
   "cell_type": "code",
   "execution_count": 254,
   "metadata": {},
   "outputs": [],
   "source": [
    "ix = df_1.columns.get_loc(\"tenure\")\n",
    "for i in range(0,len(df_1)):\n",
    "    if df_1.iloc[i,ix] == \"> 1 Year\":\n",
    "        df_1.iloc[i,ix] = 3\n",
    "    elif df_1.iloc[i,ix] == \"6-12 Months\":\n",
    "        df_1.iloc[i,ix] = 2\n",
    "    elif df_1.iloc[i,ix] == \"1-2 Months\":\n",
    "        df_1.iloc[i,ix] = 1\n",
    "    elif df_1.iloc[i,ix] == \"3-6 Months\":\n",
    "        df_1.iloc[i,ix] = 0"
   ]
  },
  {
   "cell_type": "code",
   "execution_count": 255,
   "metadata": {
    "scrolled": true
   },
   "outputs": [
    {
     "data": {
      "text/plain": [
       "3    6503\n",
       "2    2280\n",
       "1      23\n",
       "0       3\n",
       "Name: tenure, dtype: int64"
      ]
     },
     "execution_count": 255,
     "metadata": {},
     "output_type": "execute_result"
    }
   ],
   "source": [
    "df_1.tenure.value_counts()"
   ]
  },
  {
   "cell_type": "code",
   "execution_count": 256,
   "metadata": {},
   "outputs": [
    {
     "data": {
      "text/plain": [
       "Index(['vertical', 'sub_sector', 'a.total_number_of_interactions',\n",
       "       'vertical_cerebro', 'search_report_category', 'sector', 'priority',\n",
       "       'child', 'tenure', 'reporting_product_type', 'frequency_of_report',\n",
       "       'youtube_report_category', 'GDN_report_category', 'bulk_flag',\n",
       "       'urgent_flag', 'Parent_flag', 'sub_region', 'recurring_flag',\n",
       "       'csat_score', 'master_case_flag', 'is_neon'],\n",
       "      dtype='object')"
      ]
     },
     "execution_count": 256,
     "metadata": {},
     "output_type": "execute_result"
    }
   ],
   "source": [
    "df_1.columns"
   ]
  },
  {
   "cell_type": "code",
   "execution_count": 257,
   "metadata": {},
   "outputs": [
    {
     "data": {
      "text/plain": [
       "United States (Region)    8632\n",
       "UK/IE                      128\n",
       "SEA                         37\n",
       "Canada (Region)             12\n",
       "Name: sub_region, dtype: int64"
      ]
     },
     "execution_count": 257,
     "metadata": {},
     "output_type": "execute_result"
    }
   ],
   "source": [
    "df_1.sub_region.value_counts()"
   ]
  },
  {
   "cell_type": "code",
   "execution_count": 258,
   "metadata": {},
   "outputs": [
    {
     "data": {
      "text/plain": [
       "0                            5340\n",
       "custom                       2452\n",
       "account_audit_performance     877\n",
       "reserve_auction               140\n",
       "Name: youtube_report_category, dtype: int64"
      ]
     },
     "execution_count": 258,
     "metadata": {},
     "output_type": "execute_result"
    }
   ],
   "source": [
    "df_1.youtube_report_category.value_counts()"
   ]
  },
  {
   "cell_type": "code",
   "execution_count": 259,
   "metadata": {},
   "outputs": [],
   "source": [
    "ix = df_1.columns.get_loc(\"youtube_report_category\")\n",
    "for i in range(0,len(df_1)):\n",
    "    if df_1.iloc[i,ix] == \"custom\":\n",
    "        df_1.iloc[i,ix] = 1\n",
    "    elif df_1.iloc[i,ix] == \"account_audit_performance\":\n",
    "        df_1.iloc[i,ix] = 2\n",
    "    elif df_1.iloc[i,ix] == \"reserve_auction\":\n",
    "        df_1.iloc[i,ix] = 3"
   ]
  },
  {
   "cell_type": "code",
   "execution_count": 260,
   "metadata": {},
   "outputs": [
    {
     "data": {
      "text/plain": [
       "0    5340\n",
       "1    2452\n",
       "2     877\n",
       "3     140\n",
       "Name: youtube_report_category, dtype: int64"
      ]
     },
     "execution_count": 260,
     "metadata": {},
     "output_type": "execute_result"
    }
   ],
   "source": [
    "df_1.youtube_report_category.value_counts()"
   ]
  },
  {
   "cell_type": "code",
   "execution_count": 261,
   "metadata": {},
   "outputs": [],
   "source": [
    "df_2 = df_1.copy()"
   ]
  },
  {
   "cell_type": "code",
   "execution_count": 262,
   "metadata": {},
   "outputs": [],
   "source": [
    "ix = df_1.columns.get_loc(\"urgent_flag\")\n",
    "for i in range(0,len(df_1)):\n",
    "    if df_1.iloc[i,ix] == False:\n",
    "        df_1.iloc[i,ix] = 0\n",
    "    else :\n",
    "        df_1.iloc[i,ix] = 1"
   ]
  },
  {
   "cell_type": "code",
   "execution_count": 263,
   "metadata": {},
   "outputs": [
    {
     "data": {
      "text/plain": [
       "0    6402\n",
       "1    2407\n",
       "Name: urgent_flag, dtype: int64"
      ]
     },
     "execution_count": 263,
     "metadata": {},
     "output_type": "execute_result"
    }
   ],
   "source": [
    "df_1.urgent_flag.value_counts()"
   ]
  },
  {
   "cell_type": "code",
   "execution_count": 264,
   "metadata": {
    "scrolled": true
   },
   "outputs": [
    {
     "data": {
      "text/plain": [
       "United States (Region)    8632\n",
       "UK/IE                      128\n",
       "SEA                         37\n",
       "Canada (Region)             12\n",
       "Name: sub_region, dtype: int64"
      ]
     },
     "execution_count": 264,
     "metadata": {},
     "output_type": "execute_result"
    }
   ],
   "source": [
    "df_1.sub_region.value_counts()"
   ]
  },
  {
   "cell_type": "code",
   "execution_count": 265,
   "metadata": {},
   "outputs": [],
   "source": [
    "df_2 = df_1.copy()"
   ]
  },
  {
   "cell_type": "code",
   "execution_count": 266,
   "metadata": {},
   "outputs": [],
   "source": [
    "ix = df_1.columns.get_loc(\"sub_region\")\n",
    "sub_region = df_1.sub_region.unique().tolist()\n",
    "for i in range(0,len(df_1)):\n",
    "    if df_1.iloc[i,ix] in sub_region:\n",
    "        df_1.iloc[i,ix] = sub_region.index(df_1.iloc[i,ix])\n",
    "with open(\"sub_region.txt\", \"wb\") as fp:\n",
    "    pickle.dump(sub_region, fp)"
   ]
  },
  {
   "cell_type": "code",
   "execution_count": 267,
   "metadata": {},
   "outputs": [
    {
     "data": {
      "text/plain": [
       "0    8632\n",
       "1     128\n",
       "2      37\n",
       "3      12\n",
       "Name: sub_region, dtype: int64"
      ]
     },
     "execution_count": 267,
     "metadata": {},
     "output_type": "execute_result"
    }
   ],
   "source": [
    "df_1.sub_region.value_counts()"
   ]
  },
  {
   "cell_type": "code",
   "execution_count": 269,
   "metadata": {
    "scrolled": true
   },
   "outputs": [],
   "source": [
    "df_1.to_csv(\"df_train.csv\", index = False)"
   ]
  },
  {
   "cell_type": "code",
   "execution_count": 19,
   "metadata": {},
   "outputs": [],
   "source": [
    "df_train = pd.read_csv(\"df_train.csv\")"
   ]
  },
  {
   "cell_type": "code",
   "execution_count": 20,
   "metadata": {},
   "outputs": [
    {
     "data": {
      "text/plain": [
       "8809"
      ]
     },
     "execution_count": 20,
     "metadata": {},
     "output_type": "execute_result"
    }
   ],
   "source": [
    "len(df_train)"
   ]
  },
  {
   "cell_type": "code",
   "execution_count": 21,
   "metadata": {},
   "outputs": [
    {
     "data": {
      "text/plain": [
       "0.0    8365\n",
       "1.0     444\n",
       "Name: csat_score, dtype: int64"
      ]
     },
     "execution_count": 21,
     "metadata": {},
     "output_type": "execute_result"
    }
   ],
   "source": [
    "df_train.csat_score.value_counts()"
   ]
  },
  {
   "cell_type": "code",
   "execution_count": null,
   "metadata": {},
   "outputs": [],
   "source": []
  }
 ],
 "metadata": {
  "kernelspec": {
   "display_name": "Python 3",
   "language": "python",
   "name": "python3"
  },
  "language_info": {
   "codemirror_mode": {
    "name": "ipython",
    "version": 3
   },
   "file_extension": ".py",
   "mimetype": "text/x-python",
   "name": "python",
   "nbconvert_exporter": "python",
   "pygments_lexer": "ipython3",
   "version": "3.6.5"
  }
 },
 "nbformat": 4,
 "nbformat_minor": 2
}
