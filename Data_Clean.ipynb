{
 "cells": [
  {
   "cell_type": "code",
   "execution_count": 48,
   "metadata": {},
   "outputs": [],
   "source": [
    "import pandas as pd\n",
    "import numpy as np"
   ]
  },
  {
   "cell_type": "code",
   "execution_count": 49,
   "metadata": {
    "scrolled": true
   },
   "outputs": [],
   "source": [
    "df = pd.read_excel(\"aditya_Data_Train_test2.xlsx\", sheet_name=\"Sheet3\")"
   ]
  },
  {
   "cell_type": "code",
   "execution_count": 50,
   "metadata": {},
   "outputs": [
    {
     "data": {
      "text/html": [
       "<div>\n",
       "<style scoped>\n",
       "    .dataframe tbody tr th:only-of-type {\n",
       "        vertical-align: middle;\n",
       "    }\n",
       "\n",
       "    .dataframe tbody tr th {\n",
       "        vertical-align: top;\n",
       "    }\n",
       "\n",
       "    .dataframe thead th {\n",
       "        text-align: right;\n",
       "    }\n",
       "</style>\n",
       "<table border=\"1\" class=\"dataframe\">\n",
       "  <thead>\n",
       "    <tr style=\"text-align: right;\">\n",
       "      <th></th>\n",
       "      <th>CONTENT</th>\n",
       "      <th>Category</th>\n",
       "    </tr>\n",
       "  </thead>\n",
       "  <tbody>\n",
       "    <tr>\n",
       "      <th>0</th>\n",
       "      <td>'@NestleIndiaCare Deepak aggarwal Mob: 9811480...</td>\n",
       "      <td>Query</td>\n",
       "    </tr>\n",
       "    <tr>\n",
       "      <th>1</th>\n",
       "      <td>#NewIndia_DowryFree @NestleMunch  @PawanKalyan...</td>\n",
       "      <td>Junk</td>\n",
       "    </tr>\n",
       "    <tr>\n",
       "      <th>2</th>\n",
       "      <td>'@NestleIndiaCare who delivered the pack to me...</td>\n",
       "      <td>Good_Experience</td>\n",
       "    </tr>\n",
       "    <tr>\n",
       "      <th>3</th>\n",
       "      <td>'@NestleIndiaCare and promised to come back to...</td>\n",
       "      <td>Query</td>\n",
       "    </tr>\n",
       "    <tr>\n",
       "      <th>4</th>\n",
       "      <td>'@NestleIndiaCare people in Delhi don't drink ...</td>\n",
       "      <td>Suggestion</td>\n",
       "    </tr>\n",
       "  </tbody>\n",
       "</table>\n",
       "</div>"
      ],
      "text/plain": [
       "                                             CONTENT         Category\n",
       "0  '@NestleIndiaCare Deepak aggarwal Mob: 9811480...            Query\n",
       "1  #NewIndia_DowryFree @NestleMunch  @PawanKalyan...             Junk\n",
       "2  '@NestleIndiaCare who delivered the pack to me...  Good_Experience\n",
       "3  '@NestleIndiaCare and promised to come back to...            Query\n",
       "4  '@NestleIndiaCare people in Delhi don't drink ...       Suggestion"
      ]
     },
     "execution_count": 50,
     "metadata": {},
     "output_type": "execute_result"
    }
   ],
   "source": [
    "df.head()"
   ]
  },
  {
   "cell_type": "code",
   "execution_count": 17,
   "metadata": {},
   "outputs": [],
   "source": [
    "df = df[~df.WORKFLOW_CLASSIFICATION.isna()]"
   ]
  },
  {
   "cell_type": "code",
   "execution_count": 51,
   "metadata": {},
   "outputs": [],
   "source": [
    "df[\"content_new\"] = \" \""
   ]
  },
  {
   "cell_type": "code",
   "execution_count": 52,
   "metadata": {},
   "outputs": [
    {
     "data": {
      "text/plain": [
       "\"'@NestleIndiaCare Deepak aggarwal Mob: 9811480414'\""
      ]
     },
     "execution_count": 52,
     "metadata": {},
     "output_type": "execute_result"
    }
   ],
   "source": [
    "str(df.iloc[0,0])"
   ]
  },
  {
   "cell_type": "code",
   "execution_count": 53,
   "metadata": {},
   "outputs": [
    {
     "data": {
      "text/plain": [
       "'@NestleIndiaCare Deepak aggarwal Mob: 9811480414'"
      ]
     },
     "execution_count": 53,
     "metadata": {},
     "output_type": "execute_result"
    }
   ],
   "source": [
    "str(df.iloc[0,0]).replace(\"'\",\"\")"
   ]
  },
  {
   "cell_type": "code",
   "execution_count": 58,
   "metadata": {
    "scrolled": true
   },
   "outputs": [
    {
     "data": {
      "text/html": [
       "<div>\n",
       "<style scoped>\n",
       "    .dataframe tbody tr th:only-of-type {\n",
       "        vertical-align: middle;\n",
       "    }\n",
       "\n",
       "    .dataframe tbody tr th {\n",
       "        vertical-align: top;\n",
       "    }\n",
       "\n",
       "    .dataframe thead th {\n",
       "        text-align: right;\n",
       "    }\n",
       "</style>\n",
       "<table border=\"1\" class=\"dataframe\">\n",
       "  <thead>\n",
       "    <tr style=\"text-align: right;\">\n",
       "      <th></th>\n",
       "      <th>CONTENT</th>\n",
       "      <th>Category</th>\n",
       "      <th>content_new</th>\n",
       "    </tr>\n",
       "  </thead>\n",
       "  <tbody>\n",
       "    <tr>\n",
       "      <th>0</th>\n",
       "      <td>'@NestleIndiaCare Deepak aggarwal Mob: 9811480...</td>\n",
       "      <td>Query</td>\n",
       "      <td>__label__Query @NestleIndiaCare Deepak aggarwa...</td>\n",
       "    </tr>\n",
       "    <tr>\n",
       "      <th>1</th>\n",
       "      <td>#NewIndia_DowryFree @NestleMunch  @PawanKalyan...</td>\n",
       "      <td>Junk</td>\n",
       "      <td>__label__Junk #NewIndia_DowryFree @NestleMunch...</td>\n",
       "    </tr>\n",
       "    <tr>\n",
       "      <th>2</th>\n",
       "      <td>'@NestleIndiaCare who delivered the pack to me...</td>\n",
       "      <td>Good_Experience</td>\n",
       "      <td>__label__Good_Experience @NestleIndiaCare who ...</td>\n",
       "    </tr>\n",
       "    <tr>\n",
       "      <th>3</th>\n",
       "      <td>'@NestleIndiaCare and promised to come back to...</td>\n",
       "      <td>Query</td>\n",
       "      <td>__label__Query @NestleIndiaCare and promised t...</td>\n",
       "    </tr>\n",
       "    <tr>\n",
       "      <th>4</th>\n",
       "      <td>'@NestleIndiaCare people in Delhi don't drink ...</td>\n",
       "      <td>Suggestion</td>\n",
       "      <td>__label__Suggestion @NestleIndiaCare people in...</td>\n",
       "    </tr>\n",
       "  </tbody>\n",
       "</table>\n",
       "</div>"
      ],
      "text/plain": [
       "                                             CONTENT         Category  \\\n",
       "0  '@NestleIndiaCare Deepak aggarwal Mob: 9811480...            Query   \n",
       "1  #NewIndia_DowryFree @NestleMunch  @PawanKalyan...             Junk   \n",
       "2  '@NestleIndiaCare who delivered the pack to me...  Good_Experience   \n",
       "3  '@NestleIndiaCare and promised to come back to...            Query   \n",
       "4  '@NestleIndiaCare people in Delhi don't drink ...       Suggestion   \n",
       "\n",
       "                                         content_new  \n",
       "0  __label__Query @NestleIndiaCare Deepak aggarwa...  \n",
       "1  __label__Junk #NewIndia_DowryFree @NestleMunch...  \n",
       "2  __label__Good_Experience @NestleIndiaCare who ...  \n",
       "3  __label__Query @NestleIndiaCare and promised t...  \n",
       "4  __label__Suggestion @NestleIndiaCare people in...  "
      ]
     },
     "execution_count": 58,
     "metadata": {},
     "output_type": "execute_result"
    }
   ],
   "source": [
    "df.head()"
   ]
  },
  {
   "cell_type": "code",
   "execution_count": 59,
   "metadata": {},
   "outputs": [
    {
     "data": {
      "text/plain": [
       "(59944, 3)"
      ]
     },
     "execution_count": 59,
     "metadata": {},
     "output_type": "execute_result"
    }
   ],
   "source": [
    "df.shape"
   ]
  },
  {
   "cell_type": "code",
   "execution_count": 56,
   "metadata": {},
   "outputs": [],
   "source": [
    "ix = df.columns.get_loc(\"CONTENT\")\n",
    "ix1 = df.columns.get_loc(\"Category\")\n",
    "ix2 = df.columns.get_loc(\"content_new\")\n",
    "for i in range(0,len(df)):\n",
    "    df.iloc[i,ix2] = \"__label__\" + df.iloc[i,ix1] + \" \" + str(df.iloc[i,ix]).replace(\"'\",\"\")"
   ]
  },
  {
   "cell_type": "code",
   "execution_count": 60,
   "metadata": {},
   "outputs": [
    {
     "data": {
      "text/html": [
       "<div>\n",
       "<style scoped>\n",
       "    .dataframe tbody tr th:only-of-type {\n",
       "        vertical-align: middle;\n",
       "    }\n",
       "\n",
       "    .dataframe tbody tr th {\n",
       "        vertical-align: top;\n",
       "    }\n",
       "\n",
       "    .dataframe thead th {\n",
       "        text-align: right;\n",
       "    }\n",
       "</style>\n",
       "<table border=\"1\" class=\"dataframe\">\n",
       "  <thead>\n",
       "    <tr style=\"text-align: right;\">\n",
       "      <th></th>\n",
       "      <th>CONTENT</th>\n",
       "      <th>Category</th>\n",
       "      <th>content_new</th>\n",
       "    </tr>\n",
       "  </thead>\n",
       "  <tbody>\n",
       "    <tr>\n",
       "      <th>0</th>\n",
       "      <td>'@NestleIndiaCare Deepak aggarwal Mob: 9811480...</td>\n",
       "      <td>Query</td>\n",
       "      <td>__label__Query @NestleIndiaCare Deepak aggarwa...</td>\n",
       "    </tr>\n",
       "    <tr>\n",
       "      <th>1</th>\n",
       "      <td>#NewIndia_DowryFree @NestleMunch  @PawanKalyan...</td>\n",
       "      <td>Junk</td>\n",
       "      <td>__label__Junk #NewIndia_DowryFree @NestleMunch...</td>\n",
       "    </tr>\n",
       "    <tr>\n",
       "      <th>2</th>\n",
       "      <td>'@NestleIndiaCare who delivered the pack to me...</td>\n",
       "      <td>Good_Experience</td>\n",
       "      <td>__label__Good_Experience @NestleIndiaCare who ...</td>\n",
       "    </tr>\n",
       "    <tr>\n",
       "      <th>3</th>\n",
       "      <td>'@NestleIndiaCare and promised to come back to...</td>\n",
       "      <td>Query</td>\n",
       "      <td>__label__Query @NestleIndiaCare and promised t...</td>\n",
       "    </tr>\n",
       "    <tr>\n",
       "      <th>4</th>\n",
       "      <td>'@NestleIndiaCare people in Delhi don't drink ...</td>\n",
       "      <td>Suggestion</td>\n",
       "      <td>__label__Suggestion @NestleIndiaCare people in...</td>\n",
       "    </tr>\n",
       "  </tbody>\n",
       "</table>\n",
       "</div>"
      ],
      "text/plain": [
       "                                             CONTENT         Category  \\\n",
       "0  '@NestleIndiaCare Deepak aggarwal Mob: 9811480...            Query   \n",
       "1  #NewIndia_DowryFree @NestleMunch  @PawanKalyan...             Junk   \n",
       "2  '@NestleIndiaCare who delivered the pack to me...  Good_Experience   \n",
       "3  '@NestleIndiaCare and promised to come back to...            Query   \n",
       "4  '@NestleIndiaCare people in Delhi don't drink ...       Suggestion   \n",
       "\n",
       "                                         content_new  \n",
       "0  __label__Query @NestleIndiaCare Deepak aggarwa...  \n",
       "1  __label__Junk #NewIndia_DowryFree @NestleMunch...  \n",
       "2  __label__Good_Experience @NestleIndiaCare who ...  \n",
       "3  __label__Query @NestleIndiaCare and promised t...  \n",
       "4  __label__Suggestion @NestleIndiaCare people in...  "
      ]
     },
     "execution_count": 60,
     "metadata": {},
     "output_type": "execute_result"
    }
   ],
   "source": [
    "df.head()"
   ]
  },
  {
   "cell_type": "code",
   "execution_count": 61,
   "metadata": {},
   "outputs": [],
   "source": [
    "df = df.drop([\"CONTENT\"], axis = 1)"
   ]
  },
  {
   "cell_type": "code",
   "execution_count": 66,
   "metadata": {},
   "outputs": [
    {
     "data": {
      "text/html": [
       "<div>\n",
       "<style scoped>\n",
       "    .dataframe tbody tr th:only-of-type {\n",
       "        vertical-align: middle;\n",
       "    }\n",
       "\n",
       "    .dataframe tbody tr th {\n",
       "        vertical-align: top;\n",
       "    }\n",
       "\n",
       "    .dataframe thead th {\n",
       "        text-align: right;\n",
       "    }\n",
       "</style>\n",
       "<table border=\"1\" class=\"dataframe\">\n",
       "  <thead>\n",
       "    <tr style=\"text-align: right;\">\n",
       "      <th></th>\n",
       "      <th>Category</th>\n",
       "      <th>content_new</th>\n",
       "    </tr>\n",
       "  </thead>\n",
       "  <tbody>\n",
       "    <tr>\n",
       "      <th>0</th>\n",
       "      <td>Query</td>\n",
       "      <td>__label__Query @NestleIndiaCare Deepak aggarwa...</td>\n",
       "    </tr>\n",
       "    <tr>\n",
       "      <th>1</th>\n",
       "      <td>Junk</td>\n",
       "      <td>__label__Junk #NewIndia_DowryFree @NestleMunch...</td>\n",
       "    </tr>\n",
       "    <tr>\n",
       "      <th>2</th>\n",
       "      <td>Good_Experience</td>\n",
       "      <td>__label__Good_Experience @NestleIndiaCare who ...</td>\n",
       "    </tr>\n",
       "    <tr>\n",
       "      <th>3</th>\n",
       "      <td>Query</td>\n",
       "      <td>__label__Query @NestleIndiaCare and promised t...</td>\n",
       "    </tr>\n",
       "    <tr>\n",
       "      <th>4</th>\n",
       "      <td>Suggestion</td>\n",
       "      <td>__label__Suggestion @NestleIndiaCare people in...</td>\n",
       "    </tr>\n",
       "  </tbody>\n",
       "</table>\n",
       "</div>"
      ],
      "text/plain": [
       "          Category                                        content_new\n",
       "0            Query  __label__Query @NestleIndiaCare Deepak aggarwa...\n",
       "1             Junk  __label__Junk #NewIndia_DowryFree @NestleMunch...\n",
       "2  Good_Experience  __label__Good_Experience @NestleIndiaCare who ...\n",
       "3            Query  __label__Query @NestleIndiaCare and promised t...\n",
       "4       Suggestion  __label__Suggestion @NestleIndiaCare people in..."
      ]
     },
     "execution_count": 66,
     "metadata": {},
     "output_type": "execute_result"
    }
   ],
   "source": [
    "df.head()"
   ]
  },
  {
   "cell_type": "code",
   "execution_count": 69,
   "metadata": {},
   "outputs": [],
   "source": [
    "df.to_csv(\"df_final3.csv\", header=True, index=False)#, sep=' ', mode='a')"
   ]
  },
  {
   "cell_type": "code",
   "execution_count": 68,
   "metadata": {},
   "outputs": [
    {
     "data": {
      "text/plain": [
       "Index(['Category', 'content_new'], dtype='object')"
      ]
     },
     "execution_count": 68,
     "metadata": {},
     "output_type": "execute_result"
    }
   ],
   "source": [
    "df.columns"
   ]
  },
  {
   "cell_type": "code",
   "execution_count": null,
   "metadata": {},
   "outputs": [],
   "source": []
  },
  {
   "cell_type": "code",
   "execution_count": 13,
   "metadata": {},
   "outputs": [],
   "source": [
    "df.to_csv(\"df_final_2_nona.csv\", index = False)"
   ]
  },
  {
   "cell_type": "code",
   "execution_count": null,
   "metadata": {},
   "outputs": [],
   "source": []
  },
  {
   "cell_type": "code",
   "execution_count": 19,
   "metadata": {},
   "outputs": [
    {
     "data": {
      "text/html": [
       "<div>\n",
       "<style scoped>\n",
       "    .dataframe tbody tr th:only-of-type {\n",
       "        vertical-align: middle;\n",
       "    }\n",
       "\n",
       "    .dataframe tbody tr th {\n",
       "        vertical-align: top;\n",
       "    }\n",
       "\n",
       "    .dataframe thead th {\n",
       "        text-align: right;\n",
       "    }\n",
       "</style>\n",
       "<table border=\"1\" class=\"dataframe\">\n",
       "  <thead>\n",
       "    <tr style=\"text-align: right;\">\n",
       "      <th></th>\n",
       "      <th>CONTENT</th>\n",
       "      <th>WORKFLOW_CLASSIFICATION</th>\n",
       "    </tr>\n",
       "  </thead>\n",
       "  <tbody>\n",
       "    <tr>\n",
       "      <th>0</th>\n",
       "      <td>'@AGG2029 Hi! Thank you for sharing your conta...</td>\n",
       "      <td>SALES &amp; DISTRIBUTION</td>\n",
       "    </tr>\n",
       "    <tr>\n",
       "      <th>1</th>\n",
       "      <td>'@NestleIndiaCare Deepak aggarwal Mob: 9811480...</td>\n",
       "      <td>SALES &amp; DISTRIBUTION</td>\n",
       "    </tr>\n",
       "    <tr>\n",
       "      <th>2</th>\n",
       "      <td>'@AGG2029 Hi, we would like to get in touch wi...</td>\n",
       "      <td>Product Mention</td>\n",
       "    </tr>\n",
       "    <tr>\n",
       "      <th>3</th>\n",
       "      <td>Ok great</td>\n",
       "      <td>Product Mention</td>\n",
       "    </tr>\n",
       "    <tr>\n",
       "      <th>4</th>\n",
       "      <td>#NewIndia_DowryFree @NestleMunch  @PawanKalyan...</td>\n",
       "      <td>Junk</td>\n",
       "    </tr>\n",
       "  </tbody>\n",
       "</table>\n",
       "</div>"
      ],
      "text/plain": [
       "                                             CONTENT WORKFLOW_CLASSIFICATION\n",
       "0  '@AGG2029 Hi! Thank you for sharing your conta...    SALES & DISTRIBUTION\n",
       "1  '@NestleIndiaCare Deepak aggarwal Mob: 9811480...    SALES & DISTRIBUTION\n",
       "2  '@AGG2029 Hi, we would like to get in touch wi...         Product Mention\n",
       "3                                           Ok great         Product Mention\n",
       "4  #NewIndia_DowryFree @NestleMunch  @PawanKalyan...                    Junk"
      ]
     },
     "execution_count": 19,
     "metadata": {},
     "output_type": "execute_result"
    }
   ],
   "source": [
    "df.head()"
   ]
  },
  {
   "cell_type": "code",
   "execution_count": 20,
   "metadata": {},
   "outputs": [
    {
     "data": {
      "text/plain": [
       "'@AGG2029 Hi! Thank you for sharing your contact details. Our team will get in touch with you.'"
      ]
     },
     "execution_count": 20,
     "metadata": {},
     "output_type": "execute_result"
    }
   ],
   "source": [
    "str(df.iloc[0,0]).replace(\"'\",\"\")"
   ]
  },
  {
   "cell_type": "code",
   "execution_count": 21,
   "metadata": {},
   "outputs": [],
   "source": [
    "for i in range(0,len(df)):\n",
    "    df.iloc[i,0] = str(df.iloc[i,0]).replace(\"'\",\"\")"
   ]
  },
  {
   "cell_type": "code",
   "execution_count": 30,
   "metadata": {},
   "outputs": [],
   "source": [
    "classes = list(set(df.WORKFLOW_CLASSIFICATION.tolist()))"
   ]
  },
  {
   "cell_type": "code",
   "execution_count": 32,
   "metadata": {},
   "outputs": [],
   "source": [
    "classes_i = []\n",
    "for i in range(0,len(classes)):\n",
    "    classes_i.append(i)"
   ]
  },
  {
   "cell_type": "code",
   "execution_count": 31,
   "metadata": {},
   "outputs": [
    {
     "data": {
      "text/plain": [
       "31"
      ]
     },
     "execution_count": 31,
     "metadata": {},
     "output_type": "execute_result"
    }
   ],
   "source": [
    "len(classes)"
   ]
  },
  {
   "cell_type": "code",
   "execution_count": 35,
   "metadata": {},
   "outputs": [],
   "source": [
    "ix = df.columns.get_loc(\"WORKFLOW_CLASSIFICATION\")\n",
    "for i in range(0,len(df)):\n",
    "    df.iloc[i,ix] = classes.index(df.iloc[i,ix])"
   ]
  },
  {
   "cell_type": "code",
   "execution_count": 37,
   "metadata": {},
   "outputs": [
    {
     "data": {
      "text/html": [
       "<div>\n",
       "<style scoped>\n",
       "    .dataframe tbody tr th:only-of-type {\n",
       "        vertical-align: middle;\n",
       "    }\n",
       "\n",
       "    .dataframe tbody tr th {\n",
       "        vertical-align: top;\n",
       "    }\n",
       "\n",
       "    .dataframe thead th {\n",
       "        text-align: right;\n",
       "    }\n",
       "</style>\n",
       "<table border=\"1\" class=\"dataframe\">\n",
       "  <thead>\n",
       "    <tr style=\"text-align: right;\">\n",
       "      <th></th>\n",
       "      <th>CONTENT</th>\n",
       "      <th>WORKFLOW_CLASSIFICATION</th>\n",
       "    </tr>\n",
       "  </thead>\n",
       "  <tbody>\n",
       "    <tr>\n",
       "      <th>0</th>\n",
       "      <td>@AGG2029 Hi! Thank you for sharing your contac...</td>\n",
       "      <td>29</td>\n",
       "    </tr>\n",
       "    <tr>\n",
       "      <th>1</th>\n",
       "      <td>@NestleIndiaCare Deepak aggarwal Mob: 9811480414</td>\n",
       "      <td>29</td>\n",
       "    </tr>\n",
       "    <tr>\n",
       "      <th>2</th>\n",
       "      <td>@AGG2029 Hi, we would like to get in touch wit...</td>\n",
       "      <td>14</td>\n",
       "    </tr>\n",
       "    <tr>\n",
       "      <th>3</th>\n",
       "      <td>Ok great</td>\n",
       "      <td>14</td>\n",
       "    </tr>\n",
       "    <tr>\n",
       "      <th>4</th>\n",
       "      <td>#NewIndia_DowryFree @NestleMunch  @PawanKalyan...</td>\n",
       "      <td>7</td>\n",
       "    </tr>\n",
       "  </tbody>\n",
       "</table>\n",
       "</div>"
      ],
      "text/plain": [
       "                                             CONTENT WORKFLOW_CLASSIFICATION\n",
       "0  @AGG2029 Hi! Thank you for sharing your contac...                      29\n",
       "1   @NestleIndiaCare Deepak aggarwal Mob: 9811480414                      29\n",
       "2  @AGG2029 Hi, we would like to get in touch wit...                      14\n",
       "3                                           Ok great                      14\n",
       "4  #NewIndia_DowryFree @NestleMunch  @PawanKalyan...                       7"
      ]
     },
     "execution_count": 37,
     "metadata": {},
     "output_type": "execute_result"
    }
   ],
   "source": [
    "df.head()"
   ]
  },
  {
   "cell_type": "code",
   "execution_count": 38,
   "metadata": {},
   "outputs": [],
   "source": [
    "df.to_csv(\"df_cnn.csv\", index = False)"
   ]
  },
  {
   "cell_type": "code",
   "execution_count": null,
   "metadata": {},
   "outputs": [],
   "source": []
  },
  {
   "cell_type": "code",
   "execution_count": null,
   "metadata": {},
   "outputs": [],
   "source": []
  },
  {
   "cell_type": "code",
   "execution_count": null,
   "metadata": {},
   "outputs": [],
   "source": []
  }
 ],
 "metadata": {
  "kernelspec": {
   "display_name": "Python 3",
   "language": "python",
   "name": "python3"
  },
  "language_info": {
   "codemirror_mode": {
    "name": "ipython",
    "version": 3
   },
   "file_extension": ".py",
   "mimetype": "text/x-python",
   "name": "python",
   "nbconvert_exporter": "python",
   "pygments_lexer": "ipython3",
   "version": "3.6.4"
  }
 },
 "nbformat": 4,
 "nbformat_minor": 2
}
